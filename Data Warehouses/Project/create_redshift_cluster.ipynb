{
 "cells": [
  {
   "cell_type": "code",
   "execution_count": 18,
   "source": [
    "import pandas as pd\r\n",
    "import boto3\r\n",
    "import json"
   ],
   "outputs": [],
   "metadata": {}
  },
  {
   "cell_type": "code",
   "execution_count": 19,
   "source": [
    "\"\"\"\r\n",
    "\r\n",
    "Description: Get all parameters from dwh.cfg file\r\n",
    "\r\n",
    "\"\"\"\r\n",
    "\r\n",
    "import configparser\r\n",
    "config = configparser.ConfigParser()\r\n",
    "config.read_file(open('dwh.cfg'))\r\n",
    "\r\n",
    "KEY                    = config.get('AWS','KEY')\r\n",
    "SECRET                 = config.get('AWS','SECRET')\r\n",
    "\r\n",
    "DWH_CLUSTER_TYPE       = config.get(\"DWH\",\"DWH_CLUSTER_TYPE\")\r\n",
    "DWH_NUM_NODES          = config.get(\"DWH\",\"DWH_NUM_NODES\")\r\n",
    "DWH_NODE_TYPE          = config.get(\"DWH\",\"DWH_NODE_TYPE\")\r\n",
    "\r\n",
    "DWH_CLUSTER_IDENTIFIER = config.get(\"DWH\",\"DWH_CLUSTER_IDENTIFIER\")\r\n",
    "DWH_DB                 = config.get(\"DWH\",\"DWH_DB\")\r\n",
    "DWH_DB_USER            = config.get(\"DWH\",\"DWH_DB_USER\")\r\n",
    "DWH_DB_PASSWORD        = config.get(\"DWH\",\"DWH_DB_PASSWORD\")\r\n",
    "DWH_PORT               = config.get(\"DWH\",\"DWH_PORT\")\r\n",
    "\r\n",
    "DWH_IAM_ROLE_NAME      = config.get(\"DWH\", \"DWH_IAM_ROLE_NAME\")"
   ],
   "outputs": [],
   "metadata": {}
  },
  {
   "cell_type": "code",
   "execution_count": 20,
   "source": [
    "\"\"\"\r\n",
    "\r\n",
    "Description: Create IAM and Redshift clients\r\n",
    "\r\n",
    "\"\"\"\r\n",
    "\r\n",
    "iam = boto3.client('iam',aws_access_key_id=KEY,\r\n",
    "                     aws_secret_access_key=SECRET,\r\n",
    "                     region_name='us-west-2'\r\n",
    "                  )\r\n",
    "\r\n",
    "redshift = boto3.client('redshift',\r\n",
    "                       region_name=\"us-west-2\",\r\n",
    "                       aws_access_key_id=KEY,\r\n",
    "                       aws_secret_access_key=SECRET\r\n",
    "                       )"
   ],
   "outputs": [],
   "metadata": {}
  },
  {
   "cell_type": "code",
   "execution_count": 21,
   "source": [
    "\"\"\"\r\n",
    "\r\n",
    "Description: Create and attach IAM role\r\n",
    "\r\n",
    "\"\"\"\r\n",
    "\r\n",
    "from botocore.exceptions import ClientError\r\n",
    "\r\n",
    "# Create the role\r\n",
    "try:\r\n",
    "    print(\"1.1 Creating a new IAM Role\") \r\n",
    "    dwhRole = iam.create_role(\r\n",
    "        Path='/',\r\n",
    "        RoleName=DWH_IAM_ROLE_NAME,\r\n",
    "        Description = \"Allows Redshift clusters to call AWS services on your behalf.\",\r\n",
    "        AssumeRolePolicyDocument=json.dumps(\r\n",
    "            {'Statement': [{'Action': 'sts:AssumeRole',\r\n",
    "            'Effect': 'Allow',\r\n",
    "            'Principal': {'Service': 'redshift.amazonaws.com'}}],\r\n",
    "            'Version': '2012-10-17'})\r\n",
    "    )    \r\n",
    "except Exception as e:\r\n",
    "    print(e)\r\n",
    "\r\n",
    "# Attach the role\r\n",
    "\r\n",
    "iam.attach_role_policy(RoleName=DWH_IAM_ROLE_NAME,\r\n",
    "                    PolicyArn=\"arn:aws:iam::aws:policy/AmazonS3ReadOnlyAccess\"\r\n",
    "                    )['ResponseMetadata']['HTTPStatusCode']\r\n",
    "\r\n",
    "roleArn = iam.get_role(RoleName=DWH_IAM_ROLE_NAME)['Role']['Arn']"
   ],
   "outputs": [
    {
     "output_type": "stream",
     "name": "stdout",
     "text": [
      "1.1 Creating a new IAM Role\n"
     ]
    }
   ],
   "metadata": {}
  },
  {
   "cell_type": "code",
   "execution_count": 22,
   "source": [
    "\"\"\"\r\n",
    "\r\n",
    "Description: Create the Redshift cluster\r\n",
    "\r\n",
    "\"\"\"\r\n",
    "\r\n",
    "try:\r\n",
    "    response = redshift.create_cluster(        \r\n",
    "        # add parameters for hardware\r\n",
    "        ClusterType=DWH_CLUSTER_TYPE,\r\n",
    "        NodeType=DWH_NODE_TYPE,\r\n",
    "        NumberOfNodes=int(DWH_NUM_NODES),\r\n",
    "\r\n",
    "        # add parameters for identifiers & credentials\r\n",
    "        DBName=DWH_DB,\r\n",
    "        ClusterIdentifier=DWH_CLUSTER_IDENTIFIER,\r\n",
    "        MasterUsername=DWH_DB_USER,\r\n",
    "        MasterUserPassword=DWH_DB_PASSWORD,\r\n",
    "        \r\n",
    "        # add parameter for role (to allow s3 access)\r\n",
    "        IamRoles=[roleArn]\r\n",
    "    )\r\n",
    "except Exception as e:\r\n",
    "    print(e)"
   ],
   "outputs": [],
   "metadata": {}
  },
  {
   "cell_type": "code",
   "execution_count": 26,
   "source": [
    "\"\"\"\r\n",
    "\r\n",
    "Description: Describe* the cluster to see its status\r\n",
    "Run this block several times until the cluster status becomes `Available`\r\n",
    "\r\n",
    "\"\"\"\r\n",
    "\r\n",
    "def prettyRedshiftProps(props):\r\n",
    "    pd.set_option('display.max_colwidth', -1)\r\n",
    "    keysToShow = [\"ClusterIdentifier\", \"NodeType\", \"ClusterStatus\", \"MasterUsername\", \"DBName\", \"Endpoint\", \"NumberOfNodes\", 'VpcId']\r\n",
    "    x = [(k, v) for k,v in props.items() if k in keysToShow]\r\n",
    "    return pd.DataFrame(data=x, columns=[\"Key\", \"Value\"])\r\n",
    "\r\n",
    "myClusterProps = redshift.describe_clusters(ClusterIdentifier=DWH_CLUSTER_IDENTIFIER)['Clusters'][0]\r\n",
    "prettyRedshiftProps(myClusterProps)"
   ],
   "outputs": [
    {
     "output_type": "stream",
     "name": "stderr",
     "text": [
      "C:\\Users\\pgrag\\AppData\\Local\\Temp/ipykernel_10108/1486298072.py:9: FutureWarning: Passing a negative integer is deprecated in version 1.0 and will not be supported in future version. Instead, use None to not limit the column width.\n",
      "  pd.set_option('display.max_colwidth', -1)\n"
     ]
    },
    {
     "output_type": "execute_result",
     "data": {
      "text/html": [
       "<div>\n",
       "<style scoped>\n",
       "    .dataframe tbody tr th:only-of-type {\n",
       "        vertical-align: middle;\n",
       "    }\n",
       "\n",
       "    .dataframe tbody tr th {\n",
       "        vertical-align: top;\n",
       "    }\n",
       "\n",
       "    .dataframe thead th {\n",
       "        text-align: right;\n",
       "    }\n",
       "</style>\n",
       "<table border=\"1\" class=\"dataframe\">\n",
       "  <thead>\n",
       "    <tr style=\"text-align: right;\">\n",
       "      <th></th>\n",
       "      <th>Key</th>\n",
       "      <th>Value</th>\n",
       "    </tr>\n",
       "  </thead>\n",
       "  <tbody>\n",
       "    <tr>\n",
       "      <th>0</th>\n",
       "      <td>ClusterIdentifier</td>\n",
       "      <td>dwhcluster</td>\n",
       "    </tr>\n",
       "    <tr>\n",
       "      <th>1</th>\n",
       "      <td>NodeType</td>\n",
       "      <td>dc2.large</td>\n",
       "    </tr>\n",
       "    <tr>\n",
       "      <th>2</th>\n",
       "      <td>ClusterStatus</td>\n",
       "      <td>creating</td>\n",
       "    </tr>\n",
       "    <tr>\n",
       "      <th>3</th>\n",
       "      <td>MasterUsername</td>\n",
       "      <td>dwhuser</td>\n",
       "    </tr>\n",
       "    <tr>\n",
       "      <th>4</th>\n",
       "      <td>DBName</td>\n",
       "      <td>pg-dwh</td>\n",
       "    </tr>\n",
       "    <tr>\n",
       "      <th>5</th>\n",
       "      <td>VpcId</td>\n",
       "      <td>vpc-0e789f9236b30837a</td>\n",
       "    </tr>\n",
       "    <tr>\n",
       "      <th>6</th>\n",
       "      <td>NumberOfNodes</td>\n",
       "      <td>4</td>\n",
       "    </tr>\n",
       "  </tbody>\n",
       "</table>\n",
       "</div>"
      ],
      "text/plain": [
       "                 Key                  Value\n",
       "0  ClusterIdentifier  dwhcluster           \n",
       "1  NodeType           dc2.large            \n",
       "2  ClusterStatus      creating             \n",
       "3  MasterUsername     dwhuser              \n",
       "4  DBName             pg-dwh               \n",
       "5  VpcId              vpc-0e789f9236b30837a\n",
       "6  NumberOfNodes      4                    "
      ]
     },
     "metadata": {},
     "execution_count": 26
    }
   ],
   "metadata": {}
  }
 ],
 "metadata": {
  "orig_nbformat": 4,
  "language_info": {
   "name": "python",
   "version": "3.8.8",
   "mimetype": "text/x-python",
   "codemirror_mode": {
    "name": "ipython",
    "version": 3
   },
   "pygments_lexer": "ipython3",
   "nbconvert_exporter": "python",
   "file_extension": ".py"
  },
  "kernelspec": {
   "name": "python3",
   "display_name": "Python 3.8.8 64-bit ('base': conda)"
  },
  "interpreter": {
   "hash": "e254ffc773357790aa04a01fb60c7c6721ec5a0c6f1763bcb2e925b3d380624c"
  }
 },
 "nbformat": 4,
 "nbformat_minor": 2
}