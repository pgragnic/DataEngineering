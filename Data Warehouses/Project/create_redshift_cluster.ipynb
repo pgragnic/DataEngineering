{
 "cells": [
  {
   "cell_type": "code",
   "execution_count": 1,
   "source": [
    "import pandas as pd\r\n",
    "import boto3\r\n",
    "import json"
   ],
   "outputs": [],
   "metadata": {}
  },
  {
   "cell_type": "code",
   "execution_count": 2,
   "source": [
    "\"\"\"\r\n",
    "\r\n",
    "Description: Get all parameters from dwh.cfg file\r\n",
    "\r\n",
    "\"\"\"\r\n",
    "\r\n",
    "import configparser\r\n",
    "config = configparser.ConfigParser()\r\n",
    "config.read_file(open('dwh.cfg'))\r\n",
    "\r\n",
    "KEY                    = config.get('AWS','KEY')\r\n",
    "SECRET                 = config.get('AWS','SECRET')\r\n",
    "\r\n",
    "DWH_CLUSTER_TYPE       = config.get(\"DWH\",\"DWH_CLUSTER_TYPE\")\r\n",
    "DWH_NUM_NODES          = config.get(\"DWH\",\"DWH_NUM_NODES\")\r\n",
    "DWH_NODE_TYPE          = config.get(\"DWH\",\"DWH_NODE_TYPE\")\r\n",
    "\r\n",
    "DWH_CLUSTER_IDENTIFIER = config.get(\"DWH\",\"DWH_CLUSTER_IDENTIFIER\")\r\n",
    "DWH_DB                 = config.get(\"DWH\",\"DWH_DB\")\r\n",
    "DWH_DB_USER            = config.get(\"DWH\",\"DWH_DB_USER\")\r\n",
    "DWH_DB_PASSWORD        = config.get(\"DWH\",\"DWH_DB_PASSWORD\")\r\n",
    "DWH_PORT               = config.get(\"DWH\",\"DWH_PORT\")\r\n",
    "\r\n",
    "DWH_IAM_ROLE_NAME      = config.get(\"DWH\", \"DWH_IAM_ROLE_NAME\")"
   ],
   "outputs": [],
   "metadata": {}
  },
  {
   "cell_type": "code",
   "execution_count": 3,
   "source": [
    "\"\"\"\r\n",
    "\r\n",
    "Description: Create IAM and Redshift clients\r\n",
    "\r\n",
    "\"\"\"\r\n",
    "\r\n",
    "iam = boto3.client('iam',aws_access_key_id=KEY,\r\n",
    "                     aws_secret_access_key=SECRET,\r\n",
    "                     region_name='us-west-2'\r\n",
    "                  )\r\n",
    "\r\n",
    "redshift = boto3.client('redshift',\r\n",
    "                       region_name=\"us-west-2\",\r\n",
    "                       aws_access_key_id=KEY,\r\n",
    "                       aws_secret_access_key=SECRET\r\n",
    "                       )"
   ],
   "outputs": [],
   "metadata": {}
  },
  {
   "cell_type": "code",
   "execution_count": 4,
   "source": [
    "\"\"\"\r\n",
    "\r\n",
    "Description: Create and attach IAM role\r\n",
    "\r\n",
    "\"\"\"\r\n",
    "\r\n",
    "from botocore.exceptions import ClientError\r\n",
    "\r\n",
    "# Create the role\r\n",
    "try:\r\n",
    "    print(\"1.1 Creating a new IAM Role\") \r\n",
    "    dwhRole = iam.create_role(\r\n",
    "        Path='/',\r\n",
    "        RoleName=DWH_IAM_ROLE_NAME,\r\n",
    "        Description = \"Allows Redshift clusters to call AWS services on your behalf.\",\r\n",
    "        AssumeRolePolicyDocument=json.dumps(\r\n",
    "            {'Statement': [{'Action': 'sts:AssumeRole',\r\n",
    "            'Effect': 'Allow',\r\n",
    "            'Principal': {'Service': 'redshift.amazonaws.com'}}],\r\n",
    "            'Version': '2012-10-17'})\r\n",
    "    )    \r\n",
    "except Exception as e:\r\n",
    "    print(e)\r\n",
    "\r\n",
    "# Attach the role\r\n",
    "\r\n",
    "iam.attach_role_policy(RoleName=DWH_IAM_ROLE_NAME,\r\n",
    "                    PolicyArn=\"arn:aws:iam::aws:policy/AmazonS3ReadOnlyAccess\"\r\n",
    "                    )['ResponseMetadata']['HTTPStatusCode']\r\n",
    "\r\n",
    "roleArn = iam.get_role(RoleName=DWH_IAM_ROLE_NAME)['Role']['Arn']"
   ],
   "outputs": [
    {
     "output_type": "stream",
     "name": "stdout",
     "text": [
      "1.1 Creating a new IAM Role\n",
      "An error occurred (EntityAlreadyExists) when calling the CreateRole operation: Role with name dwhRole already exists.\n"
     ]
    }
   ],
   "metadata": {}
  },
  {
   "cell_type": "code",
   "execution_count": 5,
   "source": [
    "\"\"\"\r\n",
    "\r\n",
    "Description: Create the Redshift cluster\r\n",
    "\r\n",
    "\"\"\"\r\n",
    "\r\n",
    "try:\r\n",
    "    response = redshift.create_cluster(        \r\n",
    "        # add parameters for hardware\r\n",
    "        ClusterType=DWH_CLUSTER_TYPE,\r\n",
    "        NodeType=DWH_NODE_TYPE,\r\n",
    "        NumberOfNodes=int(DWH_NUM_NODES),\r\n",
    "\r\n",
    "        # add parameters for identifiers & credentials\r\n",
    "        DBName=DWH_DB,\r\n",
    "        ClusterIdentifier=DWH_CLUSTER_IDENTIFIER,\r\n",
    "        MasterUsername=DWH_DB_USER,\r\n",
    "        MasterUserPassword=DWH_DB_PASSWORD,\r\n",
    "        \r\n",
    "        # add parameter for role (to allow s3 access)\r\n",
    "        IamRoles=[roleArn]\r\n",
    "    )\r\n",
    "except Exception as e:\r\n",
    "    print(e)"
   ],
   "outputs": [],
   "metadata": {}
  },
  {
   "cell_type": "code",
   "execution_count": 8,
   "source": [
    "\"\"\"\r\n",
    "\r\n",
    "Description: Describe the cluster to see its status\r\n",
    "Run this block several times until the cluster status becomes `Available`\r\n",
    "\r\n",
    "\"\"\"\r\n",
    "import time\r\n",
    "\r\n",
    "cluster_available = False\r\n",
    "\r\n",
    "print ('Wait for the Cluster availability to continue the process...')\r\n",
    "\r\n",
    "myClusterProps = redshift.describe_clusters(ClusterIdentifier=DWH_CLUSTER_IDENTIFIER)['Clusters'][0]\r\n",
    "print ('Cluster Status: ',myClusterProps.get('ClusterStatus'))\r\n",
    "\r\n",
    "while cluster_available == False :\r\n",
    "    time.sleep(30)\r\n",
    "    myClusterProps = redshift.describe_clusters(ClusterIdentifier=DWH_CLUSTER_IDENTIFIER)['Clusters'][0]\r\n",
    "    print ('Cluster Status: ',myClusterProps.get('ClusterStatus'))\r\n",
    "    if myClusterProps.get('ClusterStatus') == 'available':\r\n",
    "        cluster_available = True"
   ],
   "outputs": [
    {
     "output_type": "stream",
     "name": "stdout",
     "text": [
      "Wait for the Cluster availability to continue the process...\n",
      "\n",
      "Cluster Status:  available\n",
      "Cluster Status:  available\n"
     ]
    }
   ],
   "metadata": {}
  }
 ],
 "metadata": {
  "orig_nbformat": 4,
  "language_info": {
   "name": "python",
   "version": "3.8.8",
   "mimetype": "text/x-python",
   "codemirror_mode": {
    "name": "ipython",
    "version": 3
   },
   "pygments_lexer": "ipython3",
   "nbconvert_exporter": "python",
   "file_extension": ".py"
  },
  "kernelspec": {
   "name": "python3",
   "display_name": "Python 3.8.8 64-bit ('base': conda)"
  },
  "interpreter": {
   "hash": "e254ffc773357790aa04a01fb60c7c6721ec5a0c6f1763bcb2e925b3d380624c"
  }
 },
 "nbformat": 4,
 "nbformat_minor": 2
}