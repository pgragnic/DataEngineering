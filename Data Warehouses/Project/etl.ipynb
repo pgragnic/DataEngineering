{
 "cells": [
  {
   "cell_type": "code",
   "execution_count": 3,
   "source": [
    "import configparser\r\n",
    "import psycopg2\r\n",
    "from time import time\r\n",
    "from sql_queries import copy_table_queries, insert_table_queries\r\n",
    "from create_tables import create_tables, drop_tables"
   ],
   "outputs": [],
   "metadata": {}
  },
  {
   "cell_type": "code",
   "execution_count": 4,
   "source": [
    "def load_staging_tables(cur, conn):\r\n",
    "    for query in copy_table_queries:\r\n",
    "        print(query)\r\n",
    "        cur.execute(query)\r\n",
    "        conn.commit()\r\n",
    "\r\n",
    "\r\n",
    "def insert_tables(cur, conn):\r\n",
    "    for query in insert_table_queries:\r\n",
    "        print(query)\r\n",
    "        cur.execute(query)\r\n",
    "        conn.commit()"
   ],
   "outputs": [],
   "metadata": {}
  },
  {
   "cell_type": "code",
   "execution_count": 5,
   "source": [
    "config = configparser.ConfigParser()\r\n",
    "config.read('dwh.cfg')\r\n",
    "\r\n",
    "conn = psycopg2.connect(\"host={} dbname={} user={} password={} port={}\".format(*config['CLUSTER'].values()))\r\n",
    "cur = conn.cursor()\r\n",
    "    \r\n",
    "print(\"Droping tables\")\r\n",
    "drop_tables(cur, conn)\r\n",
    "print(\"Creating tables\")\r\n",
    "create_tables(cur, conn)\r\n",
    "\r\n",
    "print(\"Loading staging tables\")\r\n",
    "load_staging_tables(cur, conn)\r\n",
    "\r\n",
    "print(\"Loading final tables\")\r\n",
    "insert_tables(cur, conn)\r\n",
    "\r\n",
    "conn.close()"
   ],
   "outputs": [
    {
     "output_type": "stream",
     "name": "stdout",
     "text": [
      " COPY staging_events FROM 's3://udacity-dend/log_data'\n",
      "        iam_role 'arn:aws:iam::909496952025:role/dwhRole'\n",
      "        JSON 'auto ignorecase' ACCEPTINVCHARS\n",
      "        \n",
      " COPY staging_songs FROM 's3://udacity-dend/song_data'\n",
      "        iam_role 'arn:aws:iam::909496952025:role/dwhRole'\n",
      "        JSON 'auto ignorecase' ACCEPTINVCHARS\n",
      "        \n",
      "DROP TABLE IF EXISTS users\n",
      "DROP TABLE IF EXISTS songs\n",
      "\n",
      "        INSERT INTO artists (artist_id, name, location, latitude, longitude)\n",
      "        SELECT\n",
      "            DISTINCT (artist_id) as artist_id,\n",
      "            artist_name as name,\n",
      "            artist_location as location,\n",
      "            artist_latitude as latitude,\n",
      "            artist_longitude as longitude \n",
      "        FROM staging_songs\n",
      "        WHERE artist_id IS NOT NULL\n",
      "\n"
     ]
    }
   ],
   "metadata": {}
  }
 ],
 "metadata": {
  "orig_nbformat": 4,
  "language_info": {
   "name": "python",
   "version": "3.8.8",
   "mimetype": "text/x-python",
   "codemirror_mode": {
    "name": "ipython",
    "version": 3
   },
   "pygments_lexer": "ipython3",
   "nbconvert_exporter": "python",
   "file_extension": ".py"
  },
  "kernelspec": {
   "name": "python3",
   "display_name": "Python 3.8.8 64-bit ('base': conda)"
  },
  "interpreter": {
   "hash": "e254ffc773357790aa04a01fb60c7c6721ec5a0c6f1763bcb2e925b3d380624c"
  }
 },
 "nbformat": 4,
 "nbformat_minor": 2
}