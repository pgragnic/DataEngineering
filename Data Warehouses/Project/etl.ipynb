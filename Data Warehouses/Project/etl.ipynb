{
 "cells": [
  {
   "cell_type": "code",
   "execution_count": 1,
   "source": [
    "import configparser\r\n",
    "import psycopg2\r\n",
    "import time\r\n",
    "from sql_queries import copy_table_queries, insert_table_queries\r\n",
    "from create_tables import create_tables, drop_tables"
   ],
   "outputs": [],
   "metadata": {}
  },
  {
   "cell_type": "code",
   "execution_count": 2,
   "source": [
    "def load_staging_tables(cur, conn):\r\n",
    "    for query in copy_table_queries:\r\n",
    "        print(query)\r\n",
    "        cur.execute(query)\r\n",
    "        conn.commit()\r\n",
    "\r\n",
    "def insert_tables(cur, conn):\r\n",
    "    for query in insert_table_queries:\r\n",
    "        print(query)\r\n",
    "        cur.execute(query)\r\n",
    "        conn.commit()"
   ],
   "outputs": [],
   "metadata": {}
  },
  {
   "cell_type": "code",
   "execution_count": 3,
   "source": [
    "config = configparser.ConfigParser()\r\n",
    "config.read('dwh.cfg')\r\n",
    "\r\n",
    "conn = psycopg2.connect(\"host={} dbname={} user={} password={} port={}\".format(*config['CLUSTER'].values()))\r\n",
    "cur = conn.cursor()\r\n",
    "\r\n",
    "print(\"1. Dropping tables...\")\r\n",
    "start_time = time.time()\r\n",
    "drop_tables(cur, conn)\r\n",
    "print(\"--- It took %s seconds ---\" % (time.time() - start_time))\r\n",
    "\r\n",
    "print(\"2. Creating tables...\")\r\n",
    "start_time = time.time()\r\n",
    "create_tables(cur, conn)\r\n",
    "print(\"--- It took %s seconds ---\" % (time.time() - start_time))\r\n",
    "\r\n",
    "#print(\"3. Loading staging tables, it may take time...\")\r\n",
    "#start_time = time.time()\r\n",
    "#load_staging_tables(cur, conn)\r\n",
    "#print(\"--- It took %s seconds ---\" % (time.time() - start_time))\r\n",
    "\r\n",
    "print(\"4. Loading final tables...\")\r\n",
    "start_time = time.time()\r\n",
    "insert_tables(cur, conn)\r\n",
    "print(\"--- It took %s seconds ---\" % (time.time() - start_time))\r\n",
    "\r\n",
    "conn.close()"
   ],
   "outputs": [
    {
     "output_type": "stream",
     "name": "stdout",
     "text": [
      "1. Dropping tables...\n",
      "--- It took 3.188786506652832 seconds ---\n",
      "2. Creating tables...\n",
      "--- It took 4.978750228881836 seconds ---\n",
      "4. Loading final tables...\n",
      "\n",
      "        INSERT INTO songplays (start_time, user_id, level, song_id, artist_id, session_id, location, user_agent)\n",
      "        SELECT \n",
      "            TIMESTAMP 'epoch' + ts/1000 *INTERVAL '1 second' AS start_time,\n",
      "            userid AS user_id,\n",
      "            level,\n",
      "            s.song_id AS song_id,\n",
      "            a.artist_id AS artist_id,\n",
      "            sessionid AS sessions_id,\n",
      "            ste.location,\n",
      "            useragent AS user_agent\n",
      "            FROM staging_events AS ste\n",
      "                JOIN songs AS s ON ste.song = s.title\n",
      "                JOIN artists AS a ON ste.artist = a.name\n",
      " \n",
      "\n",
      "        INSERT INTO users (user_id, first_name, last_name, gender, level)\n",
      "        SELECT \n",
      "            DISTINCT(userid) as user_id,\n",
      "            firstname as first_name,\n",
      "            lastname as last_name,\n",
      "            gender,\n",
      "            level\n",
      "        FROM staging_events\n",
      "        WHERE userid IS NOT NULL\n",
      "\n",
      "\n",
      "        INSERT INTO songs (song_id, title, artist_id, year, duration)\n",
      "        SELECT\n",
      "            DISTINCT (song_id) as song_id,\n",
      "            title,\n",
      "            artist_id,\n",
      "            year,\n",
      "            duration\n",
      "        FROM staging_songs\n",
      "        WHERE song_id IS NOT NULL\n",
      "\n",
      "\n",
      "        INSERT INTO artists (artist_id, name, location, latitude, longitude)\n",
      "        SELECT\n",
      "            DISTINCT (artist_id) as artist_id,\n",
      "            artist_name as name,\n",
      "            artist_location as location,\n",
      "            artist_latitude as latitude,\n",
      "            artist_longitude as longitude \n",
      "        FROM staging_songs\n",
      "        WHERE artist_id IS NOT NULL\n",
      "\n",
      "\n",
      "        INSERT INTO time (start_time, hour, day, week, month, year, weekday)\n",
      "        SELECT\n",
      "            TIMESTAMP 'epoch' + ts/1000 *INTERVAL '1 second' as start_time,\n",
      "            date_part(h, start_time) as hour,\n",
      "            date_part(d, start_time) as day,\n",
      "            date_part(w, start_time) as week,\n",
      "            date_part(m, start_time) as month,\n",
      "            date_part(y, start_time) as year,\n",
      "            date_part(dow, start_time) as weekday\n",
      "        FROM staging_events\n",
      "        WHERE ts IS NOT NULL\n",
      "\n",
      "--- It took 17.567620038986206 seconds ---\n"
     ]
    }
   ],
   "metadata": {}
  }
 ],
 "metadata": {
  "orig_nbformat": 4,
  "language_info": {
   "name": "python",
   "version": "3.8.8",
   "mimetype": "text/x-python",
   "codemirror_mode": {
    "name": "ipython",
    "version": 3
   },
   "pygments_lexer": "ipython3",
   "nbconvert_exporter": "python",
   "file_extension": ".py"
  },
  "kernelspec": {
   "name": "python3",
   "display_name": "Python 3.8.8 64-bit ('base': conda)"
  },
  "interpreter": {
   "hash": "e254ffc773357790aa04a01fb60c7c6721ec5a0c6f1763bcb2e925b3d380624c"
  }
 },
 "nbformat": 4,
 "nbformat_minor": 2
}