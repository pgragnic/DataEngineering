{
 "cells": [
  {
   "cell_type": "code",
   "execution_count": null,
   "source": [
    "import boto3\r\n",
    "import json"
   ],
   "outputs": [],
   "metadata": {}
  },
  {
   "cell_type": "code",
   "execution_count": null,
   "source": [
    "\"\"\"\r\n",
    "\r\n",
    "Description: Get all parameters from dwh.cfg file\r\n",
    "\r\n",
    "\"\"\"\r\n",
    "\r\n",
    "import configparser\r\n",
    "config = configparser.ConfigParser()\r\n",
    "config.read_file(open('dwh.cfg'))\r\n",
    "\r\n",
    "KEY                    = config.get('AWS','KEY')\r\n",
    "SECRET                 = config.get('AWS','SECRET')\r\n",
    "\r\n",
    "DWH_CLUSTER_IDENTIFIER = config.get(\"DWH\",\"DWH_CLUSTER_IDENTIFIER\")\r\n",
    "DWH_IAM_ROLE_NAME      = config.get(\"DWH\", \"DWH_IAM_ROLE_NAME\")"
   ],
   "outputs": [],
   "metadata": {}
  },
  {
   "cell_type": "code",
   "execution_count": null,
   "source": [
    "\"\"\"\r\n",
    "\r\n",
    "Description: Create IAM and Redshift clients\r\n",
    "\r\n",
    "\"\"\"\r\n",
    "\r\n",
    "iam = boto3.client('iam',aws_access_key_id=KEY,\r\n",
    "                     aws_secret_access_key=SECRET,\r\n",
    "                     region_name='us-west-2'\r\n",
    "                  )\r\n",
    "\r\n",
    "redshift = boto3.client('redshift',\r\n",
    "                       region_name=\"us-west-2\",\r\n",
    "                       aws_access_key_id=KEY,\r\n",
    "                       aws_secret_access_key=SECRET\r\n",
    "                       )"
   ],
   "outputs": [],
   "metadata": {}
  },
  {
   "cell_type": "code",
   "execution_count": null,
   "source": [
    "\"\"\"\r\n",
    "\r\n",
    "Description: Delete redshift cluster\r\n",
    "\r\n",
    "\"\"\"\r\n",
    "print ('Deleting the Redshift Cluster: ', DWH_CLUSTER_IDENTIFIER)\r\n",
    "redshift.delete_cluster( ClusterIdentifier=DWH_CLUSTER_IDENTIFIER,  SkipFinalClusterSnapshot=True)"
   ],
   "outputs": [],
   "metadata": {}
  },
  {
   "cell_type": "code",
   "execution_count": null,
   "source": [
    "\"\"\"\r\n",
    "\r\n",
    "Description: Delete IAM role\r\n",
    "\r\n",
    "\"\"\"\r\n",
    "\r\n",
    "print ('Deleting the IAM Role: ', DWH_IAM_ROLE_NAME)\r\n",
    "\r\n",
    "iam.detach_role_policy(RoleName=DWH_IAM_ROLE_NAME, PolicyArn=\"arn:aws:iam::aws:policy/AmazonS3ReadOnlyAccess\")\r\n",
    "iam.delete_role(RoleName=DWH_IAM_ROLE_NAME)"
   ],
   "outputs": [],
   "metadata": {}
  }
 ],
 "metadata": {
  "orig_nbformat": 4,
  "language_info": {
   "name": "python",
   "version": "3.8.8",
   "mimetype": "text/x-python",
   "codemirror_mode": {
    "name": "ipython",
    "version": 3
   },
   "pygments_lexer": "ipython3",
   "nbconvert_exporter": "python",
   "file_extension": ".py"
  },
  "kernelspec": {
   "name": "python3",
   "display_name": "Python 3.8.8 64-bit ('base': conda)"
  },
  "interpreter": {
   "hash": "e254ffc773357790aa04a01fb60c7c6721ec5a0c6f1763bcb2e925b3d380624c"
  }
 },
 "nbformat": 4,
 "nbformat_minor": 2
}