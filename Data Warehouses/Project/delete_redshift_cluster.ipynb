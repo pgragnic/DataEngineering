{
 "cells": [
  {
   "cell_type": "code",
   "execution_count": 1,
   "source": [
    "import boto3\r\n",
    "import json"
   ],
   "outputs": [],
   "metadata": {}
  },
  {
   "cell_type": "code",
   "execution_count": 2,
   "source": [
    "\"\"\"\r\n",
    "\r\n",
    "Description: Get all parameters from dwh.cfg file\r\n",
    "\r\n",
    "\"\"\"\r\n",
    "\r\n",
    "import configparser\r\n",
    "config = configparser.ConfigParser()\r\n",
    "config.read_file(open('dwh.cfg'))\r\n",
    "\r\n",
    "KEY                    = config.get('AWS','KEY')\r\n",
    "SECRET                 = config.get('AWS','SECRET')\r\n",
    "\r\n",
    "DWH_CLUSTER_IDENTIFIER = config.get(\"DWH\",\"DWH_CLUSTER_IDENTIFIER\")\r\n",
    "DWH_IAM_ROLE_NAME      = config.get(\"DWH\", \"DWH_IAM_ROLE_NAME\")"
   ],
   "outputs": [],
   "metadata": {}
  },
  {
   "cell_type": "code",
   "execution_count": 3,
   "source": [
    "\"\"\"\r\n",
    "\r\n",
    "Description: Create IAM and Redshift clients\r\n",
    "\r\n",
    "\"\"\"\r\n",
    "\r\n",
    "iam = boto3.client('iam',aws_access_key_id=KEY,\r\n",
    "                     aws_secret_access_key=SECRET,\r\n",
    "                     region_name='us-west-2'\r\n",
    "                  )\r\n",
    "\r\n",
    "redshift = boto3.client('redshift',\r\n",
    "                       region_name=\"us-west-2\",\r\n",
    "                       aws_access_key_id=KEY,\r\n",
    "                       aws_secret_access_key=SECRET\r\n",
    "                       )"
   ],
   "outputs": [],
   "metadata": {}
  },
  {
   "cell_type": "code",
   "execution_count": 4,
   "source": [
    "\"\"\"\r\n",
    "\r\n",
    "Description: Delete redshift cluster\r\n",
    "\r\n",
    "\"\"\"\r\n",
    "print ('Deleting the Redshift Cluster: ', DWH_CLUSTER_IDENTIFIER)\r\n",
    "redshift.delete_cluster( ClusterIdentifier=DWH_CLUSTER_IDENTIFIER,  SkipFinalClusterSnapshot=True)"
   ],
   "outputs": [
    {
     "output_type": "stream",
     "name": "stdout",
     "text": [
      "Deleting the Redshift Cluster:  dwhCluster\n"
     ]
    },
    {
     "output_type": "execute_result",
     "data": {
      "text/plain": [
       "{'Cluster': {'ClusterIdentifier': 'dwhcluster',\n",
       "  'NodeType': 'dc2.large',\n",
       "  'ClusterStatus': 'deleting',\n",
       "  'ClusterAvailabilityStatus': 'Modifying',\n",
       "  'MasterUsername': 'dwhuser',\n",
       "  'DBName': 'pg-dwh',\n",
       "  'Endpoint': {'Address': 'dwhcluster.c6ypch5bxpet.us-west-2.redshift.amazonaws.com',\n",
       "   'Port': 5439},\n",
       "  'ClusterCreateTime': datetime.datetime(2021, 9, 15, 10, 32, 4, 193000, tzinfo=tzutc()),\n",
       "  'AutomatedSnapshotRetentionPeriod': 1,\n",
       "  'ManualSnapshotRetentionPeriod': -1,\n",
       "  'ClusterSecurityGroups': [],\n",
       "  'VpcSecurityGroups': [{'VpcSecurityGroupId': 'sg-0745317fd236b44e8',\n",
       "    'Status': 'active'}],\n",
       "  'ClusterParameterGroups': [{'ParameterGroupName': 'default.redshift-1.0',\n",
       "    'ParameterApplyStatus': 'in-sync'}],\n",
       "  'ClusterSubnetGroupName': 'default',\n",
       "  'VpcId': 'vpc-0e789f9236b30837a',\n",
       "  'AvailabilityZone': 'us-west-2b',\n",
       "  'PreferredMaintenanceWindow': 'wed:07:00-wed:07:30',\n",
       "  'PendingModifiedValues': {},\n",
       "  'ClusterVersion': '1.0',\n",
       "  'AllowVersionUpgrade': True,\n",
       "  'NumberOfNodes': 4,\n",
       "  'PubliclyAccessible': True,\n",
       "  'Encrypted': False,\n",
       "  'Tags': [],\n",
       "  'EnhancedVpcRouting': False,\n",
       "  'IamRoles': [{'IamRoleArn': 'arn:aws:iam::909496952025:role/dwhRole',\n",
       "    'ApplyStatus': 'in-sync'}],\n",
       "  'MaintenanceTrackName': 'current',\n",
       "  'DeferredMaintenanceWindows': [],\n",
       "  'NextMaintenanceWindowStartTime': datetime.datetime(2021, 9, 22, 7, 0, tzinfo=tzutc()),\n",
       "  'TotalStorageCapacityInMegaBytes': 1600000,\n",
       "  'AquaConfiguration': {'AquaStatus': 'disabled',\n",
       "   'AquaConfigurationStatus': 'auto'}},\n",
       " 'ResponseMetadata': {'RequestId': 'dd2d02b4-0ce2-4503-9341-c5f55f0cd403',\n",
       "  'HTTPStatusCode': 200,\n",
       "  'HTTPHeaders': {'x-amzn-requestid': 'dd2d02b4-0ce2-4503-9341-c5f55f0cd403',\n",
       "   'content-type': 'text/xml',\n",
       "   'content-length': '2706',\n",
       "   'vary': 'accept-encoding',\n",
       "   'date': 'Wed, 15 Sep 2021 15:40:59 GMT'},\n",
       "  'RetryAttempts': 0}}"
      ]
     },
     "metadata": {},
     "execution_count": 4
    }
   ],
   "metadata": {}
  },
  {
   "cell_type": "code",
   "execution_count": 5,
   "source": [
    "\"\"\"\r\n",
    "\r\n",
    "Description: Delete IAM role\r\n",
    "\r\n",
    "\"\"\"\r\n",
    "\r\n",
    "print ('Deleting the IAM Role: ', DWH_IAM_ROLE_NAME)\r\n",
    "\r\n",
    "iam.detach_role_policy(RoleName=DWH_IAM_ROLE_NAME, PolicyArn=\"arn:aws:iam::aws:policy/AmazonS3ReadOnlyAccess\")\r\n",
    "iam.delete_role(RoleName=DWH_IAM_ROLE_NAME)"
   ],
   "outputs": [
    {
     "output_type": "stream",
     "name": "stdout",
     "text": [
      "Deleting the IAM Role:  dwhRole\n"
     ]
    },
    {
     "output_type": "execute_result",
     "data": {
      "text/plain": [
       "{'ResponseMetadata': {'RequestId': '3b08dc71-05d0-49f6-a5d9-5036f249c41d',\n",
       "  'HTTPStatusCode': 200,\n",
       "  'HTTPHeaders': {'x-amzn-requestid': '3b08dc71-05d0-49f6-a5d9-5036f249c41d',\n",
       "   'content-type': 'text/xml',\n",
       "   'content-length': '200',\n",
       "   'date': 'Wed, 15 Sep 2021 15:41:04 GMT'},\n",
       "  'RetryAttempts': 0}}"
      ]
     },
     "metadata": {},
     "execution_count": 5
    }
   ],
   "metadata": {}
  }
 ],
 "metadata": {
  "orig_nbformat": 4,
  "language_info": {
   "name": "python",
   "version": "3.8.8",
   "mimetype": "text/x-python",
   "codemirror_mode": {
    "name": "ipython",
    "version": 3
   },
   "pygments_lexer": "ipython3",
   "nbconvert_exporter": "python",
   "file_extension": ".py"
  },
  "kernelspec": {
   "name": "python3",
   "display_name": "Python 3.8.8 64-bit ('base': conda)"
  },
  "interpreter": {
   "hash": "e254ffc773357790aa04a01fb60c7c6721ec5a0c6f1763bcb2e925b3d380624c"
  }
 },
 "nbformat": 4,
 "nbformat_minor": 2
}