{
 "cells": [
  {
   "cell_type": "code",
   "execution_count": 1,
   "source": [
    "import configparser\r\n",
    "import psycopg2\r\n",
    "from sql_queries import create_table_queries, drop_table_queries"
   ],
   "outputs": [],
   "metadata": {}
  },
  {
   "cell_type": "code",
   "execution_count": 3,
   "source": [
    "def drop_tables(cur, conn):\r\n",
    "    for query in drop_table_queries:\r\n",
    "        cur.execute(query)\r\n",
    "        conn.commit()\r\n",
    "\r\n",
    "def create_tables(cur, conn):\r\n",
    "    for query in create_table_queries:\r\n",
    "        cur.execute(query)\r\n",
    "        conn.commit()"
   ],
   "outputs": [],
   "metadata": {}
  },
  {
   "cell_type": "code",
   "execution_count": 5,
   "source": [
    "config = configparser.ConfigParser()\r\n",
    "config.read('dwh.cfg')\r\n",
    "\r\n",
    "conn = psycopg2.connect(\"host={} dbname={} user={} password={} port={}\".format(*config['CLUSTER'].values()))\r\n",
    "cur = conn.cursor()\r\n",
    "\r\n",
    "drop_tables(cur, conn)\r\n",
    "create_tables(cur, conn)\r\n",
    "\r\n",
    "conn.close()"
   ],
   "outputs": [],
   "metadata": {}
  }
 ],
 "metadata": {
  "orig_nbformat": 4,
  "language_info": {
   "name": "python",
   "version": "3.8.8",
   "mimetype": "text/x-python",
   "codemirror_mode": {
    "name": "ipython",
    "version": 3
   },
   "pygments_lexer": "ipython3",
   "nbconvert_exporter": "python",
   "file_extension": ".py"
  },
  "kernelspec": {
   "name": "python3",
   "display_name": "Python 3.8.8 64-bit ('base': conda)"
  },
  "interpreter": {
   "hash": "e254ffc773357790aa04a01fb60c7c6721ec5a0c6f1763bcb2e925b3d380624c"
  }
 },
 "nbformat": 4,
 "nbformat_minor": 2
}