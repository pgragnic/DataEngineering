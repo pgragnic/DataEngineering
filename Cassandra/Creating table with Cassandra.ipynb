{
 "cells": [
  {
   "cell_type": "markdown",
   "source": [
    "# Install Cassandra Driver\r\n",
    "pip install cassandra-driver"
   ],
   "metadata": {}
  },
  {
   "cell_type": "markdown",
   "source": [
    "# Import Apache Cassandra python package"
   ],
   "metadata": {}
  },
  {
   "cell_type": "code",
   "execution_count": 1,
   "source": [
    " import cassandra"
   ],
   "outputs": [],
   "metadata": {}
  },
  {
   "cell_type": "markdown",
   "source": [
    "# Create a connection to the database"
   ],
   "metadata": {}
  },
  {
   "cell_type": "code",
   "execution_count": 2,
   "source": [
    "from cassandra.cluster import Cluster\r\n",
    "\r\n",
    "try:\r\n",
    "    cluster = Cluster(['127.0.0.1'])\r\n",
    "    session = cluster.connect()\r\n",
    "except Exception as e:\r\n",
    "    print (e)"
   ],
   "outputs": [],
   "metadata": {}
  },
  {
   "cell_type": "markdown",
   "source": [
    "# Test our Connection"
   ],
   "metadata": {}
  },
  {
   "cell_type": "code",
   "execution_count": 4,
   "source": [
    "try:\r\n",
    "    session.execute(\"\"\"select * from music_library\"\"\")\r\n",
    "except Exception as e:\r\n",
    "    print(e)"
   ],
   "outputs": [
    {
     "output_type": "stream",
     "name": "stdout",
     "text": [
      "Error from server: code=2200 [Invalid query] message=\"No keyspace has been specified. USE a keyspace, or explicitly specify keyspace.tablename\"\n"
     ]
    }
   ],
   "metadata": {}
  },
  {
   "cell_type": "markdown",
   "source": [
    "# Create a keyspace to do our work in"
   ],
   "metadata": {}
  },
  {
   "cell_type": "code",
   "execution_count": 5,
   "source": [
    "try:\r\n",
    "    session.execute(\"\"\"\r\n",
    "    CREATE KEYSPACE IF NOT EXISTS udacity\r\n",
    "    WITH REPLICATION =\r\n",
    "    { 'class' : 'SimpleStrategy', 'replication_factor' : '1'}\r\n",
    "    \"\"\")\r\n",
    "except Exception as e:\r\n",
    "    print(e)"
   ],
   "outputs": [],
   "metadata": {}
  },
  {
   "cell_type": "markdown",
   "source": [
    "# Connect to our keyspace"
   ],
   "metadata": {}
  },
  {
   "cell_type": "code",
   "execution_count": 6,
   "source": [
    "try:\r\n",
    "    session.set_keyspace('udacity')\r\n",
    "except Exception as e:\r\n",
    "    print(e)"
   ],
   "outputs": [],
   "metadata": {}
  },
  {
   "cell_type": "markdown",
   "source": [
    "# Create music_library table"
   ],
   "metadata": {}
  },
  {
   "cell_type": "code",
   "execution_count": 7,
   "source": [
    "## TO-DO: Complete the query below\r\n",
    "query = \"CREATE TABLE IF NOT EXISTS music_library \"\r\n",
    "query = query + \"(year int, artist_name text, song_title text, album_name text, single Boolean, PRIMARY KEY (year, artist_name))\"\r\n",
    "try:\r\n",
    "    session.execute(query)\r\n",
    "except Exception as e:\r\n",
    "    print(e)"
   ],
   "outputs": [],
   "metadata": {}
  },
  {
   "cell_type": "markdown",
   "source": [
    "# Check table was created"
   ],
   "metadata": {}
  },
  {
   "cell_type": "code",
   "execution_count": 8,
   "source": [
    "query = \"select count(*) from music_library\"\r\n",
    "try:\r\n",
    "    count = session.execute(query)\r\n",
    "except Exception as e:\r\n",
    "    print(e)\r\n",
    "    \r\n",
    "print(count.one())"
   ],
   "outputs": [
    {
     "output_type": "stream",
     "name": "stdout",
     "text": [
      "Row(count=0)\n"
     ]
    }
   ],
   "metadata": {}
  },
  {
   "cell_type": "markdown",
   "source": [
    "# Insert 2 rows"
   ],
   "metadata": {}
  },
  {
   "cell_type": "code",
   "execution_count": null,
   "source": [
    "query = \"INSERT INTO music_library (year, artist_name, album_name)\"\r\n",
    "query = query + \" VALUES (%s, %s, %s)\"\r\n",
    "\r\n",
    "try:\r\n",
    "    session.execute(query, (1970, \"The Beatles\", \"Let it Be\"))\r\n",
    "except Exception as e:\r\n",
    "    print(e)\r\n",
    "\r\n",
    "try:\r\n",
    "    session.execute(query, (1965, \"The Beatles\", \"Rubber Soul\"))\r\n",
    "except Exception as e:\r\n",
    "    print(e)"
   ],
   "outputs": [],
   "metadata": {}
  },
  {
   "cell_type": "markdown",
   "source": [
    "# Validate data was inserted"
   ],
   "metadata": {}
  },
  {
   "cell_type": "code",
   "execution_count": 10,
   "source": [
    "query = \"SELECT * FROM music_library\"\r\n",
    "try:\r\n",
    "    rows = session.execute(query)\r\n",
    "except Exception as e:\r\n",
    "    print(e)\r\n",
    "\r\n",
    "for row in rows:\r\n",
    "    print(row.year, row.album_name, row.artist_name)"
   ],
   "outputs": [],
   "metadata": {}
  },
  {
   "cell_type": "markdown",
   "source": [
    "# Validate data model"
   ],
   "metadata": {}
  },
  {
   "cell_type": "code",
   "execution_count": 9,
   "source": [
    "query = \"SELECT * FROM music_library WHERE year=1970\"\r\n",
    "try:\r\n",
    "    rows = session.execute(query)\r\n",
    "except Exception as e:\r\n",
    "    print(e)\r\n",
    "\r\n",
    "for row in rows:\r\n",
    "    print(row.year, row.album_name, row.artist_name)"
   ],
   "outputs": [],
   "metadata": {}
  },
  {
   "cell_type": "markdown",
   "source": [
    "# Drop Table"
   ],
   "metadata": {}
  },
  {
   "cell_type": "code",
   "execution_count": null,
   "source": [
    "query = \"drop table music_library\"\r\n",
    "try:\r\n",
    "    rows = session.execute(query)\r\n",
    "except Exception as e:\r\n",
    "    print(e)\r\n"
   ],
   "outputs": [],
   "metadata": {}
  },
  {
   "cell_type": "markdown",
   "source": [
    "Close session and cluster connection"
   ],
   "metadata": {}
  },
  {
   "cell_type": "code",
   "execution_count": null,
   "source": [
    "session.shutdown\r\n",
    "cluster.shutdown"
   ],
   "outputs": [],
   "metadata": {}
  }
 ],
 "metadata": {
  "orig_nbformat": 4,
  "language_info": {
   "name": "python",
   "version": "3.8.8",
   "mimetype": "text/x-python",
   "codemirror_mode": {
    "name": "ipython",
    "version": 3
   },
   "pygments_lexer": "ipython3",
   "nbconvert_exporter": "python",
   "file_extension": ".py"
  },
  "kernelspec": {
   "name": "python3",
   "display_name": "Python 3.8.8 64-bit ('base': conda)"
  },
  "interpreter": {
   "hash": "e254ffc773357790aa04a01fb60c7c6721ec5a0c6f1763bcb2e925b3d380624c"
  }
 },
 "nbformat": 4,
 "nbformat_minor": 2
}