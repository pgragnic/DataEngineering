{
 "cells": [
  {
   "cell_type": "markdown",
   "source": [
    "## Import Cassandra package"
   ],
   "metadata": {}
  },
  {
   "cell_type": "code",
   "execution_count": 40,
   "source": [
    "import cassandra"
   ],
   "outputs": [],
   "metadata": {}
  },
  {
   "cell_type": "markdown",
   "source": [
    "## Create a connection"
   ],
   "metadata": {}
  },
  {
   "cell_type": "code",
   "execution_count": 41,
   "source": [
    "from cassandra.cluster import Cluster\r\n",
    "try:\r\n",
    "    cluster = Cluster(['127.0.0.1'])\r\n",
    "    session = cluster.connect()\r\n",
    "except Exception as e:\r\n",
    "    print(e)"
   ],
   "outputs": [],
   "metadata": {}
  },
  {
   "cell_type": "markdown",
   "source": [
    "## Create a keyspace"
   ],
   "metadata": {}
  },
  {
   "cell_type": "code",
   "execution_count": 42,
   "source": [
    "try:\r\n",
    "    session.execute(\"\"\"\r\n",
    "    CREATE KEYSPACE IF NOT EXISTS udacity\r\n",
    "    WITH REPLICATION =\r\n",
    "    { 'class' : 'SimpleStrategy', 'replication_factor' : '1'}\r\n",
    "    \"\"\")\r\n",
    "except Exception as e:\r\n",
    "    print(e)"
   ],
   "outputs": [],
   "metadata": {}
  },
  {
   "cell_type": "markdown",
   "source": [
    "## Connect to the Keyspace"
   ],
   "metadata": {}
  },
  {
   "cell_type": "code",
   "execution_count": 43,
   "source": [
    "try:\r\n",
    "    session.set_keyspace('udacity')\r\n",
    "except Exception as e:\r\n",
    "    print(e)"
   ],
   "outputs": [],
   "metadata": {}
  },
  {
   "cell_type": "markdown",
   "source": [
    "# Create 2 tables"
   ],
   "metadata": {}
  },
  {
   "cell_type": "code",
   "execution_count": 44,
   "source": [
    "query = \"CREATE TABLE IF NOT EXISTS music_library \"\r\n",
    "query = query + \"(year int, artist_name text, album_name text, PRIMARY KEY (year, artist_name))\"\r\n",
    "try:\r\n",
    "    session.execute(query)\r\n",
    "except Exception as e:\r\n",
    "    print(e)\r\n",
    "\r\n",
    "\r\n",
    "query = \"CREATE TABLE IF NOT EXISTS album_library \"\r\n",
    "query = query + \"(artist_name text, year int, album_name text, PRIMARY KEY (artist_name, year))\"\r\n",
    "try:\r\n",
    "    session.execute(query)\r\n",
    "except Exception as e:\r\n",
    "    print(e)"
   ],
   "outputs": [],
   "metadata": {}
  },
  {
   "cell_type": "markdown",
   "source": [
    "## Insert data into tables"
   ],
   "metadata": {}
  },
  {
   "cell_type": "code",
   "execution_count": 45,
   "source": [
    "query = \"INSERT INTO music_library (year, artist_name, album_name)\"\r\n",
    "query = query + \"VALUES (%s, %s, %s)\"\r\n",
    "\r\n",
    "query1 = \"INSERT INTO album_library (artist_name, year, album_name)\"\r\n",
    "query1 = query1 + \"VALUES (%s, %s, %s)\"\r\n",
    "\r\n",
    "# Insert into music_library\r\n",
    "try:\r\n",
    "    session.execute(query, (1970, \"The Beatles\", \"Let It Be\"))\r\n",
    "except Exception as e:\r\n",
    "    print(e)\r\n",
    "\r\n",
    "try:\r\n",
    "    session.execute(query, (1965, \"The Beatles\", \"Rubber Soul\"))\r\n",
    "except Exception as e:\r\n",
    "    print(e)\r\n",
    "\r\n",
    "try:\r\n",
    "    session.execute(query, (1965, \"The Who\", \"My Generation\"))\r\n",
    "except Exception as e:\r\n",
    "    print(e)\r\n",
    "\r\n",
    "try:\r\n",
    "    session.execute(query, (1966, \"The Monkees\", \"The Monkees\"))\r\n",
    "except Exception as e:\r\n",
    "    print(e)\r\n",
    "\r\n",
    "try:\r\n",
    "    session.execute(query, (1966, \"The Carpenters\", \"Close To You\"))\r\n",
    "except Exception as e:\r\n",
    "    print(e)\r\n",
    "\r\n",
    "# Insert into album_library\r\n",
    "try:\r\n",
    "    session.execute(query1, (\"The Beatles\", 1970, \"Let It Be\"))\r\n",
    "except Exception as e:\r\n",
    "    print(e)\r\n",
    "\r\n",
    "try:\r\n",
    "    session.execute(query1, (\"The Beatles\", 1965, \"Rubber Soul\"))\r\n",
    "except Exception as e:\r\n",
    "    print(e)\r\n",
    "\r\n",
    "try:\r\n",
    "    session.execute(query1, (\"The Who\", 1965, \"My Generation\"))\r\n",
    "except Exception as e:\r\n",
    "    print(e)\r\n",
    "\r\n",
    "try:\r\n",
    "    session.execute(query1, (\"The Monkees\", 1966, \"The Monkees\"))\r\n",
    "except Exception as e:\r\n",
    "    print(e)\r\n",
    "\r\n",
    "try:\r\n",
    "    session.execute(query1, (\"The Carpenters\", 1966, \"Close To You\"))\r\n",
    "except Exception as e:\r\n",
    "    print(e)"
   ],
   "outputs": [],
   "metadata": {}
  },
  {
   "cell_type": "markdown",
   "source": [
    "# Validate our data model\r\n",
    "## Query 1: select * from music_library where=1970\r\n",
    "## Query 2: select * from artist_lirary where=\"The Beatles\""
   ],
   "metadata": {}
  },
  {
   "cell_type": "code",
   "execution_count": 46,
   "source": [
    "query = \"SELECT * FROM music_library WHERE year=1966\"\r\n",
    "\r\n",
    "try:\r\n",
    "    rows = session.execute(query)\r\n",
    "except Exception as e:\r\n",
    "    print(e)\r\n",
    "\r\n",
    "for row in rows:\r\n",
    "    print(row.year, row.artist_name, row.album_name)"
   ],
   "outputs": [
    {
     "output_type": "stream",
     "name": "stdout",
     "text": [
      "1966 The Carpenters Close To You\n",
      "1966 The Monkees The Monkees\n"
     ]
    }
   ],
   "metadata": {}
  },
  {
   "cell_type": "code",
   "execution_count": 47,
   "source": [
    "query = \"SELECT * FROM album_library WHERE artist_name='The Beatles'\"\r\n",
    "\r\n",
    "try:\r\n",
    "    rows = session.execute(query)\r\n",
    "except Exception as e:\r\n",
    "    print(e)\r\n",
    "\r\n",
    "for row in rows:\r\n",
    "    print(row.year, row.artist_name, row.album_name)"
   ],
   "outputs": [
    {
     "output_type": "stream",
     "name": "stdout",
     "text": [
      "1965 The Beatles Rubber Soul\n",
      "1970 The Beatles Let It Be\n"
     ]
    }
   ],
   "metadata": {}
  },
  {
   "cell_type": "markdown",
   "source": [
    " # DROP Tables"
   ],
   "metadata": {}
  },
  {
   "cell_type": "code",
   "execution_count": 48,
   "source": [
    "session.execute(\"DROP TABLE IF EXISTS music_library\")\r\n",
    "session.execute(\"DROP TABLE IF EXISTS album_library\")"
   ],
   "outputs": [
    {
     "output_type": "execute_result",
     "data": {
      "text/plain": [
       "<cassandra.cluster.ResultSet at 0x29adbe067f0>"
      ]
     },
     "metadata": {},
     "execution_count": 48
    }
   ],
   "metadata": {}
  },
  {
   "cell_type": "markdown",
   "source": [
    "# Close session and cluster connections"
   ],
   "metadata": {}
  },
  {
   "cell_type": "code",
   "execution_count": 49,
   "source": [
    "session.shutdown()\r\n",
    "cluster.shutdown()"
   ],
   "outputs": [],
   "metadata": {}
  }
 ],
 "metadata": {
  "orig_nbformat": 4,
  "language_info": {
   "name": "python",
   "version": "3.8.8",
   "mimetype": "text/x-python",
   "codemirror_mode": {
    "name": "ipython",
    "version": 3
   },
   "pygments_lexer": "ipython3",
   "nbconvert_exporter": "python",
   "file_extension": ".py"
  },
  "kernelspec": {
   "name": "python3",
   "display_name": "Python 3.8.8 64-bit ('base': conda)"
  },
  "interpreter": {
   "hash": "e254ffc773357790aa04a01fb60c7c6721ec5a0c6f1763bcb2e925b3d380624c"
  }
 },
 "nbformat": 4,
 "nbformat_minor": 2
}