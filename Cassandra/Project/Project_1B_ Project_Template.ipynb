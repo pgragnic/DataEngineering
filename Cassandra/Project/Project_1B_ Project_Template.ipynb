{
 "cells": [
  {
   "cell_type": "markdown",
   "source": [
    "# Part I. ETL Pipeline for Pre-Processing the Files"
   ],
   "metadata": {}
  },
  {
   "cell_type": "markdown",
   "source": [
    "## PLEASE RUN THE FOLLOWING CODE FOR PRE-PROCESSING THE FILES"
   ],
   "metadata": {}
  },
  {
   "cell_type": "markdown",
   "source": [
    "#### Import Python packages "
   ],
   "metadata": {}
  },
  {
   "cell_type": "code",
   "execution_count": 1,
   "source": [
    "# Import Python packages \r\n",
    "import pandas as pd\r\n",
    "import cassandra\r\n",
    "import re\r\n",
    "import os\r\n",
    "import glob\r\n",
    "import numpy as np\r\n",
    "import json\r\n",
    "import csv"
   ],
   "outputs": [],
   "metadata": {}
  },
  {
   "cell_type": "markdown",
   "source": [
    "#### Creating list of filepaths to process original event csv data files"
   ],
   "metadata": {}
  },
  {
   "cell_type": "code",
   "execution_count": 8,
   "source": [
    "# checking your current working directory\r\n",
    "# print(os.getcwd())\r\n",
    "\r\n",
    "# Get your current folder and subfolder event data\r\n",
    "filepath = os.getcwd() + '/event_data'\r\n",
    "\r\n",
    "# Create a for loop to create a list of files and collect each filepath\r\n",
    "all_files = []\r\n",
    "\r\n",
    "for root, dirs, files in os.walk(filepath):\r\n",
    "    files = glob.glob(os.path.join(root,'*.csv'))\r\n",
    "    for f in files :\r\n",
    "        all_files.append(os.path.abspath(f))\r\n",
    "    \r\n",
    "# join the file path and roots with the subdirectories using glob\r\n",
    "    file_path_list = glob.glob(os.path.join(root,'*'))\r\n",
    "    # print(file_path_list)"
   ],
   "outputs": [
    {
     "output_type": "stream",
     "name": "stdout",
     "text": [
      "d:\\OneDrive\\Data Engineering\\Udacity\\Data Engineering\\DataEngineering_Repo\\Cassandra\\Project\n"
     ]
    }
   ],
   "metadata": {}
  },
  {
   "cell_type": "markdown",
   "source": [
    "#### Processing the files to create the data file csv that will be used for Apache Casssandra tables"
   ],
   "metadata": {}
  },
  {
   "cell_type": "code",
   "execution_count": 9,
   "source": [
    "# initiating an empty list of rows that will be generated from each file\r\n",
    "full_data_rows_list = [] \r\n",
    "    \r\n",
    "# for every filepath in the file path list \r\n",
    "for f in file_path_list:\r\n",
    "\r\n",
    "# reading csv file \r\n",
    "    with open(f, 'r', encoding = 'utf8', newline='') as csvfile: \r\n",
    "        # creating a csv reader object \r\n",
    "        csvreader = csv.reader(csvfile) \r\n",
    "        next(csvreader)\r\n",
    "        \r\n",
    " # extracting each data row one by one and append it        \r\n",
    "        for line in csvreader:\r\n",
    "            #print(line)\r\n",
    "            full_data_rows_list.append(line) \r\n",
    "            \r\n",
    "# uncomment the code below if you would like to get total number of rows \r\n",
    "#print(len(full_data_rows_list))\r\n",
    "# uncomment the code below if you would like to check to see what the list of event data rows will look like\r\n",
    "#print(full_data_rows_list)\r\n",
    "\r\n",
    "# creating a smaller event data csv file called event_datafile_full csv that will be used to insert data into the \\\r\n",
    "# Apache Cassandra tables\r\n",
    "csv.register_dialect('myDialect', quoting=csv.QUOTE_ALL, skipinitialspace=True)\r\n",
    "\r\n",
    "with open('event_datafile_new.csv', 'w', encoding = 'utf8', newline='') as f:\r\n",
    "    writer = csv.writer(f, dialect='myDialect')\r\n",
    "    writer.writerow(['artist','firstName','gender','itemInSession','lastName','length',\\\r\n",
    "                'level','location','sessionId','song','userId'])\r\n",
    "    for row in full_data_rows_list:\r\n",
    "        if (row[0] == ''):\r\n",
    "            continue\r\n",
    "        writer.writerow((row[0], row[2], row[3], row[4], row[5], row[6], row[7], row[8], row[12], row[13], row[16]))\r\n"
   ],
   "outputs": [],
   "metadata": {}
  },
  {
   "cell_type": "code",
   "execution_count": 10,
   "source": [
    "# check the number of rows in your csv file\r\n",
    "with open('event_datafile_new.csv', 'r', encoding = 'utf8') as f:\r\n",
    "    print(sum(1 for line in f))"
   ],
   "outputs": [
    {
     "output_type": "stream",
     "name": "stdout",
     "text": [
      "3626\n"
     ]
    }
   ],
   "metadata": {}
  },
  {
   "cell_type": "markdown",
   "source": [
    "# Part II. Complete the Apache Cassandra coding portion of your project. \n",
    "\n",
    "## Now you are ready to work with the CSV file titled <font color=red>event_datafile_new.csv</font>, located within the Workspace directory.  The event_datafile_new.csv contains the following columns: \n",
    "- artist \n",
    "- firstName of user\n",
    "- gender of user\n",
    "- item number in session\n",
    "- last name of user\n",
    "- length of the song\n",
    "- level (paid or free song)\n",
    "- location of the user\n",
    "- sessionId\n",
    "- song title\n",
    "- userId\n",
    "\n",
    "The image below is a screenshot of what the denormalized data should appear like in the <font color=red>**event_datafile_new.csv**</font> after the code above is run:<br>\n",
    "\n",
    "<img src=\"images/image_event_datafile_new.jpg\">"
   ],
   "metadata": {}
  },
  {
   "cell_type": "markdown",
   "source": [
    "## Begin writing your Apache Cassandra code in the cells below"
   ],
   "metadata": {}
  },
  {
   "cell_type": "markdown",
   "source": [
    "#### Creating a Cluster"
   ],
   "metadata": {}
  },
  {
   "cell_type": "code",
   "execution_count": null,
   "source": [
    "# This should make a connection to a Cassandra instance your local machine \r\n",
    "# (127.0.0.1)\r\n",
    "\r\n",
    "from cassandra.cluster import Cluster\r\n",
    "cluster = Cluster()\r\n",
    "\r\n",
    "# To establish connection and begin executing queries, need a session\r\n",
    "session = cluster.connect()"
   ],
   "outputs": [],
   "metadata": {}
  },
  {
   "cell_type": "markdown",
   "source": [
    "#### Create Keyspace"
   ],
   "metadata": {}
  },
  {
   "cell_type": "code",
   "execution_count": null,
   "source": [
    "# TO-DO: Create a Keyspace "
   ],
   "outputs": [],
   "metadata": {}
  },
  {
   "cell_type": "markdown",
   "source": [
    "#### Set Keyspace"
   ],
   "metadata": {}
  },
  {
   "cell_type": "code",
   "execution_count": null,
   "source": [
    "# TO-DO: Set KEYSPACE to the keyspace specified above\r\n"
   ],
   "outputs": [],
   "metadata": {}
  },
  {
   "cell_type": "markdown",
   "source": [
    "### Now we need to create tables to run the following queries. Remember, with Apache Cassandra you model the database tables on the queries you want to run."
   ],
   "metadata": {}
  },
  {
   "cell_type": "markdown",
   "source": [
    "## Create queries to ask the following three questions of the data\n",
    "\n",
    "### 1. Give me the artist, song title and song's length in the music app history that was heard during  sessionId = 338, and itemInSession  = 4\n",
    "\n",
    "\n",
    "### 2. Give me only the following: name of artist, song (sorted by itemInSession) and user (first and last name) for userid = 10, sessionid = 182\n",
    "    \n",
    "\n",
    "### 3. Give me every user name (first and last) in my music app history who listened to the song 'All Hands Against His Own'\n",
    "\n",
    "\n"
   ],
   "metadata": {}
  },
  {
   "cell_type": "code",
   "execution_count": 1,
   "source": [
    "## TO-DO: Query 1:  Give me the artist, song title and song's length in the music app history that was heard during \\\r\n",
    "## sessionId = 338, and itemInSession = 4\r\n",
    "\r\n",
    "\r\n",
    "                    "
   ],
   "outputs": [],
   "metadata": {}
  },
  {
   "cell_type": "code",
   "execution_count": null,
   "source": [
    "# We have provided part of the code to set up the CSV file. Please complete the Apache Cassandra code below#\r\n",
    "file = 'event_datafile_new.csv'\r\n",
    "\r\n",
    "with open(file, encoding = 'utf8') as f:\r\n",
    "    csvreader = csv.reader(f)\r\n",
    "    next(csvreader) # skip header\r\n",
    "    for line in csvreader:\r\n",
    "## TO-DO: Assign the INSERT statements into the `query` variable\r\n",
    "        query = \"<ENTER INSERT STATEMENT HERE>\"\r\n",
    "        query = query + \"<ASSIGN VALUES HERE>\"\r\n",
    "        ## TO-DO: Assign which column element should be assigned for each column in the INSERT statement.\r\n",
    "        ## For e.g., to INSERT artist_name and user first_name, you would change the code below to `line[0], line[1]`\r\n",
    "        session.execute(query, (line[#], line[#]))"
   ],
   "outputs": [],
   "metadata": {
    "scrolled": false
   }
  },
  {
   "cell_type": "markdown",
   "source": [
    "#### Do a SELECT to verify that the data have been inserted into each table"
   ],
   "metadata": {}
  },
  {
   "cell_type": "code",
   "execution_count": null,
   "source": [
    "## TO-DO: Add in the SELECT statement to verify the data was entered into the table"
   ],
   "outputs": [],
   "metadata": {
    "scrolled": true
   }
  },
  {
   "cell_type": "markdown",
   "source": [
    "### COPY AND REPEAT THE ABOVE THREE CELLS FOR EACH OF THE THREE QUESTIONS"
   ],
   "metadata": {}
  },
  {
   "cell_type": "code",
   "execution_count": null,
   "source": [
    "## TO-DO: Query 2: Give me only the following: name of artist, song (sorted by itemInSession) and user (first and last name)\\\r\n",
    "## for userid = 10, sessionid = 182\r\n",
    "\r\n",
    "\r\n",
    "                    "
   ],
   "outputs": [],
   "metadata": {}
  },
  {
   "cell_type": "code",
   "execution_count": null,
   "source": [
    "## TO-DO: Query 3: Give me every user name (first and last) in my music app history who listened to the song 'All Hands Against His Own'\r\n",
    "\r\n",
    "\r\n",
    "                    "
   ],
   "outputs": [],
   "metadata": {}
  },
  {
   "cell_type": "code",
   "execution_count": null,
   "source": [],
   "outputs": [],
   "metadata": {}
  },
  {
   "cell_type": "code",
   "execution_count": null,
   "source": [],
   "outputs": [],
   "metadata": {}
  },
  {
   "cell_type": "markdown",
   "source": [
    "### Drop the tables before closing out the sessions"
   ],
   "metadata": {}
  },
  {
   "cell_type": "code",
   "execution_count": 4,
   "source": [
    "## TO-DO: Drop the table before closing out the sessions"
   ],
   "outputs": [],
   "metadata": {}
  },
  {
   "cell_type": "code",
   "execution_count": null,
   "source": [],
   "outputs": [],
   "metadata": {}
  },
  {
   "cell_type": "markdown",
   "source": [
    "### Close the session and cluster connection¶"
   ],
   "metadata": {}
  },
  {
   "cell_type": "code",
   "execution_count": null,
   "source": [
    "session.shutdown()\r\n",
    "cluster.shutdown()"
   ],
   "outputs": [],
   "metadata": {}
  },
  {
   "cell_type": "code",
   "execution_count": null,
   "source": [],
   "outputs": [],
   "metadata": {}
  },
  {
   "cell_type": "code",
   "execution_count": null,
   "source": [],
   "outputs": [],
   "metadata": {}
  }
 ],
 "metadata": {
  "kernelspec": {
   "name": "python3",
   "display_name": "Python 3.8.8 64-bit ('base': conda)"
  },
  "language_info": {
   "codemirror_mode": {
    "name": "ipython",
    "version": 3
   },
   "file_extension": ".py",
   "mimetype": "text/x-python",
   "name": "python",
   "nbconvert_exporter": "python",
   "pygments_lexer": "ipython3",
   "version": "3.8.8"
  },
  "interpreter": {
   "hash": "e254ffc773357790aa04a01fb60c7c6721ec5a0c6f1763bcb2e925b3d380624c"
  }
 },
 "nbformat": 4,
 "nbformat_minor": 2
}