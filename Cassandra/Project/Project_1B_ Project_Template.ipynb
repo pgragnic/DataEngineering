{
 "cells": [
  {
   "cell_type": "markdown",
   "source": [
    "# Part I. ETL Pipeline for Pre-Processing the Files"
   ],
   "metadata": {}
  },
  {
   "cell_type": "markdown",
   "source": [
    "## PLEASE RUN THE FOLLOWING CODE FOR PRE-PROCESSING THE FILES"
   ],
   "metadata": {}
  },
  {
   "cell_type": "markdown",
   "source": [
    "#### Import Python packages "
   ],
   "metadata": {}
  },
  {
   "cell_type": "code",
   "execution_count": 52,
   "source": [
    "def import_python_packages():\r\n",
    "    # Import Python packages \r\n",
    "    import pandas as pd\r\n",
    "    import cassandra\r\n",
    "    import re\r\n",
    "    import os\r\n",
    "    import glob\r\n",
    "    import numpy as np\r\n",
    "    import json\r\n",
    "    import csv"
   ],
   "outputs": [],
   "metadata": {}
  },
  {
   "cell_type": "markdown",
   "source": [
    "#### Creating list of filepaths to process original event csv data files"
   ],
   "metadata": {}
  },
  {
   "cell_type": "code",
   "execution_count": null,
   "source": [
    "def create_list_of_files(filepath):\r\n",
    "\r\n",
    "    \"\"\"\r\n",
    "    Description: This function is responsible for listing the files in a directory,\r\n",
    "    \r\n",
    "    Arguments:\r\n",
    "        filepath: directory containing file to list\r\n",
    "\r\n",
    "    Returns:\r\n",
    "        file_path_list: list of files to process\r\n",
    "    \"\"\"\r\n",
    "\r\n",
    "    # Create a for loop to create a list of files and collect each filepath\r\n",
    "    all_files = []\r\n",
    "\r\n",
    "    for root, dirs, files in os.walk(filepath):\r\n",
    "        files = glob.glob(os.path.join(root,'*.csv'))\r\n",
    "        for f in files :\r\n",
    "            all_files.append(os.path.abspath(f))\r\n",
    "        \r\n",
    "    # join the file path and roots with the subdirectories using glob\r\n",
    "        file_path_list = glob.glob(os.path.join(root,'*'))\r\n",
    "        # print(file_path_list)\r\n",
    "\r\n",
    "    return file_path_list"
   ],
   "outputs": [],
   "metadata": {}
  },
  {
   "cell_type": "markdown",
   "source": [
    "#### Processing the files to create the data file csv that will be used for Apache Casssandra tables"
   ],
   "metadata": {}
  },
  {
   "cell_type": "code",
   "execution_count": null,
   "source": [
    "def process_csv_files(file_path_list, result_file_name):\r\n",
    "\r\n",
    "    \"\"\"\r\n",
    "    Description: This function process csv files to create a smaller event data csv file \\\r\n",
    "    called event_datafile_full.csv that will be used to insert data \\\r\n",
    "    into the Apache Cassandra tables\r\n",
    "    \r\n",
    "    Arguments:\r\n",
    "        file_path_list: list of files to process\r\n",
    "\r\n",
    "    Returns:\r\n",
    "        file_path_list: list of files to process\r\n",
    "    \"\"\"\r\n",
    "\r\n",
    "    # initiating an empty list of rows that will be generated from each file\r\n",
    "    full_data_rows_list = [] \r\n",
    "        \r\n",
    "    # for every filepath in the file path list \r\n",
    "    for f in file_path_list:\r\n",
    "\r\n",
    "    # reading csv file\r\n",
    "        with open(f, 'r', encoding = 'utf8', newline='') as csvfile: \r\n",
    "            # creating a csv reader object \r\n",
    "            csvreader = csv.reader(csvfile) \r\n",
    "            next(csvreader)\r\n",
    "            \r\n",
    "    # extracting each data row one by one and append it        \r\n",
    "            for line in csvreader:\r\n",
    "                #print(line)\r\n",
    "                full_data_rows_list.append(line) \r\n",
    "                \r\n",
    "\r\n",
    "    # creating a smaller event data csv file called event_datafile_full csv that will be used to insert data into the \\\r\n",
    "    # Apache Cassandra tables\r\n",
    "    csv.register_dialect('myDialect', quoting=csv.QUOTE_ALL, skipinitialspace=True)\r\n",
    "\r\n",
    "    with open(result_file_name, 'w', encoding = 'utf8', newline='') as f:\r\n",
    "        writer = csv.writer(f, dialect='myDialect')\r\n",
    "        writer.writerow(['artist','firstName','gender','itemInSession','lastName','length',\\\r\n",
    "                    'level','location','sessionId','song','userId'])\r\n",
    "        for row in full_data_rows_list:\r\n",
    "            if (row[0] == ''):\r\n",
    "                continue\r\n",
    "            writer.writerow((row[0], row[2], row[3], row[4], row[5], row[6], row[7], row[8], row[12], row[13], row[16]))\r\n"
   ],
   "outputs": [],
   "metadata": {}
  },
  {
   "cell_type": "markdown",
   "source": [
    "# Part II. Complete the Apache Cassandra coding portion of your project. \r\n",
    "\r\n",
    "## Now you are ready to work with the CSV file titled <font color=red>event_datafile_new.csv</font>, located within the Workspace directory.  The event_datafile_new.csv contains the following columns: \r\n",
    "- artist \r\n",
    "- firstName of user\r\n",
    "- gender of user\r\n",
    "- item number in session\r\n",
    "- last name of user\r\n",
    "- length of the song\r\n",
    "- level (paid or free song)\r\n",
    "- location of the user\r\n",
    "- sessionId\r\n",
    "- song title\r\n",
    "- userId\r\n",
    "\r\n",
    "The image below is a screenshot of what the denormalized data should appear like in the <font color=red>**event_datafile_new.csv**</font> after the code above is run:<br>\r\n",
    "\r\n",
    "<img src=\"images/image_event_datafile_new.jpg\">"
   ],
   "metadata": {}
  },
  {
   "cell_type": "markdown",
   "source": [
    "# Begin writing your Apache Cassandra code in the cells below"
   ],
   "metadata": {}
  },
  {
   "cell_type": "markdown",
   "source": [
    "#### Creating a Cluster"
   ],
   "metadata": {}
  },
  {
   "cell_type": "code",
   "execution_count": null,
   "source": [
    "def cassandra_connection(hostname):\r\n",
    "\r\n",
    "    \"\"\"\r\n",
    "    Description: This function makes a connection to a Cassandra instance\r\n",
    "    \r\n",
    "    Arguments:\r\n",
    "        hostname: hostname of the Cassandra instance\r\n",
    "\r\n",
    "    Returns:\r\n",
    "        session: used to communicate with the Cassandra instance\r\n",
    "    \"\"\"\r\n",
    "\r\n",
    "    from cassandra.cluster import Cluster\r\n",
    "\r\n",
    "    try:\r\n",
    "        cluster = Cluster([hostname])\r\n",
    "        session = cluster.connect()\r\n",
    "    except Exception as e:\r\n",
    "        print (e)\r\n",
    "    \r\n",
    "    return session, cluster"
   ],
   "outputs": [],
   "metadata": {}
  },
  {
   "cell_type": "markdown",
   "source": [
    "#### Create Keyspace"
   ],
   "metadata": {}
  },
  {
   "cell_type": "code",
   "execution_count": null,
   "source": [
    "def create_set_keyspace(session):\r\n",
    "\r\n",
    "    \"\"\"\r\n",
    "    Description: creates and set a new Keyspace (if it does not exist) in the Cassandra instance\r\n",
    "    \r\n",
    "    Arguments:\r\n",
    "        session: used to communicate with the Cassandra instance\r\n",
    "\r\n",
    "    Returns:\r\n",
    "        None\r\n",
    "    \"\"\"\r\n",
    "\r\n",
    "    try:\r\n",
    "        session.execute(\"\"\"\r\n",
    "        CREATE KEYSPACE IF NOT EXISTS udacity\r\n",
    "        WITH REPLICATION =\r\n",
    "        { 'class' : 'SimpleStrategy', 'replication_factor' : '1'}\r\n",
    "        \"\"\")\r\n",
    "    except Exception as e:\r\n",
    "        print(e)\r\n",
    "\r\n",
    "    try:\r\n",
    "        session.set_keyspace('udacity')\r\n",
    "    except Exception as e:\r\n",
    "        print(e)"
   ],
   "outputs": [],
   "metadata": {}
  },
  {
   "cell_type": "markdown",
   "source": [
    "#### Set Keyspace"
   ],
   "metadata": {}
  },
  {
   "cell_type": "markdown",
   "source": [
    "### Now we need to create tables to run the following queries. Remember, with Apache Cassandra you model the database tables on the queries you want to run."
   ],
   "metadata": {}
  },
  {
   "cell_type": "markdown",
   "source": [
    "## Create queries to ask the following three questions of the data\r\n",
    "\r\n",
    "### 1. Give me the artist, song title and song's length in the music app history that was heard during  sessionId = 338, and itemInSession  = 4\r\n",
    "\r\n",
    "\r\n",
    "### 2. Give me only the following: name of artist, song (sorted by itemInSession) and user (first and last name) for userid = 10, sessionid = 182\r\n",
    "    \r\n",
    "\r\n",
    "### 3. Give me every user name (first and last) in my music app history who listened to the song 'All Hands Against His Own'\r\n",
    "\r\n",
    "\r\n"
   ],
   "metadata": {}
  },
  {
   "cell_type": "markdown",
   "source": [
    "# Query 1: Give me the artist, song title and song's length in the music app history that was heard during  sessionId = 338, and itemInSession  = 4"
   ],
   "metadata": {}
  },
  {
   "cell_type": "code",
   "execution_count": null,
   "source": [
    "def process_query1(event_data_file_name, session):\r\n",
    "\r\n",
    "    \"\"\"\r\n",
    "    Description: creates table, import file in the table then do a select statement\r\n",
    "    \r\n",
    "    Arguments:\r\n",
    "        result_file_name: file to import in the table\r\n",
    "\r\n",
    "    Returns:\r\n",
    "        None\r\n",
    "    \"\"\"\r\n",
    "\r\n",
    "    # Create table ml_for_artist_song_songlength\r\n",
    "    try:\r\n",
    "        query = \"CREATE TABLE IF NOT EXISTS ml_for_artist_song_songlength \"\r\n",
    "        query = query + \"(session_id int, item_in_session int, artist_name text, song_title text, song_length decimal, PRIMARY KEY (session_id, item_in_session))\"\r\n",
    "        session.execute(query)\r\n",
    "    except Exception as e:\r\n",
    "        print(e)\r\n",
    "    \r\n",
    "    # Import event data file in table\r\n",
    "    with open(event_data_file_name, encoding = 'utf8') as f:\r\n",
    "        csvreader = csv.reader(f)\r\n",
    "        next(csvreader) # skip header\r\n",
    "        for line in csvreader:\r\n",
    "            try:\r\n",
    "                query = \"INSERT INTO ml_for_artist_song_songlength (session_id, item_in_session, artist_name, song_title, song_length)\"\r\n",
    "                query = query + \"VALUES (%s, %s, %s, %s, %s)\"\r\n",
    "                session.execute_async(query, (int(line[8]), int(line[3]), line[0], line[9], float(line[5])))\r\n",
    "            except Exception as e:\r\n",
    "                print(e)\r\n",
    "\r\n",
    "    #SELECT statement to display the result\r\n",
    "    query = \"SELECT artist_name, song_title, song_length FROM ml_for_artist_song_songlength WHERE session_id = 338 and item_in_session = 4\"\r\n",
    "    header = \"Artist Name // Song Title // Song Length\" \r\n",
    "    print(header)\r\n",
    "\r\n",
    "    try:\r\n",
    "        rows = session.execute(query)\r\n",
    "    except Exception as e:\r\n",
    "        print(e)\r\n",
    "    \r\n",
    "    for row in rows:\r\n",
    "        print(row.artist_name, \" // \" , row.song_title, \" // \" , row.song_length)"
   ],
   "outputs": [],
   "metadata": {}
  },
  {
   "cell_type": "markdown",
   "source": [
    "# Query2: Give me only the following: name of artist, song (sorted by itemInSession) and user (first and last name) for userid = 10, sessionid = 182"
   ],
   "metadata": {}
  },
  {
   "cell_type": "code",
   "execution_count": null,
   "source": [
    "def process_query2(event_data_file_name, session):\r\n",
    "\r\n",
    "    \"\"\"\r\n",
    "    Description: creates table, import file in the table then do a select statement\r\n",
    "    \r\n",
    "    Arguments:\r\n",
    "        result_file_name: file to import in the table\r\n",
    "\r\n",
    "    Returns:\r\n",
    "        None\r\n",
    "    \"\"\"\r\n",
    "\r\n",
    "    # Create table ml_for_artist_song_username\r\n",
    "    query = \"CREATE TABLE IF NOT EXISTS ml_for_artist_song_username \"\r\n",
    "    query = query + \"(user_id int, session_id int, item_in_session int, artist_name text, song_title text, PRIMARY KEY (user_id, session_id, item_in_session))\"\r\n",
    "\r\n",
    "    session.execute(query)\r\n",
    "\r\n",
    "    # Import event data file in table\r\n",
    "    with open(event_data_file_name, encoding = 'utf8') as f:\r\n",
    "        csvreader = csv.reader(f)\r\n",
    "        next(csvreader) # skip header\r\n",
    "        for line in csvreader:\r\n",
    "            try:\r\n",
    "                query = \"INSERT INTO ml_for_artist_song_username (user_id, session_id, item_in_session, artist_name, song_title)\"\r\n",
    "                query = query + \"VALUES (%s, %s, %s, %s, %s)\"\r\n",
    "                session.execute_async(query, (int(line[10]), int(line[8]), int(line[3]), line[0], line[9]))\r\n",
    "            except Exception as e:\r\n",
    "                print(e)\r\n",
    "    \r\n",
    "    #SELECT statement to display the result\r\n",
    "    query = \"SELECT artist_name, song_title, item_in_session FROM ml_for_artist_song_username WHERE user_id = 10 and session_id = 182\"\r\n",
    "\r\n",
    "    header = \"Item In Session // Artist Name // Song Title\" \r\n",
    "    print(header)\r\n",
    "\r\n",
    "    try:\r\n",
    "        rows = session.execute(query)\r\n",
    "    except Exception as e:\r\n",
    "        print(e)\r\n",
    "\r\n",
    "    for row in rows:\r\n",
    "        print(row.item_in_session, \" // \", row.artist_name, \" // \" , row.song_title)"
   ],
   "outputs": [],
   "metadata": {}
  },
  {
   "cell_type": "markdown",
   "source": [
    "# Query 3: Give me every user name (first and last) in my music app history who listened to the song 'All Hands Against His Own'"
   ],
   "metadata": {}
  },
  {
   "cell_type": "code",
   "execution_count": null,
   "source": [
    "def process_query3(event_data_file_name, session):\r\n",
    "\r\n",
    "    \"\"\"\r\n",
    "    Description: creates table, import file in the table then do a select statement\r\n",
    "    \r\n",
    "    Arguments:\r\n",
    "        result_file_name: file to import in the table\r\n",
    "\r\n",
    "    Returns:\r\n",
    "        None\r\n",
    "    \"\"\"\r\n",
    "\r\n",
    "    # Create table ml_for_username\r\n",
    "    query = \"CREATE TABLE IF NOT EXISTS ml_for_username \"\r\n",
    "    query = query + \"(song_title text, item_in_session int, session_id int, username text, PRIMARY KEY (song_title, session_id, item_in_session))\"\r\n",
    "\r\n",
    "    session.execute(query)\r\n",
    "    with open(event_data_file_name, encoding = 'utf8') as f:\r\n",
    "        csvreader = csv.reader(f)\r\n",
    "        next(csvreader) # skip header\r\n",
    "        for line in csvreader:\r\n",
    "            try:\r\n",
    "                username = line[1] + \" \" + line[4]\r\n",
    "                query = \"INSERT INTO ml_for_username (song_title, item_in_session, session_id, username)\"\r\n",
    "                query = query + \"VALUES (%s, %s, %s, %s)\"\r\n",
    "                session.execute_async(query, (line[9], int(line[3]), int(line[8]), username))\r\n",
    "            except Exception as e:\r\n",
    "                print(e)\r\n",
    "                \r\n",
    "    # SELECT statement to display the result\r\n",
    "    query = \"SELECT username FROM ml_for_username WHERE song_title = 'All Hands Against His Own'\"\r\n",
    "\r\n",
    "    header = \"UserName\"\r\n",
    "    print(header)\r\n",
    "\r\n",
    "    try:\r\n",
    "        rows = session.execute(query)\r\n",
    "    except Exception as e:\r\n",
    "        print(e)\r\n",
    "\r\n",
    "    for row in rows:\r\n",
    "        print(row.username)"
   ],
   "outputs": [],
   "metadata": {}
  },
  {
   "cell_type": "markdown",
   "source": [
    "# Drop the tables before closing out the sessions"
   ],
   "metadata": {}
  },
  {
   "cell_type": "code",
   "execution_count": 55,
   "source": [
    "def drop_table(table_name, session):\r\n",
    "    ## TO-DO: Drop the table before closing out the sessions\r\n",
    "    try:\r\n",
    "        session.execute(\"DROP TABLE IF EXISTS \" + table_name)\r\n",
    "    except Exception as e:\r\n",
    "        print(e)\r\n"
   ],
   "outputs": [],
   "metadata": {}
  },
  {
   "cell_type": "code",
   "execution_count": 56,
   "source": [
    "def main():\r\n",
    "\r\n",
    "    # Set variables\r\n",
    "    filepath = os.getcwd() + '/event_data'\r\n",
    "    event_data_file_name = \"event_datafile_new.csv\"\r\n",
    "    hostname = \"127.0.0.1\"\r\n",
    "    keyspace_name = \"udacity\"\r\n",
    "    \r\n",
    "    # Import python packages\r\n",
    "    import_python_packages()\r\n",
    "\r\n",
    "    # file processing part\r\n",
    "    list_of_files = create_list_of_files(filepath)\r\n",
    "    process_csv_files(list_of_files, event_data_file_name)\r\n",
    "\r\n",
    "    # Cassandra part\r\n",
    "    session, cluster = cassandra_connection(hostname)\r\n",
    "    create_set_keyspace(session)\r\n",
    "\r\n",
    "    #CQL queries\r\n",
    "    process_query1(event_data_file_name, session)\r\n",
    "    print(\"\")\r\n",
    "\r\n",
    "    process_query2(event_data_file_name, session)\r\n",
    "    print(\"\")\r\n",
    "\r\n",
    "    process_query3(event_data_file_name, session)\r\n",
    "    print(\"\")\r\n",
    "\r\n",
    "    # Drop tables\r\n",
    "    drop_table(\"ml_for_artist_song_songlength\", session)\r\n",
    "    drop_table(\"ml_for_artist_song_username\", session)\r\n",
    "    drop_table(\"ml_for_username\", session)\r\n",
    "    session.execute(\"DROP KEYSPACE \" + keyspace_name)\r\n",
    "\r\n",
    "    # Close the session and cluster connection\r\n",
    "    session.shutdown()\r\n",
    "    cluster.shutdown()\r\n",
    "\r\n",
    "\r\n",
    "if __name__ == \"__main__\":\r\n",
    "    main()"
   ],
   "outputs": [
    {
     "output_type": "stream",
     "name": "stdout",
     "text": [
      "Artist Name // Song Title // Song Length\n",
      "Faithless  //  Music Matters (Mark Knight Dub)  //  495.3073\n",
      "\n",
      "Item In Session // Artist Name // Song Title\n",
      "0  //  Down To The Bone  //  Keep On Keepin' On\n",
      "1  //  Three Drives  //  Greece 2000\n",
      "2  //  Sebastien Tellier  //  Kilometer\n",
      "3  //  Lonnie Gordon  //  Catch You Baby (Steve Pitron & Max Sanna Radio Edit)\n",
      "\n",
      "UserName\n",
      "Sara Johnson\n",
      "Jacqueline Lynch\n",
      "Tegan Levine\n",
      "\n"
     ]
    }
   ],
   "metadata": {}
  }
 ],
 "metadata": {
  "kernelspec": {
   "name": "python3",
   "display_name": "Python 3.8.8 64-bit ('base': conda)"
  },
  "language_info": {
   "codemirror_mode": {
    "name": "ipython",
    "version": 3
   },
   "file_extension": ".py",
   "mimetype": "text/x-python",
   "name": "python",
   "nbconvert_exporter": "python",
   "pygments_lexer": "ipython3",
   "version": "3.8.8"
  },
  "interpreter": {
   "hash": "e254ffc773357790aa04a01fb60c7c6721ec5a0c6f1763bcb2e925b3d380624c"
  }
 },
 "nbformat": 4,
 "nbformat_minor": 2
}