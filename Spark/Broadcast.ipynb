{
 "cells": [
  {
   "cell_type": "code",
   "execution_count": 1,
   "source": [
    "#TODO run this in jupyter notebook\r\n",
    "\r\n",
    "from pyspark.sql import SparkSession\r\n",
    "from pyspark.context import SparkContext\r\n",
    "\r\n",
    "import findspark\r\n",
    "findspark.init()"
   ],
   "outputs": [],
   "metadata": {}
  },
  {
   "cell_type": "code",
   "execution_count": 2,
   "source": [
    "#spark = SparkSession \\\r\n",
    "#    .builder \\\r\n",
    "#    .appName(\"Wrangling Data issues\") \\\r\n",
    "#    .getOrCreate()\r\n",
    "\r\n",
    "sc = SparkContext('local[*]', 'pyspark')"
   ],
   "outputs": [],
   "metadata": {}
  },
  {
   "cell_type": "code",
   "execution_count": 3,
   "source": [
    "my_dict = {\"item1\": 1, \"item2\": 2, \"item3\": 3, \"item4\": 4} \r\n",
    "my_list = [\"item1\", \"item2\", \"item3\", \"item4\"]\r\n",
    "\r\n",
    "my_dict_bc = sc.broadcast(my_dict)"
   ],
   "outputs": [],
   "metadata": {}
  },
  {
   "cell_type": "code",
   "execution_count": 4,
   "source": [
    "def my_func(letter):\r\n",
    "    return my_dict_bc.value[letter] \r\n",
    "\r\n",
    "my_list_rdd = sc.parallelize(my_list)\r\n",
    "\r\n",
    "result = my_list_rdd.map(lambda x: my_func(x)).collect()\r\n",
    "\r\n",
    "print(result)"
   ],
   "outputs": [
    {
     "output_type": "stream",
     "name": "stdout",
     "text": [
      "[1, 2, 3, 4]\n"
     ]
    }
   ],
   "metadata": {}
  }
 ],
 "metadata": {
  "orig_nbformat": 4,
  "language_info": {
   "name": "python",
   "version": "3.8.8",
   "mimetype": "text/x-python",
   "codemirror_mode": {
    "name": "ipython",
    "version": 3
   },
   "pygments_lexer": "ipython3",
   "nbconvert_exporter": "python",
   "file_extension": ".py"
  },
  "kernelspec": {
   "name": "python3",
   "display_name": "Python 3.8.8 64-bit ('base': conda)"
  },
  "interpreter": {
   "hash": "e254ffc773357790aa04a01fb60c7c6721ec5a0c6f1763bcb2e925b3d380624c"
  }
 },
 "nbformat": 4,
 "nbformat_minor": 2
}