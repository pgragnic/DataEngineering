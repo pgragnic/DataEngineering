{
 "cells": [
  {
   "cell_type": "markdown",
   "source": [
    "# Answer Key to the Data Wrangling with DataFrames Coding Quiz\n",
    "\n",
    "Helpful resources:\n",
    "https://spark.apache.org/docs/2.4.0/api/python/pyspark.sql.html"
   ],
   "metadata": {}
  },
  {
   "cell_type": "code",
   "execution_count": null,
   "source": [
    "from pyspark.sql import SparkSession\r\n",
    "from pyspark.sql.functions import isnan, count, when, col, desc, udf, col, sort_array, asc, avg\r\n",
    "from pyspark.sql.functions import sum as Fsum\r\n",
    "from pyspark.sql.window import Window\r\n",
    "from pyspark.sql.types import IntegerType"
   ],
   "outputs": [],
   "metadata": {}
  },
  {
   "cell_type": "code",
   "execution_count": null,
   "source": [
    "# 1) import any other libraries you might need\r\n",
    "# 2) instantiate a Spark session \r\n",
    "# 3) read in the data set located at the path \"data/sparkify_log_small.json\"\r\n",
    "# 4) write code to answer the quiz questions \r\n",
    "\r\n",
    "spark = SparkSession \\\r\n",
    "    .builder \\\r\n",
    "    .appName(\"Data Frames practice\") \\\r\n",
    "    .getOrCreate()\r\n",
    "\r\n",
    "df = spark.read.json(\"data/sparkify_log_small.json\")"
   ],
   "outputs": [],
   "metadata": {}
  },
  {
   "cell_type": "markdown",
   "source": [
    "# Question 1\n",
    "\n",
    "Which page did user id \"\" (empty string) NOT visit?"
   ],
   "metadata": {}
  },
  {
   "cell_type": "code",
   "execution_count": null,
   "source": [
    "df.printSchema()"
   ],
   "outputs": [],
   "metadata": {}
  },
  {
   "cell_type": "code",
   "execution_count": null,
   "source": [
    "# filter for users with blank user id\r\n",
    "blank_pages = df.filter(df.userId == '') \\\r\n",
    "    .select(col('page') \\\r\n",
    "    .alias('blank_pages')) \\\r\n",
    "    .dropDuplicates()\r\n",
    "\r\n",
    "# get a list of possible pages that could be visited\r\n",
    "all_pages = df.select('page').dropDuplicates()\r\n",
    "\r\n",
    "# find values in all_pages that are not in blank_pages\r\n",
    "# these are the pages that the blank user did not go to\r\n",
    "for row in set(all_pages.collect()) - set(blank_pages.collect()):\r\n",
    "    print(row.page)"
   ],
   "outputs": [],
   "metadata": {}
  },
  {
   "cell_type": "markdown",
   "source": [
    "# Question 2 - Reflect\n",
    "\n",
    "What type of user does the empty string user id most likely refer to?\n"
   ],
   "metadata": {}
  },
  {
   "cell_type": "markdown",
   "source": [
    "Perhaps it represents users who have not signed up yet or who are signed out and are about to log in."
   ],
   "metadata": {}
  },
  {
   "cell_type": "markdown",
   "source": [
    "# Question 3\n",
    "\n",
    "How many female users do we have in the data set?"
   ],
   "metadata": {}
  },
  {
   "cell_type": "code",
   "execution_count": null,
   "source": [
    "df.filter(df.gender == 'F') \\\r\n",
    "    .select('userId', 'gender') \\\r\n",
    "    .dropDuplicates() \\\r\n",
    "    .count()"
   ],
   "outputs": [],
   "metadata": {}
  },
  {
   "cell_type": "markdown",
   "source": [
    "# Question 4\n",
    "\n",
    "How many songs were played from the most played artist?"
   ],
   "metadata": {}
  },
  {
   "cell_type": "code",
   "execution_count": null,
   "source": [
    "df.filter(df.page == 'NextSong') \\\r\n",
    "    .select('Artist') \\\r\n",
    "    .groupBy('Artist') \\\r\n",
    "    .agg({'Artist':'count'}) \\\r\n",
    "    .withColumnRenamed('count(Artist)', 'Artistcount') \\\r\n",
    "    .sort(desc('Artistcount')) \\\r\n",
    "    .show(1)"
   ],
   "outputs": [],
   "metadata": {}
  },
  {
   "cell_type": "markdown",
   "source": [
    "# Question 5 (challenge)\n",
    "\n",
    "How many songs do users listen to on average between visiting our home page? Please round your answer to the closest integer.\n",
    "\n"
   ],
   "metadata": {}
  },
  {
   "cell_type": "code",
   "execution_count": null,
   "source": [
    "# TODO: filter out 0 sum and max sum to get more exact answer\r\n",
    "\r\n",
    "function = udf(lambda ishome : int(ishome == 'Home'), IntegerType())\r\n",
    "\r\n",
    "user_window = Window \\\r\n",
    "    .partitionBy('userID') \\\r\n",
    "    .orderBy(desc('ts')) \\\r\n",
    "    .rangeBetween(Window.unboundedPreceding, 0)\r\n",
    "\r\n",
    "cusum = df.filter((df.page == 'NextSong') | (df.page == 'Home')) \\\r\n",
    "    .select('userID', 'page', 'ts') \\\r\n",
    "    .withColumn('homevisit', function(col('page'))) \\\r\n",
    "    .withColumn('period', Fsum('homevisit').over(user_window))\r\n",
    "\r\n",
    "cusum.filter((cusum.page == 'NextSong')) \\\r\n",
    "    .groupBy('userID', 'period') \\\r\n",
    "    .agg({'period':'count'}) \\\r\n",
    "    .agg({'count(period)':'avg'}).show()"
   ],
   "outputs": [],
   "metadata": {}
  }
 ],
 "metadata": {
  "kernelspec": {
   "display_name": "Python 3",
   "language": "python",
   "name": "python3"
  },
  "language_info": {
   "codemirror_mode": {
    "name": "ipython",
    "version": 3
   },
   "file_extension": ".py",
   "mimetype": "text/x-python",
   "name": "python",
   "nbconvert_exporter": "python",
   "pygments_lexer": "ipython3",
   "version": "3.6.3"
  }
 },
 "nbformat": 4,
 "nbformat_minor": 2
}