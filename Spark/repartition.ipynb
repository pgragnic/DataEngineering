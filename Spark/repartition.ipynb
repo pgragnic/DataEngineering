{
 "cells": [
  {
   "cell_type": "code",
   "execution_count": 1,
   "source": [
    "from pyspark.sql import SparkSession"
   ],
   "outputs": [],
   "metadata": {}
  },
  {
   "cell_type": "code",
   "execution_count": 2,
   "source": [
    "spark = SparkSession.builder.appName(\"Repartition Example\").getOrCreate()"
   ],
   "outputs": [],
   "metadata": {}
  },
  {
   "cell_type": "code",
   "execution_count": 3,
   "source": [
    "# TODO Path to your file\r\n",
    "df = spark.read.csv(\"c:/temp/parking_violation.csv\", header=True)\r\n",
    "#df = spark.read.format('csv').load(\"c:/temp/parking_violation.csv\")"
   ],
   "outputs": [],
   "metadata": {}
  },
  {
   "cell_type": "code",
   "execution_count": 5,
   "source": [
    "print(df.count())\r\n",
    "print(df.printSchema)"
   ],
   "outputs": [
    {
     "output_type": "stream",
     "name": "stdout",
     "text": [
      "11809233\n",
      "<bound method DataFrame.printSchema of DataFrame[_c0: string, Summons_Number: string, Plate_ID: string, Registration_State: string, Plate_Type: string, Issue_Date: string, Violation_Code: string, Vehicle_Body_Type: string, Vehicle_Make: string, Issuing_Agency: string, Street_Code1: string, Street_Code2: string, Street_Code3: string, Vehicle_Expiration_Date: string, Violation_Location: string, Violation_Precinct: string, Issuer_Precinct: string, Issuer_Code: string, Issuer_Command: string, Issuer_Squad: string, Violation_Time: string, Time_First_Observed: string, Violation_County: string, Violation_In_Front_Of_Or_Opposite: string, House_Number: string, Street_Name: string, Intersecting_Street: string, Date_First_Observed: string, Law_Section: string, Sub_Division: string, Violation_Legal_Code: string, Days_Parking_In_Effect____: string, From_Hours_In_Effect: string, To_Hours_In_Effect: string, Vehicle_Color: string, Unregistered_Vehicle?: string, Vehicle_Year: string, Meter_Number: string, Feet_From_Curb: string, Violation_Post_Code: string, Violation_Description: string, No_Standing_or_Stopping_Violation: string, Hydrant_Violation: string, Double_Parking_Violation: string, Latitude: string, Longitude: string, Community_Board: string, Community_Council_: string, Census_Tract: string, BIN: string, BBL: string, NTA: string, year: string, month: string]>\n"
     ]
    }
   ],
   "metadata": {}
  },
  {
   "cell_type": "code",
   "execution_count": 4,
   "source": [
    "#TODO explore & do some transformations and actions and see how Spark works,\r\n",
    "# especially on the executor tab\r\n",
    "# for example.. write is an action\r\n",
    "# fill it in with your desired path and look at the executor tab\r\n",
    "df.write.partitionBy('year').csv(\"c:/temp/by_year.csv\")"
   ],
   "outputs": [],
   "metadata": {}
  },
  {
   "cell_type": "code",
   "execution_count": 5,
   "source": [
    "df.write.partitionBy('month').csv(\"c:/temp/by_month.csv\")"
   ],
   "outputs": [],
   "metadata": {}
  },
  {
   "cell_type": "code",
   "execution_count": 6,
   "source": [
    "# Now, try doing repartition\r\n",
    "# TODO Add the number of your workers\r\n",
    "# Write another path, and take a look at Executor tab. What changed?\r\n",
    "df.repartition(8).write.csv(\"c:/temp/by_repartition.csv\")"
   ],
   "outputs": [],
   "metadata": {}
  }
 ],
 "metadata": {
  "orig_nbformat": 4,
  "language_info": {
   "name": "python",
   "version": "3.8.8",
   "mimetype": "text/x-python",
   "codemirror_mode": {
    "name": "ipython",
    "version": 3
   },
   "pygments_lexer": "ipython3",
   "nbconvert_exporter": "python",
   "file_extension": ".py"
  },
  "kernelspec": {
   "name": "python3",
   "display_name": "Python 3.8.8 64-bit ('base': conda)"
  },
  "interpreter": {
   "hash": "e254ffc773357790aa04a01fb60c7c6721ec5a0c6f1763bcb2e925b3d380624c"
  }
 },
 "nbformat": 4,
 "nbformat_minor": 2
}