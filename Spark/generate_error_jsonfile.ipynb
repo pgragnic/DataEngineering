{
 "cells": [
  {
   "cell_type": "code",
   "execution_count": 1,
   "source": [
    "from pyspark.sql import SparkSession\r\n",
    "from pyspark.context import SparkContext\r\n",
    "from pyspark.sql.functions import col\r\n",
    "from pyspark.sql.functions import isnan, count, when, desc, udf, sort_array, asc, avg, lit\r\n",
    "\r\n",
    "import json\r\n",
    "import findspark\r\n",
    "findspark.init()\r\n",
    "\r\n",
    "from glob import iglob\r\n",
    "import shutil\r\n",
    "import os\r\n",
    "import time\r\n",
    "\r\n",
    "start_time = time.time()\r\n",
    "\r\n",
    "spark = SparkSession \\\r\n",
    "    .builder \\\r\n",
    "    .appName(\"Wrangling Data issues\") \\\r\n",
    "    .getOrCreate()\r\n",
    "\r\n",
    "spark.sparkContext.setLogLevel(\"ERROR\")\r\n",
    "\r\n",
    "print(\"--- It took %s seconds ---\" % (time.time() - start_time))\r\n",
    "\r\n",
    "#spark.sparkContext.parallelize(user_log.write.json(pathToWriteIn))"
   ],
   "outputs": [
    {
     "output_type": "stream",
     "name": "stdout",
     "text": [
      "--- It took 7.3144145011901855 seconds ---\n"
     ]
    }
   ],
   "metadata": {}
  },
  {
   "cell_type": "code",
   "execution_count": 2,
   "source": [
    "path = 'sparkify_event_data.json'\r\n",
    "user_log = spark.read.json(path)"
   ],
   "outputs": [],
   "metadata": {}
  },
  {
   "cell_type": "code",
   "execution_count": 3,
   "source": [
    "pathToWriteIn = \"errors_2/\"\r\n",
    "user_log.write.json(pathToWriteIn, mode=\"overwrite\")"
   ],
   "outputs": [],
   "metadata": {}
  },
  {
   "cell_type": "code",
   "execution_count": 4,
   "source": [
    "from glob import iglob\r\n",
    "import shutil\r\n",
    "import os\r\n",
    "\r\n",
    "destination = open('errors6.json', 'wb')\r\n",
    "for filename in iglob(os.path.join(pathToWriteIn, '*.json')):\r\n",
    "    shutil.copyfileobj(open(filename, 'rb'), destination)\r\n",
    "destination.close()"
   ],
   "outputs": [],
   "metadata": {}
  }
 ],
 "metadata": {
  "orig_nbformat": 4,
  "language_info": {
   "name": "python",
   "version": "3.8.8",
   "mimetype": "text/x-python",
   "codemirror_mode": {
    "name": "ipython",
    "version": 3
   },
   "pygments_lexer": "ipython3",
   "nbconvert_exporter": "python",
   "file_extension": ".py"
  },
  "kernelspec": {
   "name": "python3",
   "display_name": "Python 3.8.8 64-bit ('base': conda)"
  },
  "interpreter": {
   "hash": "e254ffc773357790aa04a01fb60c7c6721ec5a0c6f1763bcb2e925b3d380624c"
  }
 },
 "nbformat": 4,
 "nbformat_minor": 2
}