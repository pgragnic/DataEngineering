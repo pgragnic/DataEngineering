{
 "cells": [
  {
   "cell_type": "code",
   "execution_count": null,
   "source": [
    "from pyspark.sql import SparkSession\r\n",
    "from pyspark.context import SparkContext\r\n",
    "\r\n",
    "import findspark\r\n",
    "findspark.init()\r\n",
    "\r\n",
    "spark = SparkSession \\\r\n",
    "    .builder \\\r\n",
    "    .appName(\"Wrangling Data issues\") \\\r\n",
    "    .getOrCreate()"
   ],
   "outputs": [],
   "metadata": {}
  },
  {
   "cell_type": "code",
   "execution_count": null,
   "source": [
    "path=\"errors6.json\"\r\n",
    "logs3 = spark.read.json(path)"
   ],
   "outputs": [],
   "metadata": {}
  },
  {
   "cell_type": "code",
   "execution_count": null,
   "source": [
    "logs3.where(logs3[\"artist\"].isNotNull()).count()\r\n",
    "#log = logs.select([\"userId\",\"firstname\",\"page\",\"song\"]).where(logs.userId == \"1046\")\r\n",
    "#log.count()\r\n"
   ],
   "outputs": [],
   "metadata": {}
  },
  {
   "cell_type": "code",
   "execution_count": null,
   "source": [
    "incorrect_records = SparkContext.accumulator(0,0)"
   ],
   "outputs": [],
   "metadata": {}
  },
  {
   "cell_type": "code",
   "execution_count": null,
   "source": [
    "incorrect_records.value"
   ],
   "outputs": [],
   "metadata": {}
  },
  {
   "cell_type": "code",
   "execution_count": null,
   "source": [
    "def add_incorrect_record():\r\n",
    "    global incorrect_records\r\n",
    "    incorrect_records += 1"
   ],
   "outputs": [],
   "metadata": {}
  },
  {
   "cell_type": "code",
   "execution_count": null,
   "source": [
    "from pyspark.sql.functions import udf\r\n",
    "\r\n",
    "correct_ts = udf(lambda x: 1 if str(x).isalpha() else add_incorrect_record())"
   ],
   "outputs": [],
   "metadata": {}
  },
  {
   "cell_type": "code",
   "execution_count": null,
   "source": [
    "logs3 = logs3.where(logs3[\"artist\"].isNull()).withColumn(\"artist_null\", correct_ts(logs3.ts))"
   ],
   "outputs": [],
   "metadata": {}
  },
  {
   "cell_type": "code",
   "execution_count": null,
   "source": [
    "logs3.collect()"
   ],
   "outputs": [],
   "metadata": {}
  },
  {
   "cell_type": "code",
   "execution_count": null,
   "source": [
    "print(incorrect_records.value)\r\n",
    "incorrect_records = SparkContext.accumulator(0,0)"
   ],
   "outputs": [],
   "metadata": {}
  }
 ],
 "metadata": {
  "orig_nbformat": 4,
  "language_info": {
   "name": "python",
   "version": "3.8.8",
   "mimetype": "text/x-python",
   "codemirror_mode": {
    "name": "ipython",
    "version": 3
   },
   "pygments_lexer": "ipython3",
   "nbconvert_exporter": "python",
   "file_extension": ".py"
  },
  "kernelspec": {
   "name": "python3",
   "display_name": "Python 3.8.8 64-bit ('base': conda)"
  },
  "interpreter": {
   "hash": "e254ffc773357790aa04a01fb60c7c6721ec5a0c6f1763bcb2e925b3d380624c"
  }
 },
 "nbformat": 4,
 "nbformat_minor": 2
}