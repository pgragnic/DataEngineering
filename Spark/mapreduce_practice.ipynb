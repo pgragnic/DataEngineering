{
 "cells": [
  {
   "cell_type": "markdown",
   "source": [
    "# MapReduce\n",
    "\n",
    "The MapReduce programming technique was designed to analyze massive data sets across a cluster. In this Jupyter notebook, you'll get a sense for how Hadoop MapReduce works; however, this notebook will run locally rather than on a cluster.\n",
    "\n",
    "The biggest difference between Hadoop and Spark is that Spark tries to do as many calculations as possible in memory, which avoids moving data back and forth across a cluster. Hadoop writes intermediate calculations out to disk, which can be less efficient. Hadoop is an older technology than Spark and one of the cornerstone big data technologies.\n",
    "\n",
    "If you click on the Jupyter notebook logo at the top of the workspace, you'll be taken to the workspace directory. There you will see a file called \"songplays.txt\". This is a text file where each line represents a song that was played in the Sparkify app. The MapReduce code will count how many times each song was played. In other words, the code counts how many times the song title appears in the list.\n",
    "\n",
    "\n",
    "# MapReduce versus Hadoop MapReduce\n",
    "\n",
    "Don't get confused by the terminology! MapReduce is a programming technique. Hadoop MapReduce is a specific implementation of the programming technique.\n",
    "\n",
    "Some of the syntax will look a bit funny, so be sure to read the explanation and comments for each section. You'll learn more about the syntax in later lessons. \n",
    "\n",
    "Run each of the code cells below to see the output."
   ],
   "metadata": {}
  },
  {
   "cell_type": "code",
   "execution_count": null,
   "source": [
    "# Install mrjob library. This package is for running MapReduce jobs with Python\r\n",
    "# In Jupyter notebooks, \"!\" runs terminal commands from inside notebooks \r\n",
    "\r\n",
    "#! pip install mrjob"
   ],
   "outputs": [],
   "metadata": {}
  },
  {
   "cell_type": "code",
   "execution_count": 1,
   "source": [
    "%%file wordcount.py\r\n",
    "# %%file is an Ipython magic function that saves the code cell as a file\r\n",
    "\r\n",
    "from mrjob.job import MRJob # import the mrjob library\r\n",
    "\r\n",
    "class MRSongCount(MRJob):\r\n",
    "    \r\n",
    "    # the map step: each line in the txt file is read as a key, value pair\r\n",
    "    # in this case, each line in the txt file only contains a value but no key\r\n",
    "    # _ means that in this case, there is no key for each line\r\n",
    "    def mapper(self, _, song):\r\n",
    "        # output each line as a tuple of (song_names, 1) \r\n",
    "        yield (song, 1)\r\n",
    "\r\n",
    "    # the reduce step: combine all tuples with the same key\r\n",
    "    # in this case, the key is the song name\r\n",
    "    # then sum all the values of the tuple, which will give the total song plays\r\n",
    "    def reducer(self, key, values):\r\n",
    "        yield (key, sum(values))\r\n",
    "        \r\n",
    "if __name__ == \"__main__\":\r\n",
    "    MRSongCount.run()"
   ],
   "outputs": [
    {
     "output_type": "stream",
     "name": "stdout",
     "text": [
      "Overwriting wordcount.py\n"
     ]
    }
   ],
   "metadata": {}
  },
  {
   "cell_type": "code",
   "execution_count": 2,
   "source": [
    "# run the code as a terminal command\r\n",
    "! python wordcount.py songplays.txt"
   ],
   "outputs": [
    {
     "output_type": "stream",
     "name": "stdout",
     "text": [
      "\"Broken Networks\"\t510\n",
      "\"Data House Rock\"\t828\n",
      "\"Deep Dreams\"\t1131\n"
     ]
    },
    {
     "output_type": "stream",
     "name": "stderr",
     "text": [
      "No configs found; falling back on auto-configuration\n",
      "No configs specified for inline runner\n",
      "Creating temp directory C:\\Users\\pgrag\\AppData\\Local\\Temp\\wordcount.pgrag.20210917.093707.717694\n",
      "Running step 1 of 1...\n",
      "job output is in C:\\Users\\pgrag\\AppData\\Local\\Temp\\wordcount.pgrag.20210917.093707.717694\\output\n",
      "Streaming final output from C:\\Users\\pgrag\\AppData\\Local\\Temp\\wordcount.pgrag.20210917.093707.717694\\output...\n",
      "Removing temp directory C:\\Users\\pgrag\\AppData\\Local\\Temp\\wordcount.pgrag.20210917.093707.717694...\n"
     ]
    }
   ],
   "metadata": {}
  },
  {
   "cell_type": "markdown",
   "source": [
    "# Summary of what happens in the code.\n",
    "\n",
    "There is a list of songs in songplays.txt that looks like the following:\n",
    "\n",
    "Deep Dreams\n",
    "Data House Rock\n",
    "Deep Dreams\n",
    "Data House Rock\n",
    "Broken Networks\n",
    "Data House Rock\n",
    "etc.....\n",
    "\n",
    "During the map step, the code reads in the txt file one line at a time. The map steps outputs a set of tuples that look like this:\n",
    "\n",
    "(Deep Dreams, 1)  \n",
    "(Data House Rock, 1)  \n",
    "(Deep Dreams, 1)  \n",
    "(Data House Rock, 1)  \n",
    "(Broken Networks, 1)  \n",
    "(Data House Rock, 1)  \n",
    "etc.....\n",
    "\n",
    "Finally, the reduce step combines all of the values by keys and sums the values:  \n",
    "\n",
    "(Deep Dreams, \\[1, 1, 1, 1, 1, 1, ... \\])  \n",
    "(Data House Rock, \\[1, 1, 1, 1, 1, 1, 1, 1, 1, 1, 1, ...\\])  \n",
    "(Broken Networks, \\[1, 1, 1, ...\\]  \n",
    "\n",
    "With the output \n",
    "\n",
    "(Deep Dreams, 1131)  \n",
    "(Data House Rock, 510)  \n",
    "(Broken Networks, 828)  "
   ],
   "metadata": {}
  }
 ],
 "metadata": {
  "kernelspec": {
   "name": "python3",
   "display_name": "Python 3.8.8 64-bit ('base': conda)"
  },
  "language_info": {
   "codemirror_mode": {
    "name": "ipython",
    "version": 3
   },
   "file_extension": ".py",
   "mimetype": "text/x-python",
   "name": "python",
   "nbconvert_exporter": "python",
   "pygments_lexer": "ipython3",
   "version": "3.8.8"
  },
  "interpreter": {
   "hash": "e254ffc773357790aa04a01fb60c7c6721ec5a0c6f1763bcb2e925b3d380624c"
  }
 },
 "nbformat": 4,
 "nbformat_minor": 2
}