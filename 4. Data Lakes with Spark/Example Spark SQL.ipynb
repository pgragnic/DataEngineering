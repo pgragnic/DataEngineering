{
 "cells": [
  {
   "cell_type": "code",
   "execution_count": 18,
   "source": [
    "from pyspark.sql import SparkSession\r\n",
    "from pyspark.sql.functions import udf\r\n",
    "from pyspark.sql.types import StringType\r\n",
    "from pyspark.sql.types import IntegerType\r\n",
    "from pyspark.sql.functions import desc\r\n",
    "from pyspark.sql.functions import asc\r\n",
    "from pyspark.sql.functions import sum as Fsum\r\n",
    "from pyspark.sql.functions import countDistinct\r\n",
    "from pyspark.sql.functions import isnan, count, when, col, desc, udf, col, sort_array, asc, avg\r\n",
    "from pyspark.sql import Window\r\n",
    "from pyspark import SparkConf, SparkContext\r\n",
    "\r\n",
    "import datetime\r\n",
    "\r\n",
    "import numpy as np\r\n",
    "import pandas as pd\r\n",
    "import configparser\r\n",
    "\r\n",
    "import pyspark\r\n",
    "\r\n",
    "%matplotlib inline\r\n",
    "import matplotlib.pyplot as plt\r\n",
    "\r\n",
    "import findspark\r\n",
    "findspark.init()"
   ],
   "outputs": [],
   "metadata": {}
  },
  {
   "cell_type": "code",
   "execution_count": 19,
   "source": [
    "spark = SparkSession \\\r\n",
    "    .builder \\\r\n",
    "    .appName(\"Wrangling Data\") \\\r\n",
    "    .getOrCreate()"
   ],
   "outputs": [],
   "metadata": {}
  },
  {
   "cell_type": "code",
   "execution_count": 20,
   "source": [
    "# Create SPark dataframe\r\n",
    "\r\n",
    "path = \"D:/OneDrive/Data Engineering/Udacity/Data Engineering/DataEngineering_Repo/Spark/sparkify_event_data.json\"\r\n",
    "user_log=spark.read.json(path)"
   ],
   "outputs": [],
   "metadata": {}
  },
  {
   "cell_type": "code",
   "execution_count": 21,
   "source": [
    "# Create temporary view\r\n",
    "\r\n",
    "user_log.createOrReplaceTempView(\"user_log_table\")"
   ],
   "outputs": [],
   "metadata": {}
  },
  {
   "cell_type": "code",
   "execution_count": 22,
   "source": [
    "spark.sql('''\r\n",
    "        SELECT *\r\n",
    "        FROM user_log_table\r\n",
    "        LIMIT 2\r\n",
    "        '''\r\n",
    "        ).show()"
   ],
   "outputs": [
    {
     "output_type": "stream",
     "name": "stdout",
     "text": [
      "+-----------------+---------+---------+------+-------------+--------+---------+-----+--------------------+------+--------+-------------+---------+-------------+------+-------------+--------------------+------+\n",
      "|           artist|     auth|firstName|gender|itemInSession|lastName|   length|level|            location|method|    page| registration|sessionId|         song|status|           ts|           userAgent|userId|\n",
      "+-----------------+---------+---------+------+-------------+--------+---------+-----+--------------------+------+--------+-------------+---------+-------------+------+-------------+--------------------+------+\n",
      "|    Martin Orford|Logged In|   Joseph|     M|           20| Morales|597.55057| free|  Corpus Christi, TX|   PUT|NextSong|1532063507000|      292|Grand Designs|   200|1538352011000|\"Mozilla/5.0 (Mac...|   293|\n",
      "|John Brown's Body|Logged In|   Sawyer|     M|           74|  Larson|380.21179| free|Houston-The Woodl...|   PUT|NextSong|1538069638000|       97|        Bulls|   200|1538352025000|\"Mozilla/5.0 (Mac...|    98|\n",
      "+-----------------+---------+---------+------+-------------+--------+---------+-----+--------------------+------+--------+-------------+---------+-------------+------+-------------+--------------------+------+\n",
      "\n"
     ]
    }
   ],
   "metadata": {}
  },
  {
   "cell_type": "code",
   "execution_count": 23,
   "source": [
    "spark.sql('''\r\n",
    "        SELECT COUNT(*)\r\n",
    "        FROM user_log_table\r\n",
    "        '''\r\n",
    "        ).show()"
   ],
   "outputs": [
    {
     "output_type": "stream",
     "name": "stdout",
     "text": [
      "+--------+\n",
      "|count(1)|\n",
      "+--------+\n",
      "|  543705|\n",
      "+--------+\n",
      "\n"
     ]
    }
   ],
   "metadata": {}
  },
  {
   "cell_type": "code",
   "execution_count": 24,
   "source": [
    "spark.sql('''\r\n",
    "        SELECT DISTINCT page\r\n",
    "        FROM user_log_table\r\n",
    "        ORDER BY page ASC  \r\n",
    "        ''').show()"
   ],
   "outputs": [
    {
     "output_type": "stream",
     "name": "stdout",
     "text": [
      "+--------------------+\n",
      "|                page|\n",
      "+--------------------+\n",
      "|               About|\n",
      "|          Add Friend|\n",
      "|     Add to Playlist|\n",
      "|              Cancel|\n",
      "|Cancellation Conf...|\n",
      "|           Downgrade|\n",
      "|               Error|\n",
      "|                Help|\n",
      "|                Home|\n",
      "|               Login|\n",
      "|              Logout|\n",
      "|            NextSong|\n",
      "|            Register|\n",
      "|         Roll Advert|\n",
      "|       Save Settings|\n",
      "|            Settings|\n",
      "|    Submit Downgrade|\n",
      "| Submit Registration|\n",
      "|      Submit Upgrade|\n",
      "|         Thumbs Down|\n",
      "+--------------------+\n",
      "only showing top 20 rows\n",
      "\n"
     ]
    }
   ],
   "metadata": {}
  },
  {
   "cell_type": "code",
   "execution_count": 25,
   "source": [
    "# Lambda function converting timestamp to datetime\r\n",
    "\r\n",
    "spark.udf.register(\"get_hour\", lambda x: int(datetime.datetime.fromtimestamp(x / 1000.0).hour))"
   ],
   "outputs": [
    {
     "output_type": "execute_result",
     "data": {
      "text/plain": [
       "<function __main__.<lambda>(x)>"
      ]
     },
     "metadata": {},
     "execution_count": 25
    }
   ],
   "metadata": {}
  },
  {
   "cell_type": "code",
   "execution_count": 33,
   "source": [
    "spark.sql('''\r\n",
    "        SELECT *, get_hour(ts) AS hour\r\n",
    "        FROM user_log_table\r\n",
    "        LIMIT 1\r\n",
    "        '''\r\n",
    "        ).collect()"
   ],
   "outputs": [
    {
     "output_type": "execute_result",
     "data": {
      "text/plain": [
       "[Row(artist='Martin Orford', auth='Logged In', firstName='Joseph', gender='M', itemInSession=20, lastName='Morales', length=597.55057, level='free', location='Corpus Christi, TX', method='PUT', page='NextSong', registration=1532063507000, sessionId=292, song='Grand Designs', status=200, ts=1538352011000, userAgent='\"Mozilla/5.0 (Macintosh; Intel Mac OS X 10_9_4) AppleWebKit/537.36 (KHTML, like Gecko) Chrome/36.0.1985.125 Safari/537.36\"', userId='293', hour='2')]"
      ]
     },
     "metadata": {},
     "execution_count": 33
    }
   ],
   "metadata": {}
  },
  {
   "cell_type": "code",
   "execution_count": 34,
   "source": [
    "songs_in_hour = spark.sql('''\r\n",
    "        SELECT get_hour(ts) AS hour, COUNT(*) as plays_per_hour\r\n",
    "        FROM user_log_table\r\n",
    "        WHERE page = \"NextSong\"\r\n",
    "        GROUP BY hour\r\n",
    "        ORDER BY cast(hour as int) ASC\r\n",
    "        '''\r\n",
    "        )"
   ],
   "outputs": [],
   "metadata": {}
  },
  {
   "cell_type": "code",
   "execution_count": 35,
   "source": [
    "songs_in_hour.show()"
   ],
   "outputs": [
    {
     "output_type": "stream",
     "name": "stdout",
     "text": [
      "+----+--------------+\n",
      "|hour|plays_per_hour|\n",
      "+----+--------------+\n",
      "|   0|         18758|\n",
      "|   1|         17657|\n",
      "|   2|         17425|\n",
      "|   3|         16569|\n",
      "|   4|         15862|\n",
      "|   5|         15420|\n",
      "|   6|         15386|\n",
      "|   7|         15130|\n",
      "|   8|         15116|\n",
      "|   9|         15016|\n",
      "|  10|         15258|\n",
      "|  11|         15427|\n",
      "|  12|         16021|\n",
      "|  13|         16751|\n",
      "|  14|         17773|\n",
      "|  15|         19025|\n",
      "|  16|         21088|\n",
      "|  17|         22255|\n",
      "|  18|         22204|\n",
      "|  19|         22564|\n",
      "+----+--------------+\n",
      "only showing top 20 rows\n",
      "\n"
     ]
    }
   ],
   "metadata": {}
  },
  {
   "cell_type": "code",
   "execution_count": 37,
   "source": [
    "songs_in_hour_pd = songs_in_hour.toPandas()\r\n",
    "print(songs_in_hour_pd)"
   ],
   "outputs": [
    {
     "output_type": "stream",
     "name": "stdout",
     "text": [
      "   hour  plays_per_hour\n",
      "0     0           18758\n",
      "1     1           17657\n",
      "2     2           17425\n",
      "3     3           16569\n",
      "4     4           15862\n",
      "5     5           15420\n",
      "6     6           15386\n",
      "7     7           15130\n",
      "8     8           15116\n",
      "9     9           15016\n",
      "10   10           15258\n",
      "11   11           15427\n",
      "12   12           16021\n",
      "13   13           16751\n",
      "14   14           17773\n",
      "15   15           19025\n",
      "16   16           21088\n",
      "17   17           22255\n",
      "18   18           22204\n",
      "19   19           22564\n",
      "20   20           21809\n",
      "21   21           20572\n",
      "22   22           20392\n",
      "23   23           19399\n"
     ]
    }
   ],
   "metadata": {}
  },
  {
   "cell_type": "code",
   "execution_count": null,
   "source": [],
   "outputs": [],
   "metadata": {}
  },
  {
   "cell_type": "code",
   "execution_count": null,
   "source": [],
   "outputs": [],
   "metadata": {}
  }
 ],
 "metadata": {
  "orig_nbformat": 4,
  "language_info": {
   "name": "python",
   "version": "3.8.8",
   "mimetype": "text/x-python",
   "codemirror_mode": {
    "name": "ipython",
    "version": 3
   },
   "pygments_lexer": "ipython3",
   "nbconvert_exporter": "python",
   "file_extension": ".py"
  },
  "kernelspec": {
   "name": "python3",
   "display_name": "Python 3.8.8 64-bit ('base': conda)"
  },
  "interpreter": {
   "hash": "e254ffc773357790aa04a01fb60c7c6721ec5a0c6f1763bcb2e925b3d380624c"
  }
 },
 "nbformat": 4,
 "nbformat_minor": 2
}