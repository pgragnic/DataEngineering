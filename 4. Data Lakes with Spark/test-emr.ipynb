{
 "cells": [
  {
   "cell_type": "code",
   "execution_count": null,
   "source": [
    "log_of_songs = [\r\n",
    "        \"Despacito\",\r\n",
    "        \"Nice for what\",\r\n",
    "        \"No tears left to cry\",\r\n",
    "        \"Despacito\",\r\n",
    "        \"Havana\",\r\n",
    "        \"In my feelings\",\r\n",
    "        \"Nice for what\",\r\n",
    "        \"despacito\",\r\n",
    "        \"All the stars\"\r\n",
    "]\r\n",
    "\r\n",
    "distributed_song_log = sc.parallelize(log_of_songs)"
   ],
   "outputs": [],
   "metadata": {
    "collapsed": true
   }
  },
  {
   "cell_type": "code",
   "execution_count": null,
   "source": [
    "distributed_song_log.map(lambda x: x.lower()).collect()"
   ],
   "outputs": [],
   "metadata": {
    "collapsed": true
   }
  },
  {
   "cell_type": "code",
   "execution_count": null,
   "source": [
    "sparkify_log_data = \"s3a://sparkify/sparkify_log_small.json\""
   ],
   "outputs": [],
   "metadata": {
    "collapsed": true
   }
  },
  {
   "cell_type": "code",
   "execution_count": null,
   "source": [
    "df = spark.read.json(sparkify_log_data)\r\n",
    "df.persist()\r\n",
    "\r\n",
    "df.head(5)"
   ],
   "outputs": [],
   "metadata": {
    "collapsed": true
   }
  },
  {
   "cell_type": "code",
   "execution_count": null,
   "source": [
    "sparkify_log2_path = \"hdfs:///user/sparkify_data/sparkify_log_small_2.json\"\r\n",
    "\r\n",
    "df2 = spark.read.json(sparkify_log2_path)\r\n",
    "df2.persist()"
   ],
   "outputs": [],
   "metadata": {
    "collapsed": true
   }
  },
  {
   "cell_type": "code",
   "execution_count": null,
   "source": [
    "df2.head(5)"
   ],
   "outputs": [],
   "metadata": {
    "collapsed": true
   }
  }
 ],
 "metadata": {
  "kernelspec": {
   "display_name": "Python 3",
   "language": "python",
   "name": "python3"
  },
  "language_info": {
   "codemirror_mode": {
    "name": "ipython",
    "version": 3
   },
   "file_extension": ".py",
   "mimetype": "text/x-python",
   "name": "python",
   "nbconvert_exporter": "python",
   "pygments_lexer": "ipython3",
   "version": "3.7.4"
  }
 },
 "nbformat": 4,
 "nbformat_minor": 2
}