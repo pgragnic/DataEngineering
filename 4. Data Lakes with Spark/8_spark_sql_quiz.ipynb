{
 "cells": [
  {
   "cell_type": "markdown",
   "source": [
    "# Data Wrangling with Spark SQL Quiz\n",
    "\n",
    "This quiz uses the same dataset and most of the same questions from the earlier \"Quiz - Data Wrangling with Data Frames Jupyter Notebook.\" For this quiz, however, use Spark SQL instead of Spark Data Frames."
   ],
   "metadata": {}
  },
  {
   "cell_type": "code",
   "execution_count": 1,
   "source": [
    "from pyspark.sql import SparkSession\r\n",
    "\r\n",
    "# TODOS: \r\n",
    "# 1) import any other libraries you might need\r\n",
    "# 2) instantiate a Spark session \r\n",
    "# 3) read in the data set located at the path \"data/sparkify_log_small.json\"\r\n",
    "# 4) create a view to use with your SQL queries\r\n",
    "# 5) write code to answer the quiz questions "
   ],
   "outputs": [],
   "metadata": {}
  },
  {
   "cell_type": "code",
   "execution_count": 4,
   "source": [
    "# Create Spark session\r\n",
    "\r\n",
    "spark = SparkSession \\\r\n",
    "    .builder \\\r\n",
    "    .appName(\"Data wrangling with Spark SQL\") \\\r\n",
    "    .getOrCreate()\r\n",
    "\r\n",
    "# Create Spark dataframe\r\n",
    "\r\n",
    "path = \"D:/OneDrive/Data Engineering/Udacity/Data Engineering/DataEngineering_Repo/Spark/sparkify_event_data.json\"\r\n",
    "user_log=spark.read.json(path)\r\n",
    "\r\n",
    "# Create temporary view\r\n",
    "\r\n",
    "user_log_table = user_log.createOrReplaceTempView(\"user_log_table\")"
   ],
   "outputs": [],
   "metadata": {}
  },
  {
   "cell_type": "markdown",
   "source": [
    "# Question 1\n",
    "\n",
    "Which page did user id \"\"(empty string) NOT visit?"
   ],
   "metadata": {}
  },
  {
   "cell_type": "code",
   "execution_count": 10,
   "source": [
    "# TODO: write your code to answer question 1\r\n",
    "\r\n",
    "spark.sql('''\r\n",
    "        SELECT page\r\n",
    "        FROM user_log_table\r\n",
    "        WHERE userID = \"\"\r\n",
    "        GROUP BY page\r\n",
    "        ORDER BY page\r\n",
    "        '''\r\n",
    "        ).collect()"
   ],
   "outputs": [
    {
     "output_type": "execute_result",
     "data": {
      "text/plain": [
       "[Row(page='About'),\n",
       " Row(page='Error'),\n",
       " Row(page='Help'),\n",
       " Row(page='Home'),\n",
       " Row(page='Login'),\n",
       " Row(page='Register'),\n",
       " Row(page='Submit Registration')]"
      ]
     },
     "metadata": {},
     "execution_count": 10
    }
   ],
   "metadata": {}
  },
  {
   "cell_type": "markdown",
   "source": [
    "# Question 2 - Reflect\n",
    "\n",
    "Why might you prefer to use SQL over data frames? Why might you prefer data frames over SQL?"
   ],
   "metadata": {}
  },
  {
   "cell_type": "markdown",
   "source": [
    "# Question 3\n",
    "\n",
    "How many female users do we have in the data set?"
   ],
   "metadata": {}
  },
  {
   "cell_type": "code",
   "execution_count": 24,
   "source": [
    "# TODO: write your code to answer question 3\r\n",
    "\r\n",
    "spark.sql('''\r\n",
    "        SELECT COUNT(DISTINCT(userId))\r\n",
    "        FROM user_log_table\r\n",
    "        WHERE gender = \"F\"\r\n",
    "        '''\r\n",
    "        ).collect()"
   ],
   "outputs": [
    {
     "output_type": "execute_result",
     "data": {
      "text/plain": [
       "[Row(count(DISTINCT userId)=198)]"
      ]
     },
     "metadata": {},
     "execution_count": 24
    }
   ],
   "metadata": {}
  },
  {
   "cell_type": "markdown",
   "source": [
    "# Question 4\n",
    "\n",
    "How many songs were played from the most played artist?"
   ],
   "metadata": {}
  },
  {
   "cell_type": "code",
   "execution_count": 27,
   "source": [
    "# TODO: write your code to answer question 4\r\n",
    "\r\n",
    "#spark.sql('''\r\n",
    "#        SELECT song, artist\r\n",
    "#        FROM user_log_table\r\n",
    "#        GROUP BY 2,1\r\n",
    "#        ORDER BY 2\r\n",
    "#        '''\r\n",
    "#        ).collect()\r\n",
    "\r\n",
    "spark.sql('''\r\n",
    "        SELECT artist, COUNT(artist) AS count_artist\r\n",
    "        FROM user_log_table\r\n",
    "        GROUP BY artist\r\n",
    "        ORDER BY count_artist DESC\r\n",
    "        LIMIT 1\r\n",
    "        '''\r\n",
    "        ).collect()"
   ],
   "outputs": [
    {
     "output_type": "execute_result",
     "data": {
      "text/plain": [
       "[Row(artist='Kings Of Leon', count_artist=3497)]"
      ]
     },
     "metadata": {},
     "execution_count": 27
    }
   ],
   "metadata": {}
  },
  {
   "cell_type": "markdown",
   "source": [
    "# Question 5 (challenge)\n",
    "\n",
    "How many songs do users listen to on average between visiting our home page? Please round your answer to the closest integer."
   ],
   "metadata": {}
  },
  {
   "cell_type": "code",
   "execution_count": 29,
   "source": [
    "# TODO: write your code to answer question 5\r\n",
    "\r\n",
    "# SELECT CASE WHEN 1 > 0 THEN 1 WHEN 2 > 0 THEN 2.0 ELSE 1.2 END;\r\n",
    "is_home = spark.sql(\"SELECT userID, page, ts, CASE WHEN page = 'Home' THEN 1 ELSE 0 END AS is_home FROM user_log_table \\\r\n",
    "            WHERE (page = 'NextSong') or (page = 'Home') \\\r\n",
    "            \")\r\n",
    "\r\n",
    "# keep the results in a new view\r\n",
    "is_home.createOrReplaceTempView(\"is_home_table\")\r\n",
    "\r\n",
    "# find the cumulative sum over the is_home column\r\n",
    "cumulative_sum = spark.sql(\"SELECT *, SUM(is_home) OVER \\\r\n",
    "    (PARTITION BY userID ORDER BY ts DESC ROWS BETWEEN UNBOUNDED PRECEDING AND CURRENT ROW) AS period \\\r\n",
    "    FROM is_home_table\")\r\n",
    "\r\n",
    "# keep the results in a view\r\n",
    "cumulative_sum.createOrReplaceTempView(\"period_table\")\r\n",
    "\r\n",
    "# find the average count for NextSong\r\n",
    "spark.sql(\"SELECT AVG(count_results) FROM \\\r\n",
    "          (SELECT COUNT(*) AS count_results FROM period_table \\\r\n",
    "GROUP BY userID, period, page HAVING page = 'NextSong') AS counts\").show()"
   ],
   "outputs": [
    {
     "output_type": "stream",
     "name": "stdout",
     "text": [
      "+------------------+\n",
      "|avg(count_results)|\n",
      "+------------------+\n",
      "|23.672591053264792|\n",
      "+------------------+\n",
      "\n"
     ]
    }
   ],
   "metadata": {}
  }
 ],
 "metadata": {
  "kernelspec": {
   "name": "python3",
   "display_name": "Python 3.8.8 64-bit ('base': conda)"
  },
  "language_info": {
   "codemirror_mode": {
    "name": "ipython",
    "version": 3
   },
   "file_extension": ".py",
   "mimetype": "text/x-python",
   "name": "python",
   "nbconvert_exporter": "python",
   "pygments_lexer": "ipython3",
   "version": "3.8.8"
  },
  "interpreter": {
   "hash": "e254ffc773357790aa04a01fb60c7c6721ec5a0c6f1763bcb2e925b3d380624c"
  }
 },
 "nbformat": 4,
 "nbformat_minor": 2
}