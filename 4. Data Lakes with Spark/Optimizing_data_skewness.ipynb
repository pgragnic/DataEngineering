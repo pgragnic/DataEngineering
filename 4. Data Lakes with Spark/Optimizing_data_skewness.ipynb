{
 "cells": [
  {
   "cell_type": "code",
   "execution_count": 1,
   "source": [
    "import pandas as pd"
   ],
   "outputs": [],
   "metadata": {}
  },
  {
   "cell_type": "code",
   "execution_count": null,
   "source": [
    "df = pd.read_csv(\"c:/temp/parking_violation.csv\")\r\n",
    "df.columns"
   ],
   "outputs": [],
   "metadata": {}
  },
  {
   "cell_type": "code",
   "execution_count": null,
   "source": [
    "df.head()"
   ],
   "outputs": [],
   "metadata": {}
  },
  {
   "cell_type": "code",
   "execution_count": null,
   "source": [
    "df.year.value_counts()"
   ],
   "outputs": [],
   "metadata": {}
  },
  {
   "cell_type": "code",
   "execution_count": null,
   "source": [
    "df.month.value_counts()"
   ],
   "outputs": [],
   "metadata": {}
  },
  {
   "cell_type": "code",
   "execution_count": null,
   "source": [
    "df.Registration_State.value_counts()"
   ],
   "outputs": [],
   "metadata": {}
  },
  {
   "cell_type": "code",
   "execution_count": null,
   "source": [
    "df.Issue_Date.value_counts()"
   ],
   "outputs": [],
   "metadata": {}
  },
  {
   "cell_type": "code",
   "execution_count": 1,
   "source": [
    "from pyspark.sql import SparkSession\r\n",
    "import pyspark.sql.functions as psf"
   ],
   "outputs": [],
   "metadata": {}
  },
  {
   "cell_type": "code",
   "execution_count": 2,
   "source": [
    "spark = SparkSession \\\r\n",
    "        .builder \\\r\n",
    "        .config(\"spark.driver.memory\", \"4g\") \\\r\n",
    "        .appName(\"cities\") \\\r\n",
    "        .getOrCreate()"
   ],
   "outputs": [],
   "metadata": {}
  },
  {
   "cell_type": "code",
   "execution_count": 3,
   "source": [
    "spark_df = spark.read.csv(\"c:/temp/parking_violation.csv\")\r\n",
    "#spark_df.repartition(8)"
   ],
   "outputs": [],
   "metadata": {}
  },
  {
   "cell_type": "code",
   "execution_count": 6,
   "source": [
    "df_pd = spark_df.show(10, truncate=False)\r\n",
    "\r\n",
    "for row in df_pd:\r\n",
    "    print(row)"
   ],
   "outputs": [
    {
     "output_type": "stream",
     "name": "stdout",
     "text": [
      "+----+--------------+--------+------------------+----------+----------+--------------+-----------------+------------+--------------+------------+------------+------------+--------------------------+------------------+------------------+---------------+-----------+--------------+------------+--------------+-------------------+----------------+---------------------------------+------------+-------------+-------------------+----------------------+-----------+------------+--------------------+--------------------------+--------------------+------------------+-------------+---------------------+------------+------------+--------------+-------------------+------------------------------+---------------------------------+-----------------+------------------------+--------+---------+---------------+------------------+------------+----+----+----+----+-----+\n",
      "|_c0 |_c1           |_c2     |_c3               |_c4       |_c5       |_c6           |_c7              |_c8         |_c9           |_c10        |_c11        |_c12        |_c13                      |_c14              |_c15              |_c16           |_c17       |_c18          |_c19        |_c20          |_c21               |_c22            |_c23                             |_c24        |_c25         |_c26               |_c27                  |_c28       |_c29        |_c30                |_c31                      |_c32                |_c33              |_c34         |_c35                 |_c36        |_c37        |_c38          |_c39               |_c40                          |_c41                             |_c42             |_c43                    |_c44    |_c45     |_c46           |_c47              |_c48        |_c49|_c50|_c51|_c52|_c53 |\n",
      "+----+--------------+--------+------------------+----------+----------+--------------+-----------------+------------+--------------+------------+------------+------------+--------------------------+------------------+------------------+---------------+-----------+--------------+------------+--------------+-------------------+----------------+---------------------------------+------------+-------------+-------------------+----------------------+-----------+------------+--------------------+--------------------------+--------------------+------------------+-------------+---------------------+------------+------------+--------------+-------------------+------------------------------+---------------------------------+-----------------+------------------------+--------+---------+---------------+------------------+------------+----+----+----+----+-----+\n",
      "|null|Summons_Number|Plate_ID|Registration_State|Plate_Type|Issue_Date|Violation_Code|Vehicle_Body_Type|Vehicle_Make|Issuing_Agency|Street_Code1|Street_Code2|Street_Code3|Vehicle_Expiration_Date   |Violation_Location|Violation_Precinct|Issuer_Precinct|Issuer_Code|Issuer_Command|Issuer_Squad|Violation_Time|Time_First_Observed|Violation_County|Violation_In_Front_Of_Or_Opposite|House_Number|Street_Name  |Intersecting_Street|Date_First_Observed   |Law_Section|Sub_Division|Violation_Legal_Code|Days_Parking_In_Effect____|From_Hours_In_Effect|To_Hours_In_Effect|Vehicle_Color|Unregistered_Vehicle?|Vehicle_Year|Meter_Number|Feet_From_Curb|Violation_Post_Code|Violation_Description         |No_Standing_or_Stopping_Violation|Hydrant_Violation|Double_Parking_Violation|Latitude|Longitude|Community_Board|Community_Council_|Census_Tract|BIN |BBL |NTA |year|month|\n",
      "|0   |8002531292    |EPC5238 |NY                |PAS       |10/01/2014|21            |SUBN             |CHEVR       |T             |20390       |29890       |31490       |01/01/20150111 12:00:00 PM|7.0               |7                 |7              |345454     |T800          |A2          |0011A         |null               |NY              |F                                |133         |Essex St     |null               |01/05/0001 12:00:00 PM|408.0      |d1          |null                |Y Y Y                     |1200A               |0300A             |BL           |null                 |2005.0      |null        |0.0           |A 77               |21-No Parking (street clean)  |null                             |null             |null                    |null    |null     |null           |null              |null        |null|null|null|2014|10   |\n",
      "|1   |8015318440    |5298MD  |NY                |COM       |03/06/2015|14            |VAN              |FRUEH       |T             |27790       |19550       |19570       |01/01/88888888 12:00:00 PM|25.0              |25                |25             |333386     |T103          |B           |0942A         |null               |NY              |F                                |1916        |Park Ave     |null               |01/05/0001 12:00:00 PM|408.0      |c           |null                |YYYYY                     |0700A               |1000A             |BROWN        |null                 |0.0         |null        |0.0           |CC3                |14-No Standing                |null                             |null             |null                    |null    |null     |null           |null              |null        |null|null|null|2015|3    |\n",
      "|2   |7611181981    |FYW2775 |NY                |PAS       |07/28/2014|46            |SUBN             |SUBAR       |T             |8130        |5430        |5580        |01/01/20160524 12:00:00 PM|72.0              |72                |72             |331845     |T302          |L           |1020A         |null               |K               |F                                |184         |31st St      |null               |01/05/0001 12:00:00 PM|408.0      |f1          |null                |null                      |null                |null              |BLACK        |null                 |2010.0      |null        |0.0           |J 32               |46A-Double Parking (Non-COM)  |null                             |null             |null                    |null    |null     |null           |null              |null        |null|null|null|2014|7    |\n",
      "|3   |7445908067    |GWE1987 |NY                |PAS       |04/13/2015|19            |4DSD             |LEXUS       |T             |59990       |16540       |16790       |01/01/20170111 12:00:00 PM|102.0             |102               |102            |355669     |T402          |D           |0318P         |null               |Q               |F                                |120-20      |Queens Blvd  |null               |01/05/0001 12:00:00 PM|408.0      |c3          |null                |YYYYY                     |0300P               |1000P             |GY           |null                 |2015.0      |null        |0.0           |01 4               |19-No Stand (bus stop)        |null                             |null             |null                    |null    |null     |null           |null              |null        |null|null|null|2015|4    |\n",
      "|4   |7037692864    |T671196C|NY                |PAS       |05/19/2015|19            |4DSD             |CHRYS       |T             |36090       |10410       |24690       |01/01/88888888 12:00:00 PM|28.0              |28                |28             |341248     |T103          |X           |0410P         |null               |NY              |F                                |66          |W 116th St   |null               |01/05/0001 12:00:00 PM|408.0      |c3          |null                |YYYYYYY                   |null                |null              |BLACK        |null                 |0.0         |null        |0.0           |19 7               |19-No Stand (bus stop)        |null                             |null             |null                    |null    |null     |null           |null              |null        |null|null|null|2015|5    |\n",
      "|5   |7704791394    |JJF6834 |PA                |PAS       |11/20/2014|21            |4DSD             |NISSA       |T             |74230       |37980       |38030       |01/01/20150688 12:00:00 PM|67.0              |67                |67             |357104     |T302          |A           |0839A         |null               |K               |F                                |1013        |Rutland Rd   |null               |01/05/0001 12:00:00 PM|408.0      |d1          |null                |Y                         |0830A               |0900A             |WHITE        |null                 |0.0         |null        |0.0           |C 32               |21-No Parking (street clean)  |null                             |null             |null                    |null    |null     |null           |null              |null        |null|null|null|2014|11   |\n",
      "|6   |7541599104    |FYP8263 |NY                |PAS       |08/01/2014|21            |SUBN             |HONDA       |T             |77530       |63030       |93230       |01/01/20160605 12:00:00 PM|79.0              |79                |79             |355251     |T301          |O           |0951A         |null               |K               |F                                |155         |Skillman St  |null               |01/05/0001 12:00:00 PM|408.0      |d1          |null                |Y  Y                      |0830A               |1000A             |BK           |null                 |2012.0      |null        |0.0           |10 3               |21-No Parking (street clean)  |null                             |null             |null                    |null    |null     |null           |null              |null        |null|null|null|2014|8    |\n",
      "|7   |7443513951    |FZL7450 |NY                |PAS       |07/19/2014|71            |4DSD             |VOLVO       |T             |49210       |0           |0           |01/01/20140927 12:00:00 PM|103.0             |103               |103            |353083     |T402          |L           |1043A         |null               |Q               |I                                |S           |Henderson Ave|30ft W/of 189th St |01/05/0001 12:00:00 PM|408.0      |j6          |null                |YYYYYYY                   |null                |null              |GR           |null                 |2002.0      |null        |0.0           |A 42               |71A-Insp Sticker Expired (NYS)|null                             |null             |null                    |null    |null     |null           |null              |null        |null|null|null|2014|7    |\n",
      "|8   |7426321423    |86318MA |NY                |COM       |09/23/2014|69            |VAN              |CHEVR       |T             |21690       |26990       |26790       |01/01/20150720 12:00:00 PM|5.0               |5                 |5              |346381     |T105          |E           |0144P         |null               |NY              |O                                |199         |Grand St     |null               |01/05/0001 12:00:00 PM|408.0      |h1          |null                |Y                         |0900A               |0700P             |WH           |null                 |2007.0      |null        |0.0           |093                |69-Failure to Disp Muni Recpt |null                             |null             |null                    |null    |null     |null           |null              |null        |null|null|null|2014|9    |\n",
      "+----+--------------+--------+------------------+----------+----------+--------------+-----------------+------------+--------------+------------+------------+------------+--------------------------+------------------+------------------+---------------+-----------+--------------+------------+--------------+-------------------+----------------+---------------------------------+------------+-------------+-------------------+----------------------+-----------+------------+--------------------+--------------------------+--------------------+------------------+-------------+---------------------+------------+------------+--------------+-------------------+------------------------------+---------------------------------+-----------------+------------------------+--------+---------+---------------+------------------+------------+----+----+----+----+-----+\n",
      "only showing top 10 rows\n",
      "\n"
     ]
    },
    {
     "output_type": "error",
     "ename": "TypeError",
     "evalue": "'NoneType' object is not iterable",
     "traceback": [
      "\u001b[1;31m---------------------------------------------------------------------------\u001b[0m",
      "\u001b[1;31mTypeError\u001b[0m                                 Traceback (most recent call last)",
      "\u001b[1;32m~\\AppData\\Local\\Temp/ipykernel_4288/4162639064.py\u001b[0m in \u001b[0;36m<module>\u001b[1;34m\u001b[0m\n\u001b[0;32m      1\u001b[0m \u001b[0mdf_pd\u001b[0m \u001b[1;33m=\u001b[0m \u001b[0mspark_df\u001b[0m\u001b[1;33m.\u001b[0m\u001b[0mshow\u001b[0m\u001b[1;33m(\u001b[0m\u001b[1;36m10\u001b[0m\u001b[1;33m,\u001b[0m \u001b[0mtruncate\u001b[0m\u001b[1;33m=\u001b[0m\u001b[1;32mFalse\u001b[0m\u001b[1;33m)\u001b[0m\u001b[1;33m\u001b[0m\u001b[1;33m\u001b[0m\u001b[0m\n\u001b[0;32m      2\u001b[0m \u001b[1;33m\u001b[0m\u001b[0m\n\u001b[1;32m----> 3\u001b[1;33m \u001b[1;32mfor\u001b[0m \u001b[0mrow\u001b[0m \u001b[1;32min\u001b[0m \u001b[0mdf_pd\u001b[0m\u001b[1;33m:\u001b[0m\u001b[1;33m\u001b[0m\u001b[1;33m\u001b[0m\u001b[0m\n\u001b[0m\u001b[0;32m      4\u001b[0m     \u001b[0mprint\u001b[0m\u001b[1;33m(\u001b[0m\u001b[0mrow\u001b[0m\u001b[1;33m)\u001b[0m\u001b[1;33m\u001b[0m\u001b[1;33m\u001b[0m\u001b[0m\n",
      "\u001b[1;31mTypeError\u001b[0m: 'NoneType' object is not iterable"
     ]
    }
   ],
   "metadata": {}
  },
  {
   "cell_type": "code",
   "execution_count": null,
   "source": [
    "spark_df.collect()[0][0]"
   ],
   "outputs": [],
   "metadata": {}
  }
 ],
 "metadata": {
  "orig_nbformat": 4,
  "language_info": {
   "name": "python",
   "version": "3.8.8",
   "mimetype": "text/x-python",
   "codemirror_mode": {
    "name": "ipython",
    "version": 3
   },
   "pygments_lexer": "ipython3",
   "nbconvert_exporter": "python",
   "file_extension": ".py"
  },
  "kernelspec": {
   "name": "python3",
   "display_name": "Python 3.8.8 64-bit ('base': conda)"
  },
  "interpreter": {
   "hash": "e254ffc773357790aa04a01fb60c7c6721ec5a0c6f1763bcb2e925b3d380624c"
  }
 },
 "nbformat": 4,
 "nbformat_minor": 2
}