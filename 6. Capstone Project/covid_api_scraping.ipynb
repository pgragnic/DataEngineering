{
 "cells": [
  {
   "cell_type": "code",
   "execution_count": 1,
   "metadata": {},
   "outputs": [],
   "source": [
    "import requests\n",
    "import pandas as pd\n",
    "import os\n",
    "import time\n",
    "from datetime import datetime"
   ]
  },
  {
   "cell_type": "code",
   "execution_count": 2,
   "metadata": {},
   "outputs": [
    {
     "name": "stdout",
     "output_type": "stream",
     "text": [
      "10 files downloaded in 7.7316975593566895 seconds\n",
      "20 files downloaded in 10.300618410110474 seconds\n",
      "30 files downloaded in 11.704235076904297 seconds\n",
      "30 files downloaded in 0.29028820991516113 seconds\n",
      "40 files downloaded in 13.294408321380615 seconds\n",
      "40 files downloaded in 0.28428220748901367 seconds\n",
      "50 files downloaded in 11.254976034164429 seconds\n",
      "50 files downloaded in 0.28218841552734375 seconds\n",
      "60 files downloaded in 12.30478572845459 seconds\n",
      "60 files downloaded in 0.28188014030456543 seconds\n",
      "70 files downloaded in 11.500237464904785 seconds\n",
      "70 files downloaded in 0.3149597644805908 seconds\n",
      "80 files downloaded in 10.77123737335205 seconds\n",
      "90 files downloaded in 8.773683309555054 seconds\n",
      "100 files downloaded in 9.379316568374634 seconds\n"
     ]
    }
   ],
   "source": [
    "user = \"CSSEGISandData\"\n",
    "repo = \"COVID-19\"\n",
    "\n",
    "url = \"https://api.github.com/repos/{}/{}/git/trees/master?recursive=1\".format(user, repo)\n",
    "urlRaw = \"https://raw.githubusercontent.com/CSSEGISandData/COVID-19/master/\"\n",
    "\n",
    "r = requests.get(url)\n",
    "res = r.json()\n",
    "i = 0\n",
    "\n",
    "start_time = time.time()\n",
    "\n",
    "for file in res[\"tree\"]:\n",
    "    pathToCheck = file[\"path\"]\n",
    "    if i == 10000:\n",
    "        break\n",
    "    if pathToCheck.endswith('.csv') \\\n",
    "            and pathToCheck.find('csse_covid_19_daily_reports')!=-1 \\\n",
    "            and pathToCheck.find('_us')==-1 \\\n",
    "            and not os.path.isfile(\"data/\" + file[\"path\"]):\n",
    "            #r = requests.get(urlRaw + file[\"path\"])\n",
    "            r = requests.head(urlRaw + file[\"path\"])\n",
    "            if int(r.headers['Content-Length']) > 50000:\n",
    "                r = requests.get(urlRaw + file[\"path\"])\n",
    "                open(\"data/\" + file[\"path\"], 'wb').write(r.content)\n",
    "                i += 1\n",
    "            if i%10 == 0 and i > 0:\n",
    "                print(f'{i} files downloaded in {(time.time() - start_time)} seconds')\n",
    "                start_time = time.time()"
   ]
  }
 ],
 "metadata": {
  "interpreter": {
   "hash": "e254ffc773357790aa04a01fb60c7c6721ec5a0c6f1763bcb2e925b3d380624c"
  },
  "kernelspec": {
   "display_name": "Python 3.8.8 64-bit ('base': conda)",
   "name": "python3"
  },
  "language_info": {
   "codemirror_mode": {
    "name": "ipython",
    "version": 3
   },
   "file_extension": ".py",
   "mimetype": "text/x-python",
   "name": "python",
   "nbconvert_exporter": "python",
   "pygments_lexer": "ipython3",
   "version": "3.8.8"
  },
  "orig_nbformat": 4
 },
 "nbformat": 4,
 "nbformat_minor": 2
}
