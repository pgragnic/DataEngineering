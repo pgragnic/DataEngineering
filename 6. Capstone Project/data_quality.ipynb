{
 "cells": [
  {
   "cell_type": "code",
   "execution_count": 5,
   "metadata": {},
   "outputs": [],
   "source": [
    "import psycopg2\n",
    "import configparser\n",
    "from sql_queries import Data_quality_queries"
   ]
  },
  {
   "cell_type": "code",
   "execution_count": 7,
   "metadata": {},
   "outputs": [],
   "source": [
    "config = configparser.ConfigParser()\n",
    "config.read(\"parameters.cfg\")\n",
    "\n",
    "conn = psycopg2.connect(\"host={} dbname={} user={} password={} port={}\".format(*config['postgresql_sql'].values()))\n",
    "cur = conn.cursor()"
   ]
  },
  {
   "cell_type": "code",
   "execution_count": 26,
   "metadata": {},
   "outputs": [
    {
     "name": "stdout",
     "output_type": "stream",
     "text": [
      "Data quality for table \"dim_countries\" check passed with 227 records\n",
      "Data quality for table \"dim_exposure\" check passed with 191 records\n",
      "Data quality for table \"dim_vaccination\" check passed with 54341 records\n",
      "Data quality for table \"fact_covid\" check passed with 2214879 records\n"
     ]
    }
   ],
   "source": [
    "for query in Data_quality_queries:\n",
    "    cur.execute(query)\n",
    "    records = cur.fetchone()\n",
    "    table = query.replace(\"SELECT COUNT (*) FROM \",\"\")\n",
    "    table = table.replace(\";\",\"\")\n",
    "    if records[0] < 1:\n",
    "        print(\"1\")\n",
    "        raise ValueError(f\"Data quality check failed. query {table} returned 0 rows\")\n",
    "    else:\n",
    "        print(f\"Data quality for table \\\"{table}\\\" check passed with {records[0]} records\")"
   ]
  }
 ],
 "metadata": {
  "interpreter": {
   "hash": "e254ffc773357790aa04a01fb60c7c6721ec5a0c6f1763bcb2e925b3d380624c"
  },
  "kernelspec": {
   "display_name": "Python 3.8.8 64-bit ('base': conda)",
   "name": "python3"
  },
  "language_info": {
   "codemirror_mode": {
    "name": "ipython",
    "version": 3
   },
   "file_extension": ".py",
   "mimetype": "text/x-python",
   "name": "python",
   "nbconvert_exporter": "python",
   "pygments_lexer": "ipython3",
   "version": "3.8.8"
  },
  "orig_nbformat": 4
 },
 "nbformat": 4,
 "nbformat_minor": 2
}
