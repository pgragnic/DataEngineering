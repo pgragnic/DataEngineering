{
 "cells": [
  {
   "cell_type": "code",
   "execution_count": 2,
   "source": [
    "import psycopg2"
   ],
   "outputs": [],
   "metadata": {}
  },
  {
   "cell_type": "code",
   "execution_count": 3,
   "source": [
    "try:\r\n",
    "    conn = psycopg2.connect(\"dbname=udacity user=udacity password=udacity\")\r\n",
    "except Exception as e:\r\n",
    "    print(e)\r\n",
    "\r\n",
    "try:\r\n",
    "    cur = conn.cursor()\r\n",
    "except Exception as e:\r\n",
    "    print(e)\r\n",
    "\r\n",
    "conn.set_session(autocommit=True)"
   ],
   "outputs": [],
   "metadata": {}
  },
  {
   "cell_type": "markdown",
   "source": [
    "# Create tables and insert data\r\n",
    "\r\n",
    "## Create fact table"
   ],
   "metadata": {}
  },
  {
   "cell_type": "code",
   "execution_count": 20,
   "source": [
    "try:\r\n",
    "    cur.execute(\"CREATE TABLE IF NOT EXISTS customer_transactions \\\r\n",
    "                (customer_id int, store_id int, spent numeric)\")\r\n",
    "except Exception as e:\r\n",
    "    print(e)"
   ],
   "outputs": [],
   "metadata": {}
  },
  {
   "cell_type": "markdown",
   "source": [
    "## Insert data in fact table"
   ],
   "metadata": {}
  },
  {
   "cell_type": "code",
   "execution_count": 10,
   "source": [
    "try:\r\n",
    "    cur.execute(\"INSERT INTO customer_transactions \\\r\n",
    "                (customer_id, store_id, spent) \\\r\n",
    "                VALUES (%s, %s, %s)\", \\\r\n",
    "                (1, 1, 20.50))\r\n",
    "except Exception as e:\r\n",
    "    print(e)\r\n",
    "\r\n",
    "try:\r\n",
    "    cur.execute(\"INSERT INTO customer_transactions \\\r\n",
    "                (customer_id, store_id, spent) \\\r\n",
    "                VALUES (%s, %s, %s)\", \\\r\n",
    "                (2, 1, 35.21))\r\n",
    "except Exception as e:\r\n",
    "    print(e)"
   ],
   "outputs": [],
   "metadata": {}
  },
  {
   "cell_type": "markdown",
   "source": [
    "## Create dimension tables"
   ],
   "metadata": {}
  },
  {
   "cell_type": "code",
   "execution_count": 21,
   "source": [
    "try:\r\n",
    "    cur.execute(\"CREATE TABLE IF NOT EXISTS customer \\\r\n",
    "                (customer_id int, name varchar, rewards boolean)\")\r\n",
    "except Exception as e:\r\n",
    "    print(e)\r\n",
    "\r\n",
    "try:\r\n",
    "    cur.execute(\"CREATE TABLE IF NOT EXISTS store \\\r\n",
    "                (store_id int, state varchar)\")\r\n",
    "except Exception as e:\r\n",
    "    print(e)\r\n",
    "\r\n",
    "try:\r\n",
    "    cur.execute(\"CREATE TABLE IF NOT EXISTS items_purchased \\\r\n",
    "                (customer_id int, item_number int, item_name varchar)\")\r\n",
    "except Exception as e:\r\n",
    "    print(e)"
   ],
   "outputs": [],
   "metadata": {}
  },
  {
   "cell_type": "markdown",
   "source": [
    "## Insert data in Dimension tables"
   ],
   "metadata": {}
  },
  {
   "cell_type": "code",
   "execution_count": 5,
   "source": [
    "# Customer Table\r\n",
    "try:\r\n",
    "    cur.execute(\"INSERT INTO customer \\\r\n",
    "                (customer_id, name, rewards) \\\r\n",
    "                VALUES (%s, %s, %s)\", \\\r\n",
    "                (1, \"Amanda\", True))\r\n",
    "except Exception as e:\r\n",
    "    print(e)\r\n",
    "\r\n",
    "try:\r\n",
    "    cur.execute(\"INSERT INTO customer \\\r\n",
    "                (customer_id, name, rewards) \\\r\n",
    "                VALUES (%s, %s, %s)\", \\\r\n",
    "                (2, \"Toby\", False))\r\n",
    "except Exception as e:\r\n",
    "    print(e)\r\n",
    "\r\n",
    "# Store table\r\n",
    "try:\r\n",
    "    cur.execute(\"INSERT INTO store \\\r\n",
    "                (store_id, state) \\\r\n",
    "                VALUES (%s, %s)\", \\\r\n",
    "                (1, \"CA\"))\r\n",
    "except Exception as e:\r\n",
    "    print(e)\r\n",
    "\r\n",
    "try:\r\n",
    "    cur.execute(\"INSERT INTO store \\\r\n",
    "                (store_id, state) \\\r\n",
    "                VALUES (%s, %s)\", \\\r\n",
    "                (2, \"WA\"))\r\n",
    "except Exception as e:\r\n",
    "    print(e)\r\n",
    "\r\n",
    "# Items Purchased table\r\n",
    "\r\n",
    "try:\r\n",
    "    cur.execute(\"INSERT INTO items_purchased \\\r\n",
    "                (customer_id, item_number, item_name) \\\r\n",
    "                VALUES (%s, %s, %s)\", \\\r\n",
    "                (1, 1, \"Rubber Soul\"))\r\n",
    "except Exception as e:\r\n",
    "    print(e)\r\n",
    "\r\n",
    "try:\r\n",
    "    cur.execute(\"INSERT INTO items_purchased \\\r\n",
    "                (customer_id, item_number, item_name) \\\r\n",
    "                VALUES (%s, %s, %s)\", \\\r\n",
    "                (2, 3, \"Let It Be\"))\r\n",
    "except Exception as e:\r\n",
    "    print(e)\r\n"
   ],
   "outputs": [],
   "metadata": {}
  },
  {
   "cell_type": "markdown",
   "source": [
    "# SQL queries\r\n",
    "\r\n",
    "## Query 1: find all the customers that spent more than 30 dollars, who are they, what did they buy and if they are a reward member"
   ],
   "metadata": {}
  },
  {
   "cell_type": "code",
   "execution_count": 4,
   "source": [
    "try:\r\n",
    "    cur.execute(\"SELECT name, item_name, rewards FROM customer_transactions \\\r\n",
    "                JOIN customer ON customer_transactions.customer_id = customer.customer_id \\\r\n",
    "                JOIN items_purchased ON customer_transactions.customer_id = items_purchased.customer_id \\\r\n",
    "                WHERE spent > 30\")\r\n",
    "except Exception as e:\r\n",
    "    print(e)\r\n",
    "\r\n",
    "row = cur.fetchone()\r\n",
    "while row:\r\n",
    "    print(row)\r\n",
    "    row = cur.fetchone()"
   ],
   "outputs": [
    {
     "output_type": "stream",
     "name": "stdout",
     "text": [
      "('Toby', 'Let It Be', False)\n"
     ]
    }
   ],
   "metadata": {}
  },
  {
   "cell_type": "markdown",
   "source": [
    "## Query 2: How much did Store 1 sell"
   ],
   "metadata": {}
  },
  {
   "cell_type": "code",
   "execution_count": 5,
   "source": [
    "try:\r\n",
    "    cur.execute(\"SELECT store.store_id, SUM(spent) FROM customer_transactions \\\r\n",
    "                JOIN store ON customer_transactions.store_id = store.store_id \\\r\n",
    "                GROUP BY store.store_id\")\r\n",
    "except Exception as e:\r\n",
    "    print(e)\r\n",
    "\r\n",
    "row = cur.fetchone()\r\n",
    "while row:\r\n",
    "    print(row)\r\n",
    "    row = cur.fetchone()"
   ],
   "outputs": [
    {
     "output_type": "stream",
     "name": "stdout",
     "text": [
      "(1, Decimal('55.71'))\n"
     ]
    }
   ],
   "metadata": {}
  },
  {
   "cell_type": "markdown",
   "source": [
    "# Drop Tables"
   ],
   "metadata": {}
  },
  {
   "cell_type": "code",
   "execution_count": 22,
   "source": [
    "cur.execute(\"\"\"SELECT table_name FROM information_schema.tables\r\n",
    "       WHERE table_schema = 'public'\"\"\")\r\n",
    "\r\n",
    "query = \"DROP TABLE \"\r\n",
    "tables = cur.fetchall()\r\n",
    "\r\n",
    "for table in tables:\r\n",
    "       try:\r\n",
    "              cur.execute(query + table[0])\r\n",
    "              print(\"Table \" + table [0] + \" deleted\")\r\n",
    "       except Exception as e:\r\n",
    "              print(e)"
   ],
   "outputs": [
    {
     "output_type": "stream",
     "name": "stdout",
     "text": [
      "Table customer_transactionsdeleted\n",
      "Table customerdeleted\n",
      "Table storedeleted\n",
      "Table items_purchaseddeleted\n"
     ]
    }
   ],
   "metadata": {}
  },
  {
   "cell_type": "markdown",
   "source": [
    "# Close cursor and connection"
   ],
   "metadata": {}
  },
  {
   "cell_type": "code",
   "execution_count": null,
   "source": [
    "cur.close()\r\n",
    "conn.close()"
   ],
   "outputs": [],
   "metadata": {}
  }
 ],
 "metadata": {
  "orig_nbformat": 4,
  "language_info": {
   "name": "python",
   "version": "3.8.8",
   "mimetype": "text/x-python",
   "codemirror_mode": {
    "name": "ipython",
    "version": 3
   },
   "pygments_lexer": "ipython3",
   "nbconvert_exporter": "python",
   "file_extension": ".py"
  },
  "kernelspec": {
   "name": "python3",
   "display_name": "Python 3.8.8 64-bit ('base': conda)"
  },
  "interpreter": {
   "hash": "e254ffc773357790aa04a01fb60c7c6721ec5a0c6f1763bcb2e925b3d380624c"
  }
 },
 "nbformat": 4,
 "nbformat_minor": 2
}