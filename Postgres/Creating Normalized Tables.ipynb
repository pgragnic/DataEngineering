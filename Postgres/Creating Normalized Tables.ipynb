{
 "cells": [
  {
   "cell_type": "markdown",
   "source": [
    "## Import the library"
   ],
   "metadata": {}
  },
  {
   "cell_type": "code",
   "execution_count": null,
   "source": [
    "import psycopg2"
   ],
   "outputs": [],
   "metadata": {}
  },
  {
   "cell_type": "markdown",
   "source": [
    "## Create a connection to the database, get a cursor and set autocommit to true"
   ],
   "metadata": {}
  },
  {
   "cell_type": "code",
   "execution_count": null,
   "source": [
    "try:\r\n",
    "    conn = psycopg2.connect(\"dbname=udacity user=udacity password=udacity\")\r\n",
    "except Exception as e:\r\n",
    "    print(e)\r\n",
    "\r\n",
    "try:\r\n",
    "    cur = conn.cursor()\r\n",
    "except Exception as e:\r\n",
    "    print(e)\r\n",
    "\r\n",
    "conn.set_session(autocommit=True)"
   ],
   "outputs": [],
   "metadata": {}
  },
  {
   "cell_type": "markdown",
   "source": [
    "## Create music_library table"
   ],
   "metadata": {}
  },
  {
   "cell_type": "code",
   "execution_count": null,
   "source": [
    "try:\r\n",
    "    cur.execute(\"CREATE TABLE IF NOT EXISTS music_library (album_id int, \\\r\n",
    "                album_name varchar, artist_name varchar, \\\r\n",
    "                year int, songs text[]);\")\r\n",
    "except Exception as e:\r\n",
    "    print(e)\r\n",
    "\r\n",
    "\r\n",
    "query = \"INSERT INTO music_library (album_id, album_name, \\\r\n",
    "                artist_name, year, songs)\"\r\n",
    "query = query + \" VALUES (%s, %s, %s, %s, %s)\"\r\n",
    "\r\n",
    "try:\r\n",
    "    cur.execute(query, (1, \"Rubber Soul\", \"The Beatles\", 1965, [\"Michelle\", \"Think For Yourself\", \"In My Life\"]))\r\n",
    "except Exception as e:\r\n",
    "    print(e)\r\n",
    "\r\n",
    "try:\r\n",
    "    cur.execute(query, (2, \"Let It Be\", \"The Beatles\", 1970, [\"Let It Be\", \"Across The Universe\"]))\r\n",
    "except Exception as e:\r\n",
    "    print(e)\r\n",
    "\r\n",
    "try:\r\n",
    "    cur.execute(\"SELECT * FROM music_library;\")\r\n",
    "except Exception as e:\r\n",
    "    print(e)\r\n",
    "\r\n",
    "row = cur.fetchone()\r\n",
    "while row:\r\n",
    "    print(row)\r\n",
    "    row = cur.fetchone()\r\n"
   ],
   "outputs": [],
   "metadata": {}
  },
  {
   "cell_type": "markdown",
   "source": [
    "# Moving to 1NF"
   ],
   "metadata": {}
  },
  {
   "cell_type": "markdown",
   "source": [
    "# Create table"
   ],
   "metadata": {}
  },
  {
   "cell_type": "code",
   "execution_count": null,
   "source": [
    "try:\r\n",
    "    cur.execute(\"CREATE TABLE IF NOT EXISTS music_library2 (album_id int, \\\r\n",
    "                album_name varchar, artist_name varchar, \\\r\n",
    "                year int, song_name varchar);\")\r\n",
    "except Exception as e:\r\n",
    "    print(e)"
   ],
   "outputs": [],
   "metadata": {}
  },
  {
   "cell_type": "markdown",
   "source": [
    " ## Insert rows"
   ],
   "metadata": {}
  },
  {
   "cell_type": "code",
   "execution_count": null,
   "source": [
    "    query = \"INSERT INTO music_library2 (album_id, album_name, \\\r\n",
    "                    artist_name, year, song_name)\"\r\n",
    "    query = query + \" VALUES (%s, %s, %s, %s, %s)\"\r\n",
    "\r\n",
    "    try:\r\n",
    "        cur.execute(query, (1, \"Rubber Soul\", \"The Beatles\", 1965, \"Michelle\"))\r\n",
    "    except Exception as e:\r\n",
    "        print(e)\r\n",
    "\r\n",
    "    try:\r\n",
    "        cur.execute(query, (1, \"Rubber Soul\", \"The Beatles\", 1965, \"Think For Yourself\"))\r\n",
    "    except Exception as e:\r\n",
    "        print(e)\r\n",
    "\r\n",
    "    try:\r\n",
    "        cur.execute(query, (1, \"Rubber Soul\", \"The Beatles\", 1965, \"In My Life\"))\r\n",
    "    except Exception as e:\r\n",
    "        print(e)\r\n",
    "\r\n",
    "    try:\r\n",
    "        cur.execute(query, (2, \"Let It Be\", \"The Beatles\", 1970, \"Let It Be\"))\r\n",
    "    except Exception as e:\r\n",
    "        print(e)\r\n",
    "\r\n",
    "    try:\r\n",
    "        cur.execute(query, (2, \"Let It Be\", \"The Beatles\", 1970, \"Across The Universe\"))\r\n",
    "    except Exception as e:\r\n",
    "        print(e)"
   ],
   "outputs": [],
   "metadata": {}
  },
  {
   "cell_type": "markdown",
   "source": [
    "## Validate data"
   ],
   "metadata": {}
  },
  {
   "cell_type": "code",
   "execution_count": null,
   "source": [
    "try:\r\n",
    "    cur.execute(\"SELECT * FROM music_library2\")\r\n",
    "except Exception as e:\r\n",
    "    print(e)\r\n",
    "\r\n",
    "row = cur.fetchone()\r\n",
    "while row:\r\n",
    "    print(row)\r\n",
    "    row = cur.fetchone()"
   ],
   "outputs": [],
   "metadata": {}
  },
  {
   "cell_type": "markdown",
   "source": [
    "# Moving to 2NF"
   ],
   "metadata": {}
  },
  {
   "cell_type": "markdown",
   "source": [
    "## Create tables"
   ],
   "metadata": {}
  },
  {
   "cell_type": "code",
   "execution_count": null,
   "source": [
    "try:\r\n",
    "    cur.execute(\"CREATE TABLE IF NOT EXISTS album_library \\\r\n",
    "                (album_id int, album_name varchar, \\\r\n",
    "                artist_name varchar, year int);\")\r\n",
    "except Exception as e:\r\n",
    "    print(e)\r\n",
    "\r\n",
    "try:\r\n",
    "    cur.execute(\"CREATE TABLE IF NOT EXISTS song_library \\\r\n",
    "                (song_id int, album_id int, \\\r\n",
    "                song_name varchar);\")\r\n",
    "except Exception as e:\r\n",
    "    print(e)"
   ],
   "outputs": [],
   "metadata": {}
  },
  {
   "cell_type": "markdown",
   "source": [
    "## Insert data in album library"
   ],
   "metadata": {}
  },
  {
   "cell_type": "code",
   "execution_count": null,
   "source": [
    "query = \"INSERT INTO album_library (album_id, album_name, \\\r\n",
    "                artist_name, year)\"\r\n",
    "query = query + \" VALUES (%s, %s, %s, %s)\"\r\n",
    "\r\n",
    "try:\r\n",
    "    cur.execute(query, (1, \"Rubber Soul\", \"The Beatles\", 1965))\r\n",
    "except Exception as e:\r\n",
    "    print(e)\r\n",
    "\r\n",
    "try:\r\n",
    "    cur.execute(query, (2, \"Let It Be\", \"The Beatles\", 1970))\r\n",
    "except Exception as e:\r\n",
    "    print(e)"
   ],
   "outputs": [],
   "metadata": {}
  },
  {
   "cell_type": "markdown",
   "source": [
    "## Insert data in song library"
   ],
   "metadata": {}
  },
  {
   "cell_type": "code",
   "execution_count": null,
   "source": [
    "query = \"INSERT INTO song_library (song_id, album_id, \\\r\n",
    "                song_name)\"\r\n",
    "query = query + \" VALUES (%s, %s, %s)\"\r\n",
    "\r\n",
    "try:\r\n",
    "    cur.execute(query, (1, 1, \"Michelle\"))\r\n",
    "except Exception as e:\r\n",
    "    print(e)\r\n",
    "\r\n",
    "try:\r\n",
    "    cur.execute(query, (2, 1, \"Think For Yourself\"))\r\n",
    "except Exception as e:\r\n",
    "    print(e)\r\n",
    "\r\n",
    "try:\r\n",
    "    cur.execute(query, (3, 1, \"In My Life\"))\r\n",
    "except Exception as e:\r\n",
    "    print(e)\r\n",
    "\r\n",
    "try:\r\n",
    "    cur.execute(query, (4, 2, \"Let It Be\"))\r\n",
    "except Exception as e:\r\n",
    "    print(e)\r\n",
    "\r\n",
    "try:\r\n",
    "    cur.execute(query, (5, 2, \"Across The Universe\"))\r\n",
    "except Exception as e:\r\n",
    "    print(e)"
   ],
   "outputs": [],
   "metadata": {}
  },
  {
   "cell_type": "markdown",
   "source": [
    "## Validate data"
   ],
   "metadata": {}
  },
  {
   "cell_type": "code",
   "execution_count": null,
   "source": [
    "query = \"SELECT * FROM \"\r\n",
    "\r\n",
    "try:\r\n",
    "    cur.execute (query + \"album_library\")\r\n",
    "except Exception as e:\r\n",
    "    print(e)\r\n",
    "\r\n",
    "print(\"Display Album library\\n\")\r\n",
    "row = cur.fetchone()\r\n",
    "while row:\r\n",
    "    print(row)\r\n",
    "    row = cur.fetchone()\r\n",
    "\r\n",
    "try:\r\n",
    "    cur.execute (query + \"song_library\\n\")\r\n",
    "except Exception as e:\r\n",
    "    print(e)\r\n",
    "\r\n",
    "print(\"\\nDisplay Song library\")\r\n",
    "\r\n",
    "row = cur.fetchone()\r\n",
    "while row:\r\n",
    "    print(row)\r\n",
    "    row = cur.fetchone()"
   ],
   "outputs": [],
   "metadata": {}
  },
  {
   "cell_type": "markdown",
   "source": [
    "# JOIN tables"
   ],
   "metadata": {}
  },
  {
   "cell_type": "code",
   "execution_count": null,
   "source": [
    "try:\r\n",
    "    cur.execute(\"SELECT * FROM album_library JOIN\\\r\n",
    "                song_library ON album_library.album_id = song_library.album_id\")\r\n",
    "except psycopg2.Error as e:\r\n",
    "    print(e)\r\n",
    "\r\n",
    "row = cur.fetchone()\r\n",
    "while row:\r\n",
    "    print(row)\r\n",
    "    row = cur.fetchone()\r\n"
   ],
   "outputs": [],
   "metadata": {}
  },
  {
   "cell_type": "markdown",
   "source": [
    "# Moving to 3NF"
   ],
   "metadata": {}
  },
  {
   "cell_type": "markdown",
   "source": [
    "## Create tables"
   ],
   "metadata": {}
  },
  {
   "cell_type": "code",
   "execution_count": null,
   "source": [
    "try:\r\n",
    "    cur.execute(\"CREATE TABLE IF NOT EXISTS album_library2 \\\r\n",
    "                (album_id int, album_name varchar, \\\r\n",
    "                artist_id int, year int);\")\r\n",
    "except Exception as e:\r\n",
    "    print(e)\r\n",
    "\r\n",
    "try:\r\n",
    "    cur.execute(\"CREATE TABLE IF NOT EXISTS song_library \\\r\n",
    "                (song_id int, album_id int, \\\r\n",
    "                song_name varchar);\")\r\n",
    "except Exception as e:\r\n",
    "    print(e)\r\n",
    "\r\n",
    "try:\r\n",
    "    cur.execute(\"CREATE TABLE IF NOT EXISTS artist_library \\\r\n",
    "                (artist_id int, artist_name varchar);\")\r\n",
    "except Exception as e:\r\n",
    "    print(e)"
   ],
   "outputs": [],
   "metadata": {}
  },
  {
   "cell_type": "markdown",
   "source": [
    "## Insert data in album_library2"
   ],
   "metadata": {}
  },
  {
   "cell_type": "code",
   "execution_count": null,
   "source": [
    "query = \"INSERT INTO album_library2 (album_id, album_name, \\\r\n",
    "                artist_id, year)\"\r\n",
    "query = query + \" VALUES (%s, %s, %s, %s)\"\r\n",
    "\r\n",
    "try:\r\n",
    "    cur.execute(query, (1, \"Rubber Soul\", 1, 1965))\r\n",
    "except Exception as e:\r\n",
    "    print(e)\r\n",
    "\r\n",
    "try:\r\n",
    "    cur.execute(query, (2, \"Let It Be\", 1, 1970))\r\n",
    "except Exception as e:\r\n",
    "    print(e)"
   ],
   "outputs": [],
   "metadata": {}
  },
  {
   "cell_type": "markdown",
   "source": [
    "## Insert data in artist_library"
   ],
   "metadata": {}
  },
  {
   "cell_type": "code",
   "execution_count": null,
   "source": [
    "query = \"INSERT INTO artist_library (artist_id, artist_name)\"\r\n",
    "query = query + \" VALUES (%s, %s)\"\r\n",
    "\r\n",
    "try:\r\n",
    "    cur.execute(query, (1, \"The Beatles\"))\r\n",
    "except Exception as e:\r\n",
    "    print(e)"
   ],
   "outputs": [],
   "metadata": {}
  },
  {
   "cell_type": "markdown",
   "source": [
    "## Validate data"
   ],
   "metadata": {}
  },
  {
   "cell_type": "code",
   "execution_count": null,
   "source": [
    "query = \"SELECT * FROM \"\r\n",
    "\r\n",
    "try:\r\n",
    "    cur.execute (query + \"album_library2\")\r\n",
    "except Exception as e:\r\n",
    "    print(e)\r\n",
    "\r\n",
    "print(\"Display Album library 2\\n\")\r\n",
    "row = cur.fetchone()\r\n",
    "while row:\r\n",
    "    print(row)\r\n",
    "    row = cur.fetchone()\r\n",
    "\r\n",
    "try:\r\n",
    "    cur.execute (query + \"song_library\\n\")\r\n",
    "except Exception as e:\r\n",
    "    print(e)\r\n",
    "\r\n",
    "print(\"\\nDisplay Song library\")\r\n",
    "\r\n",
    "row = cur.fetchone()\r\n",
    "while row:\r\n",
    "    print(row)\r\n",
    "    row = cur.fetchone()\r\n",
    "\r\n",
    "try:\r\n",
    "    cur.execute (query + \"artist_library\\n\")\r\n",
    "except Exception as e:\r\n",
    "    print(e)\r\n",
    "\r\n",
    "print(\"\\nDisplay Artist library\")\r\n",
    "\r\n",
    "row = cur.fetchone()\r\n",
    "while row:\r\n",
    "    print(row)\r\n",
    "    row = cur.fetchone()"
   ],
   "outputs": [],
   "metadata": {}
  },
  {
   "cell_type": "markdown",
   "source": [
    "## JOIN Tables"
   ],
   "metadata": {}
  },
  {
   "cell_type": "code",
   "execution_count": null,
   "source": [
    "try:\r\n",
    "    cur.execute(\"SELECT * FROM (artist_library JOIN album_library2 \\\r\n",
    "                ON artist_library.artist_id = album_library2.artist_id) JOIN \\\r\n",
    "                song_library ON album_library2.album_id = song_library.album_id;\")\r\n",
    "except psycopg2.Error as e:\r\n",
    "    print(e)\r\n",
    "\r\n",
    "row = cur.fetchone()\r\n",
    "while row:\r\n",
    "    print(row)\r\n",
    "    row = cur.fetchone()"
   ],
   "outputs": [],
   "metadata": {}
  },
  {
   "cell_type": "markdown",
   "source": [
    "# DROP Tables"
   ],
   "metadata": {}
  },
  {
   "cell_type": "code",
   "execution_count": null,
   "source": [
    "try:\r\n",
    "    cur.execute(\"DROP table album_library\")\r\n",
    "except Exception as e:\r\n",
    "    print(e)\r\n",
    "\r\n",
    "try:\r\n",
    "    cur.execute(\"DROP table album_library2\")\r\n",
    "except Exception as e:\r\n",
    "    print(e)\r\n",
    "\r\n",
    "try:\r\n",
    "    cur.execute(\"DROP table artist_library\")\r\n",
    "except Exception as e:\r\n",
    "    print(e)\r\n",
    "\r\n",
    "try:\r\n",
    "    cur.execute(\"DROP table music_library\")\r\n",
    "except Exception as e:\r\n",
    "    print(e)\r\n",
    "\r\n",
    "try:\r\n",
    "    cur.execute(\"DROP table music_library2\")\r\n",
    "except Exception as e:\r\n",
    "    print(e)\r\n",
    "\r\n",
    "try:\r\n",
    "    cur.execute(\"DROP table song_library\")\r\n",
    "except Exception as e:\r\n",
    "    print(e)"
   ],
   "outputs": [],
   "metadata": {}
  },
  {
   "cell_type": "markdown",
   "source": [
    "# Close cursor and connection"
   ],
   "metadata": {}
  },
  {
   "cell_type": "code",
   "execution_count": null,
   "source": [
    "cur.close()\r\n",
    "conn.close()"
   ],
   "outputs": [],
   "metadata": {}
  }
 ],
 "metadata": {
  "orig_nbformat": 4,
  "language_info": {
   "name": "python",
   "version": "3.8.8",
   "mimetype": "text/x-python",
   "codemirror_mode": {
    "name": "ipython",
    "version": 3
   },
   "pygments_lexer": "ipython3",
   "nbconvert_exporter": "python",
   "file_extension": ".py"
  },
  "kernelspec": {
   "name": "python3",
   "display_name": "Python 3.8.8 64-bit ('base': conda)"
  },
  "interpreter": {
   "hash": "e254ffc773357790aa04a01fb60c7c6721ec5a0c6f1763bcb2e925b3d380624c"
  }
 },
 "nbformat": 4,
 "nbformat_minor": 2
}