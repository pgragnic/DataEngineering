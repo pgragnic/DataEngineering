{
 "cells": [
  {
   "cell_type": "markdown",
   "source": [
    "## Import the library"
   ],
   "metadata": {}
  },
  {
   "cell_type": "code",
   "execution_count": 20,
   "source": [
    "import psycopg2"
   ],
   "outputs": [],
   "metadata": {}
  },
  {
   "cell_type": "markdown",
   "source": [
    "## Create a connection to the database, get a cursor and set autocommit to true"
   ],
   "metadata": {}
  },
  {
   "cell_type": "code",
   "execution_count": 21,
   "source": [
    "try:\r\n",
    "    conn = psycopg2.connect(\"dbname=udacity user=udacity password=udacity\")\r\n",
    "except Exception as e:\r\n",
    "    print(e)\r\n",
    "\r\n",
    "try:\r\n",
    "    cur = conn.cursor()\r\n",
    "except Exception as e:\r\n",
    "    print(e)\r\n",
    "\r\n",
    "conn.set_session(autocommit=True)"
   ],
   "outputs": [],
   "metadata": {}
  },
  {
   "cell_type": "markdown",
   "source": [
    "## Create music_library table"
   ],
   "metadata": {}
  },
  {
   "cell_type": "code",
   "execution_count": 3,
   "source": [
    "try:\r\n",
    "    cur.execute(\"CREATE TABLE IF NOT EXISTS music_library (album_id int, \\\r\n",
    "                album_name varchar, artist_name varchar, \\\r\n",
    "                year int, songs text[]);\")\r\n",
    "except Exception as e:\r\n",
    "    print(e)\r\n",
    "\r\n",
    "\r\n",
    "query = \"INSERT INTO music_library (album_id, album_name, \\\r\n",
    "                artist_name, year, songs)\"\r\n",
    "query = query + \" VALUES (%s, %s, %s, %s, %s)\"\r\n",
    "\r\n",
    "try:\r\n",
    "    cur.execute(query, (1, \"Rubber Soul\", \"The Beatles\", 1965, [\"Michelle\", \"Think For Yourself\", \"In My Life\"]))\r\n",
    "except Exception as e:\r\n",
    "    print(e)\r\n",
    "\r\n",
    "try:\r\n",
    "    cur.execute(query, (2, \"Let It Be\", \"The Beatles\", 1970, [\"Let It Be\", \"Across The Universe\"]))\r\n",
    "except Exception as e:\r\n",
    "    print(e)\r\n",
    "\r\n",
    "try:\r\n",
    "    cur.execute(\"SELECT * FROM music_library;\")\r\n",
    "except Exception as e:\r\n",
    "    print(e)\r\n",
    "\r\n",
    "row = cur.fetchone()\r\n",
    "while row:\r\n",
    "    print(row)\r\n",
    "    row = cur.fetchone()\r\n"
   ],
   "outputs": [
    {
     "output_type": "stream",
     "name": "stdout",
     "text": [
      "(1, 'Rubber Soul', 'The Beatles', 1965, ['Michelle', 'Think For Yourself', 'In My Life'])\n",
      "(2, 'Let It Be', 'The Beatles', 1970, ['Let It Be', 'Across The Universe'])\n"
     ]
    }
   ],
   "metadata": {}
  },
  {
   "cell_type": "markdown",
   "source": [
    "# Moving to 1NF"
   ],
   "metadata": {}
  },
  {
   "cell_type": "markdown",
   "source": [
    "# Create table"
   ],
   "metadata": {}
  },
  {
   "cell_type": "code",
   "execution_count": 23,
   "source": [
    "try:\r\n",
    "    cur.execute(\"CREATE TABLE IF NOT EXISTS music_library2 (album_id int, \\\r\n",
    "                album_name varchar, artist_name varchar, \\\r\n",
    "                year int, song_name varchar);\")\r\n",
    "except Exception as e:\r\n",
    "    print(e)"
   ],
   "outputs": [],
   "metadata": {}
  },
  {
   "cell_type": "markdown",
   "source": [
    " ## Insert rows"
   ],
   "metadata": {}
  },
  {
   "cell_type": "code",
   "execution_count": 30,
   "source": [
    "    query = \"INSERT INTO music_library2 (album_id, album_name, \\\r\n",
    "                    artist_name, year, song_name)\"\r\n",
    "    query = query + \" VALUES (%s, %s, %s, %s, %s)\"\r\n",
    "\r\n",
    "    try:\r\n",
    "        cur.execute(query, (1, \"Rubber Soul\", \"The Beatles\", 1965, \"Michelle\"))\r\n",
    "    except Exception as e:\r\n",
    "        print(e)\r\n",
    "\r\n",
    "    try:\r\n",
    "        cur.execute(query, (1, \"Rubber Soul\", \"The Beatles\", 1965, \"Think For Yourself\"))\r\n",
    "    except Exception as e:\r\n",
    "        print(e)\r\n",
    "\r\n",
    "    try:\r\n",
    "        cur.execute(query, (1, \"Rubber Soul\", \"The Beatles\", 1965, \"In My Life\"))\r\n",
    "    except Exception as e:\r\n",
    "        print(e)\r\n",
    "\r\n",
    "    try:\r\n",
    "        cur.execute(query, (2, \"Let It Be\", \"The Beatles\", 1970, \"Let It Be\"))\r\n",
    "    except Exception as e:\r\n",
    "        print(e)\r\n",
    "\r\n",
    "    try:\r\n",
    "        cur.execute(query, (2, \"Let It Be\", \"The Beatles\", 1970, \"Across The Universe\"))\r\n",
    "    except Exception as e:\r\n",
    "        print(e)"
   ],
   "outputs": [
    {
     "output_type": "error",
     "ename": "KeyboardInterrupt",
     "evalue": "",
     "traceback": [
      "\u001b[1;31m---------------------------------------------------------------------------\u001b[0m",
      "\u001b[1;31mKeyboardInterrupt\u001b[0m                         Traceback (most recent call last)",
      "\u001b[1;32m<ipython-input-30-0aa3135b0375>\u001b[0m in \u001b[0;36m<module>\u001b[1;34m\u001b[0m\n\u001b[0;32m     19\u001b[0m \u001b[1;33m\u001b[0m\u001b[0m\n\u001b[0;32m     20\u001b[0m     \u001b[1;32mtry\u001b[0m\u001b[1;33m:\u001b[0m\u001b[1;33m\u001b[0m\u001b[1;33m\u001b[0m\u001b[0m\n\u001b[1;32m---> 21\u001b[1;33m         \u001b[0mcur\u001b[0m\u001b[1;33m.\u001b[0m\u001b[0mexecute\u001b[0m\u001b[1;33m(\u001b[0m\u001b[0mquery\u001b[0m\u001b[1;33m,\u001b[0m \u001b[1;33m(\u001b[0m\u001b[1;36m1\u001b[0m\u001b[1;33m,\u001b[0m \u001b[1;34m\"Rubber Soul\"\u001b[0m\u001b[1;33m,\u001b[0m \u001b[1;34m\"The Beatles\"\u001b[0m\u001b[1;33m,\u001b[0m \u001b[1;36m1965\u001b[0m\u001b[1;33m,\u001b[0m \u001b[1;34m\"In My Life\"\u001b[0m\u001b[1;33m)\u001b[0m\u001b[1;33m)\u001b[0m\u001b[1;33m\u001b[0m\u001b[1;33m\u001b[0m\u001b[0m\n\u001b[0m\u001b[0;32m     22\u001b[0m     \u001b[1;32mexcept\u001b[0m \u001b[0mException\u001b[0m \u001b[1;32mas\u001b[0m \u001b[0me\u001b[0m\u001b[1;33m:\u001b[0m\u001b[1;33m\u001b[0m\u001b[1;33m\u001b[0m\u001b[0m\n\u001b[0;32m     23\u001b[0m         \u001b[0mprint\u001b[0m\u001b[1;33m(\u001b[0m\u001b[0me\u001b[0m\u001b[1;33m)\u001b[0m\u001b[1;33m\u001b[0m\u001b[1;33m\u001b[0m\u001b[0m\n",
      "\u001b[1;32m~\\anaconda3\\lib\\encodings\\utf_8.py\u001b[0m in \u001b[0;36mdecode\u001b[1;34m(input, errors)\u001b[0m\n\u001b[0;32m     13\u001b[0m \u001b[0mencode\u001b[0m \u001b[1;33m=\u001b[0m \u001b[0mcodecs\u001b[0m\u001b[1;33m.\u001b[0m\u001b[0mutf_8_encode\u001b[0m\u001b[1;33m\u001b[0m\u001b[1;33m\u001b[0m\u001b[0m\n\u001b[0;32m     14\u001b[0m \u001b[1;33m\u001b[0m\u001b[0m\n\u001b[1;32m---> 15\u001b[1;33m \u001b[1;32mdef\u001b[0m \u001b[0mdecode\u001b[0m\u001b[1;33m(\u001b[0m\u001b[0minput\u001b[0m\u001b[1;33m,\u001b[0m \u001b[0merrors\u001b[0m\u001b[1;33m=\u001b[0m\u001b[1;34m'strict'\u001b[0m\u001b[1;33m)\u001b[0m\u001b[1;33m:\u001b[0m\u001b[1;33m\u001b[0m\u001b[1;33m\u001b[0m\u001b[0m\n\u001b[0m\u001b[0;32m     16\u001b[0m     \u001b[1;32mreturn\u001b[0m \u001b[0mcodecs\u001b[0m\u001b[1;33m.\u001b[0m\u001b[0mutf_8_decode\u001b[0m\u001b[1;33m(\u001b[0m\u001b[0minput\u001b[0m\u001b[1;33m,\u001b[0m \u001b[0merrors\u001b[0m\u001b[1;33m,\u001b[0m \u001b[1;32mTrue\u001b[0m\u001b[1;33m)\u001b[0m\u001b[1;33m\u001b[0m\u001b[1;33m\u001b[0m\u001b[0m\n\u001b[0;32m     17\u001b[0m \u001b[1;33m\u001b[0m\u001b[0m\n",
      "\u001b[1;31mKeyboardInterrupt\u001b[0m: "
     ]
    }
   ],
   "metadata": {}
  },
  {
   "cell_type": "markdown",
   "source": [
    "## Validate data"
   ],
   "metadata": {}
  },
  {
   "cell_type": "code",
   "execution_count": 25,
   "source": [
    "try:\r\n",
    "    cur.execute(\"SELECT * FROM music_library2\")\r\n",
    "except Exception as e:\r\n",
    "    print(e)\r\n",
    "\r\n",
    "row = cur.fetchone()\r\n",
    "while row:\r\n",
    "    print(row)\r\n",
    "    row = cur.fetchone()"
   ],
   "outputs": [
    {
     "output_type": "stream",
     "name": "stdout",
     "text": [
      "(1, 'Rubber Soul', 'The Beatles', 1965, 'Michelle')\n",
      "(1, 'Rubber Soul', 'The Beatles', 1965, 'Think For Yourself')\n",
      "(1, 'Rubber Soul', 'The Beatles', 1965, 'In My Life')\n",
      "(2, 'Let It Be', 'The Beatles', 1970, 'Let It Be')\n",
      "(2, 'Let It Be', 'The Beatles', 1970, 'Across The Universe')\n"
     ]
    }
   ],
   "metadata": {}
  },
  {
   "cell_type": "markdown",
   "source": [
    "# Moving to 2NF"
   ],
   "metadata": {}
  },
  {
   "cell_type": "markdown",
   "source": [
    "## Create tables"
   ],
   "metadata": {}
  },
  {
   "cell_type": "code",
   "execution_count": 7,
   "source": [
    "try:\r\n",
    "    cur.execute(\"CREATE TABLE IF NOT EXISTS album_library \\\r\n",
    "                (album_id int, album_name varchar, \\\r\n",
    "                artist_name varchar, year int);\")\r\n",
    "except Exception as e:\r\n",
    "    print(e)\r\n",
    "\r\n",
    "try:\r\n",
    "    cur.execute(\"CREATE TABLE IF NOT EXISTS song_library \\\r\n",
    "                (song_id int, album_id int, \\\r\n",
    "                song_name varchar);\")\r\n",
    "except Exception as e:\r\n",
    "    print(e)"
   ],
   "outputs": [],
   "metadata": {}
  },
  {
   "cell_type": "markdown",
   "source": [
    "## Insert data in album library"
   ],
   "metadata": {}
  },
  {
   "cell_type": "code",
   "execution_count": 8,
   "source": [
    "query = \"INSERT INTO album_library (album_id, album_name, \\\r\n",
    "                artist_name, year)\"\r\n",
    "query = query + \" VALUES (%s, %s, %s, %s)\"\r\n",
    "\r\n",
    "try:\r\n",
    "    cur.execute(query, (1, \"Rubber Soul\", \"The Beatles\", 1965))\r\n",
    "except Exception as e:\r\n",
    "    print(e)\r\n",
    "\r\n",
    "try:\r\n",
    "    cur.execute(query, (2, \"Let It Be\", \"The Beatles\", 1970))\r\n",
    "except Exception as e:\r\n",
    "    print(e)"
   ],
   "outputs": [],
   "metadata": {}
  },
  {
   "cell_type": "markdown",
   "source": [
    "## Insert data in song library"
   ],
   "metadata": {}
  },
  {
   "cell_type": "code",
   "execution_count": 9,
   "source": [
    "query = \"INSERT INTO song_library (song_id, album_id, \\\r\n",
    "                song_name)\"\r\n",
    "query = query + \" VALUES (%s, %s, %s)\"\r\n",
    "\r\n",
    "try:\r\n",
    "    cur.execute(query, (1, 1, \"Michelle\"))\r\n",
    "except Exception as e:\r\n",
    "    print(e)\r\n",
    "\r\n",
    "try:\r\n",
    "    cur.execute(query, (2, 1, \"Think For Yourself\"))\r\n",
    "except Exception as e:\r\n",
    "    print(e)\r\n",
    "\r\n",
    "try:\r\n",
    "    cur.execute(query, (3, 1, \"In My Life\"))\r\n",
    "except Exception as e:\r\n",
    "    print(e)\r\n",
    "\r\n",
    "try:\r\n",
    "    cur.execute(query, (4, 2, \"Let It Be\"))\r\n",
    "except Exception as e:\r\n",
    "    print(e)\r\n",
    "\r\n",
    "try:\r\n",
    "    cur.execute(query, (5, 2, \"Across The Universe\"))\r\n",
    "except Exception as e:\r\n",
    "    print(e)"
   ],
   "outputs": [],
   "metadata": {}
  },
  {
   "cell_type": "markdown",
   "source": [
    "## Validate data"
   ],
   "metadata": {}
  },
  {
   "cell_type": "code",
   "execution_count": 10,
   "source": [
    "query = \"SELECT * FROM \"\r\n",
    "\r\n",
    "try:\r\n",
    "    cur.execute (query + \"album_library\")\r\n",
    "except Exception as e:\r\n",
    "    print(e)\r\n",
    "\r\n",
    "print(\"Display Album library\\n\")\r\n",
    "row = cur.fetchone()\r\n",
    "while row:\r\n",
    "    print(row)\r\n",
    "    row = cur.fetchone()\r\n",
    "\r\n",
    "try:\r\n",
    "    cur.execute (query + \"song_library\\n\")\r\n",
    "except Exception as e:\r\n",
    "    print(e)\r\n",
    "\r\n",
    "print(\"\\nDisplay Song library\")\r\n",
    "\r\n",
    "row = cur.fetchone()\r\n",
    "while row:\r\n",
    "    print(row)\r\n",
    "    row = cur.fetchone()"
   ],
   "outputs": [
    {
     "output_type": "stream",
     "name": "stdout",
     "text": [
      "Display Album library\n",
      "\n",
      "(1, 'Rubber Soul', 'The Beatles', 1965)\n",
      "(2, 'Let It Be', 'The Beatles', 1970)\n",
      "\n",
      "Display Song library\n",
      "(1, 1, 'Michelle')\n",
      "(2, 1, 'Think For Yourself')\n",
      "(3, 1, 'In My Life')\n",
      "(4, 2, 'Let It Be')\n",
      "(5, 2, 'Across The Universe')\n"
     ]
    }
   ],
   "metadata": {}
  },
  {
   "cell_type": "markdown",
   "source": [
    "# JOIN tables"
   ],
   "metadata": {}
  },
  {
   "cell_type": "code",
   "execution_count": 11,
   "source": [
    "try:\r\n",
    "    cur.execute(\"SELECT * FROM album_library JOIN\\\r\n",
    "                song_library ON album_library.album_id = song_library.album_id\")\r\n",
    "except psycopg2.Error as e:\r\n",
    "    print(e)\r\n",
    "\r\n",
    "row = cur.fetchone()\r\n",
    "while row:\r\n",
    "    print(row)\r\n",
    "    row = cur.fetchone()\r\n"
   ],
   "outputs": [
    {
     "output_type": "stream",
     "name": "stdout",
     "text": [
      "(1, 'Rubber Soul', 'The Beatles', 1965, 1, 1, 'Michelle')\n",
      "(1, 'Rubber Soul', 'The Beatles', 1965, 2, 1, 'Think For Yourself')\n",
      "(1, 'Rubber Soul', 'The Beatles', 1965, 3, 1, 'In My Life')\n",
      "(2, 'Let It Be', 'The Beatles', 1970, 4, 2, 'Let It Be')\n",
      "(2, 'Let It Be', 'The Beatles', 1970, 5, 2, 'Across The Universe')\n"
     ]
    }
   ],
   "metadata": {}
  },
  {
   "cell_type": "markdown",
   "source": [
    "# Moving to 3NF"
   ],
   "metadata": {}
  },
  {
   "cell_type": "markdown",
   "source": [
    "## Create tables"
   ],
   "metadata": {}
  },
  {
   "cell_type": "code",
   "execution_count": 12,
   "source": [
    "try:\r\n",
    "    cur.execute(\"CREATE TABLE IF NOT EXISTS album_library2 \\\r\n",
    "                (album_id int, album_name varchar, \\\r\n",
    "                artist_id int, year int);\")\r\n",
    "except Exception as e:\r\n",
    "    print(e)\r\n",
    "\r\n",
    "try:\r\n",
    "    cur.execute(\"CREATE TABLE IF NOT EXISTS song_library \\\r\n",
    "                (song_id int, album_id int, \\\r\n",
    "                song_name varchar);\")\r\n",
    "except Exception as e:\r\n",
    "    print(e)\r\n",
    "\r\n",
    "try:\r\n",
    "    cur.execute(\"CREATE TABLE IF NOT EXISTS artist_library \\\r\n",
    "                (artist_id int, artist_name varchar);\")\r\n",
    "except Exception as e:\r\n",
    "    print(e)"
   ],
   "outputs": [],
   "metadata": {}
  },
  {
   "cell_type": "markdown",
   "source": [
    "## Insert data in album_library2"
   ],
   "metadata": {}
  },
  {
   "cell_type": "code",
   "execution_count": 13,
   "source": [
    "query = \"INSERT INTO album_library2 (album_id, album_name, \\\r\n",
    "                artist_id, year)\"\r\n",
    "query = query + \" VALUES (%s, %s, %s, %s)\"\r\n",
    "\r\n",
    "try:\r\n",
    "    cur.execute(query, (1, \"Rubber Soul\", 1, 1965))\r\n",
    "except Exception as e:\r\n",
    "    print(e)\r\n",
    "\r\n",
    "try:\r\n",
    "    cur.execute(query, (2, \"Let It Be\", 1, 1970))\r\n",
    "except Exception as e:\r\n",
    "    print(e)"
   ],
   "outputs": [],
   "metadata": {}
  },
  {
   "cell_type": "markdown",
   "source": [
    "## Insert data in artist_library"
   ],
   "metadata": {}
  },
  {
   "cell_type": "code",
   "execution_count": 14,
   "source": [
    "query = \"INSERT INTO artist_library (artist_id, artist_name)\"\r\n",
    "query = query + \" VALUES (%s, %s)\"\r\n",
    "\r\n",
    "try:\r\n",
    "    cur.execute(query, (1, \"The Beatles\"))\r\n",
    "except Exception as e:\r\n",
    "    print(e)"
   ],
   "outputs": [],
   "metadata": {}
  },
  {
   "cell_type": "markdown",
   "source": [
    "## Validate data"
   ],
   "metadata": {}
  },
  {
   "cell_type": "code",
   "execution_count": 15,
   "source": [
    "query = \"SELECT * FROM \"\r\n",
    "\r\n",
    "try:\r\n",
    "    cur.execute (query + \"album_library2\")\r\n",
    "except Exception as e:\r\n",
    "    print(e)\r\n",
    "\r\n",
    "print(\"Display Album library 2\\n\")\r\n",
    "row = cur.fetchone()\r\n",
    "while row:\r\n",
    "    print(row)\r\n",
    "    row = cur.fetchone()\r\n",
    "\r\n",
    "try:\r\n",
    "    cur.execute (query + \"song_library\\n\")\r\n",
    "except Exception as e:\r\n",
    "    print(e)\r\n",
    "\r\n",
    "print(\"\\nDisplay Song library\")\r\n",
    "\r\n",
    "row = cur.fetchone()\r\n",
    "while row:\r\n",
    "    print(row)\r\n",
    "    row = cur.fetchone()\r\n",
    "\r\n",
    "try:\r\n",
    "    cur.execute (query + \"artist_library\\n\")\r\n",
    "except Exception as e:\r\n",
    "    print(e)\r\n",
    "\r\n",
    "print(\"\\nDisplay Artist library\")\r\n",
    "\r\n",
    "row = cur.fetchone()\r\n",
    "while row:\r\n",
    "    print(row)\r\n",
    "    row = cur.fetchone()"
   ],
   "outputs": [
    {
     "output_type": "stream",
     "name": "stdout",
     "text": [
      "Display Album library 2\n",
      "\n",
      "(1, 'Rubber Soul', 1, 1965)\n",
      "(2, 'Let It Be', 1, 1970)\n",
      "\n",
      "Display Song library\n",
      "(1, 1, 'Michelle')\n",
      "(2, 1, 'Think For Yourself')\n",
      "(3, 1, 'In My Life')\n",
      "(4, 2, 'Let It Be')\n",
      "(5, 2, 'Across The Universe')\n",
      "\n",
      "Display Artist library\n",
      "(1, 'The Beatles')\n"
     ]
    }
   ],
   "metadata": {}
  },
  {
   "cell_type": "markdown",
   "source": [
    "## JOIN Tables"
   ],
   "metadata": {}
  },
  {
   "cell_type": "code",
   "execution_count": 16,
   "source": [
    "try:\r\n",
    "    cur.execute(\"SELECT * FROM (artist_library JOIN album_library2 \\\r\n",
    "                ON artist_library.artist_id = album_library2.artist_id) JOIN \\\r\n",
    "                song_library ON album_library2.album_id = song_library.album_id;\")\r\n",
    "except psycopg2.Error as e:\r\n",
    "    print(e)\r\n",
    "\r\n",
    "row = cur.fetchone()\r\n",
    "while row:\r\n",
    "    print(row)\r\n",
    "    row = cur.fetchone()"
   ],
   "outputs": [
    {
     "output_type": "stream",
     "name": "stdout",
     "text": [
      "(1, 'The Beatles', 1, 'Rubber Soul', 1, 1965, 1, 1, 'Michelle')\n",
      "(1, 'The Beatles', 1, 'Rubber Soul', 1, 1965, 2, 1, 'Think For Yourself')\n",
      "(1, 'The Beatles', 1, 'Rubber Soul', 1, 1965, 3, 1, 'In My Life')\n",
      "(1, 'The Beatles', 2, 'Let It Be', 1, 1970, 4, 2, 'Let It Be')\n",
      "(1, 'The Beatles', 2, 'Let It Be', 1, 1970, 5, 2, 'Across The Universe')\n"
     ]
    }
   ],
   "metadata": {}
  },
  {
   "cell_type": "markdown",
   "source": [
    "# DROP Tables"
   ],
   "metadata": {}
  },
  {
   "cell_type": "code",
   "execution_count": 17,
   "source": [
    "try:\r\n",
    "    cur.execute(\"DROP table album_library\")\r\n",
    "except Exception as e:\r\n",
    "    print(e)\r\n",
    "\r\n",
    "try:\r\n",
    "    cur.execute(\"DROP table album_library2\")\r\n",
    "except Exception as e:\r\n",
    "    print(e)\r\n",
    "\r\n",
    "try:\r\n",
    "    cur.execute(\"DROP table artist_library\")\r\n",
    "except Exception as e:\r\n",
    "    print(e)\r\n",
    "\r\n",
    "try:\r\n",
    "    cur.execute(\"DROP table music_library\")\r\n",
    "except Exception as e:\r\n",
    "    print(e)\r\n",
    "\r\n",
    "try:\r\n",
    "    cur.execute(\"DROP table music_library2\")\r\n",
    "except Exception as e:\r\n",
    "    print(e)\r\n",
    "\r\n",
    "try:\r\n",
    "    cur.execute(\"DROP table song_library\")\r\n",
    "except Exception as e:\r\n",
    "    print(e)"
   ],
   "outputs": [],
   "metadata": {}
  },
  {
   "cell_type": "markdown",
   "source": [
    "# Close cursor and connection"
   ],
   "metadata": {}
  },
  {
   "cell_type": "code",
   "execution_count": 18,
   "source": [
    "cur.close()\r\n",
    "conn.close()"
   ],
   "outputs": [],
   "metadata": {}
  }
 ],
 "metadata": {
  "orig_nbformat": 4,
  "language_info": {
   "name": "python",
   "version": "3.8.8",
   "mimetype": "text/x-python",
   "codemirror_mode": {
    "name": "ipython",
    "version": 3
   },
   "pygments_lexer": "ipython3",
   "nbconvert_exporter": "python",
   "file_extension": ".py"
  },
  "kernelspec": {
   "name": "python3",
   "display_name": "Python 3.8.8 64-bit ('base': conda)"
  },
  "interpreter": {
   "hash": "e254ffc773357790aa04a01fb60c7c6721ec5a0c6f1763bcb2e925b3d380624c"
  }
 },
 "nbformat": 4,
 "nbformat_minor": 2
}