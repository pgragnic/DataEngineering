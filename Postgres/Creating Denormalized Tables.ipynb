{
 "cells": [
  {
   "cell_type": "code",
   "execution_count": 1,
   "source": [
    "import psycopg2"
   ],
   "outputs": [],
   "metadata": {}
  },
  {
   "cell_type": "code",
   "execution_count": 2,
   "source": [
    "try:\r\n",
    "    conn = psycopg2.connect(\"dbname=udacity user=udacity password=udacity\")\r\n",
    "except Exception as e:\r\n",
    "    print(e)\r\n",
    "\r\n",
    "try:\r\n",
    "    cur = conn.cursor()\r\n",
    "except Exception as e:\r\n",
    "    print(e)\r\n",
    "\r\n",
    "conn.set_session(autocommit=True)\r\n"
   ],
   "outputs": [],
   "metadata": {}
  },
  {
   "cell_type": "markdown",
   "source": [
    "# Create All Tables"
   ],
   "metadata": {}
  },
  {
   "cell_type": "code",
   "execution_count": 3,
   "source": [
    "try:\r\n",
    "    cur.execute(\"CREATE TABLE IF NOT EXISTS album_library \\\r\n",
    "                (album_id int, album_name varchar, \\\r\n",
    "                artist_id int, year int);\")\r\n",
    "except Exception as e:\r\n",
    "    print(e)\r\n",
    "\r\n",
    "try:\r\n",
    "    cur.execute(\"CREATE TABLE IF NOT EXISTS artist_library \\\r\n",
    "                (artist_id int, artist_name varchar);\")\r\n",
    "except Exception as e:\r\n",
    "    print(e)\r\n",
    "\r\n",
    "try:\r\n",
    "    cur.execute(\"CREATE TABLE IF NOT EXISTS song_library \\\r\n",
    "                (song_id int, album_id int, \\\r\n",
    "                song_name varchar);\")\r\n",
    "except Exception as e:\r\n",
    "    print(e)\r\n",
    "\r\n",
    "try:\r\n",
    "    cur.execute(\"CREATE TABLE IF NOT EXISTS song_length \\\r\n",
    "                (song_id int, song_length int);\")\r\n",
    "except Exception as e:\r\n",
    "    print(e)"
   ],
   "outputs": [],
   "metadata": {}
  },
  {
   "cell_type": "markdown",
   "source": [
    "# Insert data"
   ],
   "metadata": {}
  },
  {
   "cell_type": "code",
   "execution_count": 4,
   "source": [
    "query = \"INSERT INTO album_library (album_id, album_name, \\\r\n",
    "                artist_id, year)\"\r\n",
    "query = query + \" VALUES (%s, %s, %s, %s)\"\r\n",
    "\r\n",
    "try:\r\n",
    "    cur.execute(query, (1, \"Rubber Soul\", 1, 1965))\r\n",
    "except Exception as e:\r\n",
    "    print(e)\r\n",
    "\r\n",
    "try:\r\n",
    "    cur.execute(query, (2, \"Let It Be\", 1, 1970))\r\n",
    "except Exception as e:\r\n",
    "    print(e)\r\n",
    "\r\n",
    "query = \"INSERT INTO song_library (song_id, album_id, \\\r\n",
    "                song_name)\"\r\n",
    "query = query + \" VALUES (%s, %s, %s)\"\r\n",
    "\r\n",
    "try:\r\n",
    "    cur.execute(query, (1, 1, \"Michelle\"))\r\n",
    "except Exception as e:\r\n",
    "    print(e)\r\n",
    "\r\n",
    "try:\r\n",
    "    cur.execute(query, (2, 1, \"Think For Yourself\"))\r\n",
    "except Exception as e:\r\n",
    "    print(e)\r\n",
    "\r\n",
    "try:\r\n",
    "    cur.execute(query, (3, 1, \"In My Life\"))\r\n",
    "except Exception as e:\r\n",
    "    print(e)\r\n",
    "\r\n",
    "try:\r\n",
    "    cur.execute(query, (4, 2, \"Let It Be\"))\r\n",
    "except Exception as e:\r\n",
    "    print(e)\r\n",
    "\r\n",
    "try:\r\n",
    "    cur.execute(query, (5, 2, \"Across The Universe\"))\r\n",
    "except Exception as e:\r\n",
    "    print(e)\r\n",
    "\r\n",
    "query = \"INSERT INTO artist_library (artist_id, artist_name)\"\r\n",
    "query = query + \" VALUES (%s, %s)\"\r\n",
    "\r\n",
    "try:\r\n",
    "    cur.execute(query, (1, \"The Beatles\"))\r\n",
    "except Exception as e:\r\n",
    "    print(e)\r\n",
    "\r\n",
    "query = \"INSERT INTO song_length (song_id, song_length)\"\r\n",
    "query = query + \" VALUES (%s, %s)\"\r\n",
    "\r\n",
    "try:\r\n",
    "    cur.execute(query, (1, 163))\r\n",
    "except Exception as e:\r\n",
    "    print(e)\r\n",
    "\r\n",
    "try:\r\n",
    "    cur.execute(query, (2, 137))\r\n",
    "except Exception as e:\r\n",
    "    print(e)\r\n",
    "\r\n",
    "try:\r\n",
    "    cur.execute(query, (3, 145))\r\n",
    "except Exception as e:\r\n",
    "    print(e)\r\n",
    "\r\n",
    "try:\r\n",
    "    cur.execute(query, (4, 240))\r\n",
    "except Exception as e:\r\n",
    "    print(e)\r\n",
    "\r\n",
    "try:\r\n",
    "    cur.execute(query, (5, 227))\r\n",
    "except Exception as e:\r\n",
    "    print(e)\r\n"
   ],
   "outputs": [],
   "metadata": {}
  },
  {
   "cell_type": "markdown",
   "source": [
    "# Validate data"
   ],
   "metadata": {}
  },
  {
   "cell_type": "code",
   "execution_count": 5,
   "source": [
    "query = \"SELECT * FROM \"\r\n",
    "\r\n",
    "try:\r\n",
    "    cur.execute (query + \"album_library\")\r\n",
    "except Exception as e:\r\n",
    "    print(e)\r\n",
    "\r\n",
    "print(\"Display Album library\")\r\n",
    "row = cur.fetchone()\r\n",
    "while row:\r\n",
    "    print(row)\r\n",
    "    row = cur.fetchone()\r\n",
    "\r\n",
    "try:\r\n",
    "    cur.execute (query + \"song_library\")\r\n",
    "except Exception as e:\r\n",
    "    print(e)\r\n",
    "\r\n",
    "print(\"\\nDisplay Song library\")\r\n",
    "\r\n",
    "row = cur.fetchone()\r\n",
    "while row:\r\n",
    "    print(row)\r\n",
    "    row = cur.fetchone()\r\n",
    "\r\n",
    "try:\r\n",
    "    cur.execute (query + \"artist_library\")\r\n",
    "except Exception as e:\r\n",
    "    print(e)\r\n",
    "\r\n",
    "print(\"\\nDisplay Artist library\")\r\n",
    "\r\n",
    "row = cur.fetchone()\r\n",
    "while row:\r\n",
    "    print(row)\r\n",
    "    row = cur.fetchone()\r\n",
    "\r\n",
    "try:\r\n",
    "    cur.execute (query + \"song_length\")\r\n",
    "except Exception as e:\r\n",
    "    print(e)\r\n",
    "\r\n",
    "print(\"\\nDisplay Song library\")\r\n",
    "\r\n",
    "row = cur.fetchone()\r\n",
    "while row:\r\n",
    "    print(row)\r\n",
    "    row = cur.fetchone()"
   ],
   "outputs": [
    {
     "output_type": "stream",
     "name": "stdout",
     "text": [
      "Display Album library\n",
      "(1, 'Rubber Soul', 1, 1965)\n",
      "(2, 'Let It Be', 1, 1970)\n",
      "\n",
      "Display Song library\n",
      "(1, 1, 'Michelle')\n",
      "(2, 1, 'Think For Yourself')\n",
      "(3, 1, 'In My Life')\n",
      "(4, 2, 'Let It Be')\n",
      "(5, 2, 'Across The Universe')\n",
      "\n",
      "Display Artist library\n",
      "(1, 'The Beatles')\n",
      "\n",
      "Display Song library\n",
      "(1, 163)\n",
      "(2, 137)\n",
      "(3, 145)\n",
      "(4, 240)\n",
      "(5, 227)\n"
     ]
    }
   ],
   "metadata": {}
  },
  {
   "cell_type": "markdown",
   "source": [
    "# JOIN Tables"
   ],
   "metadata": {}
  },
  {
   "cell_type": "code",
   "execution_count": 6,
   "source": [
    "try:\r\n",
    "    cur.execute(\"SELECT artist_library.artist_id, artist_name, \\\r\n",
    "                album_library.album_id, album_name, year, \\\r\n",
    "                song_library.song_id, song_name, song_length \\\r\n",
    "                FROM (artist_library \\\r\n",
    "                JOIN album_library ON artist_library.artist_id = album_library.artist_id) \\\r\n",
    "                JOIN song_library ON album_library.album_id = song_library.album_id \\\r\n",
    "                JOIN song_length ON song_library.song_id = song_length.song_id \\\r\n",
    "                ;\")\r\n",
    "except psycopg2.Error as e:\r\n",
    "    print(e)\r\n",
    "\r\n",
    "row = cur.fetchone()\r\n",
    "while row:\r\n",
    "    print(row)\r\n",
    "    row = cur.fetchone()"
   ],
   "outputs": [
    {
     "output_type": "stream",
     "name": "stdout",
     "text": [
      "(1, 'The Beatles', 1, 'Rubber Soul', 1965, 1, 'Michelle', 163)\n",
      "(1, 'The Beatles', 1, 'Rubber Soul', 1965, 2, 'Think For Yourself', 137)\n",
      "(1, 'The Beatles', 1, 'Rubber Soul', 1965, 3, 'In My Life', 145)\n",
      "(1, 'The Beatles', 2, 'Let It Be', 1970, 4, 'Let It Be', 240)\n",
      "(1, 'The Beatles', 2, 'Let It Be', 1970, 5, 'Across The Universe', 227)\n"
     ]
    }
   ],
   "metadata": {}
  },
  {
   "cell_type": "markdown",
   "source": [
    "try:\r\n",
    "    cur.execute(\"DROP table album_library\")\r\n",
    "except Exception as e:\r\n",
    "    print(e)\r\n",
    "\r\n",
    "\r\n",
    "try:\r\n",
    "    cur.execute(\"DROP table artist_library\")\r\n",
    "except Exception as e:\r\n",
    "    print(e)\r\n",
    "\r\n",
    "\r\n",
    "try:\r\n",
    "    cur.execute(\"DROP table song_library\")\r\n",
    "except Exception as e:\r\n",
    "    print(e)\r\n",
    "\r\n",
    "try:\r\n",
    "    cur.execute(\"DROP table song_length\")\r\n",
    "except Exception as e:\r\n",
    "    print(e)"
   ],
   "metadata": {}
  },
  {
   "cell_type": "markdown",
   "source": [
    "# Start denormalization"
   ],
   "metadata": {}
  },
  {
   "cell_type": "markdown",
   "source": [
    "## Create tables"
   ],
   "metadata": {}
  },
  {
   "cell_type": "code",
   "execution_count": 7,
   "source": [
    "try:\r\n",
    "    cur.execute(\"CREATE TABLE IF NOT EXISTS album_library1 \\\r\n",
    "                (album_id int, album_name varchar, \\\r\n",
    "                artist_name varchar, year int);\")\r\n",
    "except Exception as e:\r\n",
    "    print(e)\r\n",
    "\r\n",
    "try:\r\n",
    "    cur.execute(\"CREATE TABLE IF NOT EXISTS song_library1 \\\r\n",
    "                (song_id int, album_id int, \\\r\n",
    "                song_name varchar, song_length int);\")\r\n",
    "except Exception as e:\r\n",
    "    print(e)"
   ],
   "outputs": [],
   "metadata": {}
  },
  {
   "cell_type": "markdown",
   "source": [
    "## Insert data"
   ],
   "metadata": {}
  },
  {
   "cell_type": "code",
   "execution_count": 8,
   "source": [
    "query = \"INSERT INTO album_library1 (album_id, album_name, \\\r\n",
    "                artist_name, year)\"\r\n",
    "query = query + \" VALUES (%s, %s, %s, %s)\"\r\n",
    "\r\n",
    "try:\r\n",
    "    cur.execute(query, (1, \"Rubber Soul\", \"The Beatles\", 1965))\r\n",
    "except Exception as e:\r\n",
    "    print(e)\r\n",
    "\r\n",
    "try:\r\n",
    "    cur.execute(query, (2, \"Let It Be\", \"The Beatles\", 1970))\r\n",
    "except Exception as e:\r\n",
    "    print(e)\r\n",
    "\r\n",
    "query = \"INSERT INTO song_library1 (song_id, album_id, \\\r\n",
    "                song_name, song_length)\"\r\n",
    "query = query + \" VALUES (%s, %s, %s, %s)\"\r\n",
    "\r\n",
    "try:\r\n",
    "    cur.execute(query, (1, 1, \"Michelle\", 163))\r\n",
    "except Exception as e:\r\n",
    "    print(e)\r\n",
    "\r\n",
    "try:\r\n",
    "    cur.execute(query, (2, 1, \"Think For Yourself\", 137))\r\n",
    "except Exception as e:\r\n",
    "    print(e)\r\n",
    "\r\n",
    "try:\r\n",
    "    cur.execute(query, (3, 1, \"In My Life\", 145))\r\n",
    "except Exception as e:\r\n",
    "    print(e)\r\n",
    "\r\n",
    "try:\r\n",
    "    cur.execute(query, (4, 2, \"Let It Be\", 240))\r\n",
    "except Exception as e:\r\n",
    "    print(e)\r\n",
    "\r\n",
    "try:\r\n",
    "    cur.execute(query, (5, 2, \"Across The Universe\", 227))\r\n",
    "except Exception as e:\r\n",
    "    print(e)\r\n",
    "\r\n",
    "query = \"INSERT INTO artist_library (artist_id, artist_name)\"\r\n",
    "query = query + \" VALUES (%s, %s)\"\r\n",
    "\r\n",
    "try:\r\n",
    "    cur.execute(query, (1, \"The Beatles\"))\r\n",
    "except Exception as e:\r\n",
    "    print(e)\r\n",
    "\r\n",
    "query = \"INSERT INTO song_length (song_id, song_length)\"\r\n",
    "query = query + \" VALUES (%s, %s)\"\r\n",
    "\r\n",
    "try:\r\n",
    "    cur.execute(query, (1, 163))\r\n",
    "except Exception as e:\r\n",
    "    print(e)\r\n",
    "\r\n",
    "try:\r\n",
    "    cur.execute(query, (2, 137))\r\n",
    "except Exception as e:\r\n",
    "    print(e)\r\n",
    "\r\n",
    "try:\r\n",
    "    cur.execute(query, (3, 145))\r\n",
    "except Exception as e:\r\n",
    "    print(e)\r\n",
    "\r\n",
    "try:\r\n",
    "    cur.execute(query, (4, 240))\r\n",
    "except Exception as e:\r\n",
    "    print(e)\r\n",
    "\r\n",
    "try:\r\n",
    "    cur.execute(query, (5, 227))\r\n",
    "except Exception as e:\r\n",
    "    print(e)\r\n"
   ],
   "outputs": [],
   "metadata": {}
  },
  {
   "cell_type": "markdown",
   "source": [
    "## Validate data"
   ],
   "metadata": {}
  },
  {
   "cell_type": "code",
   "execution_count": 9,
   "source": [
    "query = \"SELECT * FROM \"\r\n",
    "\r\n",
    "try:\r\n",
    "    cur.execute (query + \"album_library1\")\r\n",
    "except Exception as e:\r\n",
    "    print(e)\r\n",
    "\r\n",
    "print(\"Display Album library\")\r\n",
    "row = cur.fetchone()\r\n",
    "while row:\r\n",
    "    print(row)\r\n",
    "    row = cur.fetchone()\r\n",
    "\r\n",
    "try:\r\n",
    "    cur.execute (query + \"song_library1\")\r\n",
    "except Exception as e:\r\n",
    "    print(e)\r\n",
    "\r\n",
    "print(\"\\nDisplay Song library\")\r\n",
    "\r\n",
    "row = cur.fetchone()\r\n",
    "while row:\r\n",
    "    print(row)\r\n",
    "    row = cur.fetchone()"
   ],
   "outputs": [
    {
     "output_type": "stream",
     "name": "stdout",
     "text": [
      "Display Album library\n",
      "(1, 'Rubber Soul', 'The Beatles', 1965)\n",
      "(2, 'Let It Be', 'The Beatles', 1970)\n",
      "\n",
      "Display Song library\n",
      "(1, 1, 'Michelle', 163)\n",
      "(2, 1, 'Think For Yourself', 137)\n",
      "(3, 1, 'In My Life', 145)\n",
      "(4, 2, 'Let It Be', 240)\n",
      "(5, 2, 'Across The Universe', 227)\n"
     ]
    }
   ],
   "metadata": {}
  },
  {
   "cell_type": "markdown",
   "source": [
    "## JOIN Tables"
   ],
   "metadata": {}
  },
  {
   "cell_type": "code",
   "execution_count": 10,
   "source": [
    "try:\r\n",
    "    cur.execute(\"SELECT artist_name, album_name, year, \\\r\n",
    "                song_name, song_length \\\r\n",
    "                FROM song_library1 \\\r\n",
    "                JOIN album_library1 ON song_library1.album_id = album_library1.album_id \\\r\n",
    "                ;\")\r\n",
    "except psycopg2.Error as e:\r\n",
    "    print(e)\r\n",
    "\r\n",
    "row = cur.fetchone()\r\n",
    "while row:\r\n",
    "    print(row)\r\n",
    "    row = cur.fetchone()"
   ],
   "outputs": [
    {
     "output_type": "stream",
     "name": "stdout",
     "text": [
      "('The Beatles', 'Rubber Soul', 1965, 'Michelle', 163)\n",
      "('The Beatles', 'Rubber Soul', 1965, 'Think For Yourself', 137)\n",
      "('The Beatles', 'Rubber Soul', 1965, 'In My Life', 145)\n",
      "('The Beatles', 'Let It Be', 1970, 'Let It Be', 240)\n",
      "('The Beatles', 'Let It Be', 1970, 'Across The Universe', 227)\n"
     ]
    }
   ],
   "metadata": {}
  },
  {
   "cell_type": "markdown",
   "source": [
    "## Create album_length table"
   ],
   "metadata": {}
  },
  {
   "cell_type": "code",
   "execution_count": 11,
   "source": [
    "try:\r\n",
    "    cur.execute(\"CREATE TABLE IF NOT EXISTS album_length (song_id int, album_name varchar, \\\r\n",
    "                song_length int);\")\r\n",
    "except Exception as e:\r\n",
    "    print(e)        "
   ],
   "outputs": [],
   "metadata": {}
  },
  {
   "cell_type": "markdown",
   "source": [
    "## Data ingestion is done in anoher script (Ingest data from another table.ipynb)"
   ],
   "metadata": {}
  },
  {
   "cell_type": "code",
   "execution_count": 12,
   "source": [
    "import Ingest_data_from_another_table"
   ],
   "outputs": [
    {
     "output_type": "stream",
     "name": "stdout",
     "text": [
      "ERREUR:  la table « album_legnth » n'existe pas\n",
      "\n"
     ]
    }
   ],
   "metadata": {}
  },
  {
   "cell_type": "markdown",
   "source": [
    "## Run SQL query"
   ],
   "metadata": {}
  },
  {
   "cell_type": "code",
   "execution_count": 13,
   "source": [
    "try:\r\n",
    "    cur.execute(\"SELECT album_name, SUM(song_length) FROM album_length GROUP BY album_name\")\r\n",
    "except Exception as e:\r\n",
    "    print(e)\r\n",
    "\r\n",
    "row = cur.fetchone()\r\n",
    "while row:\r\n",
    "    print(row)\r\n",
    "    row = cur.fetchone()"
   ],
   "outputs": [
    {
     "output_type": "stream",
     "name": "stdout",
     "text": [
      "('Rubber Soul', 445)\n",
      "('Let It Be', 467)\n"
     ]
    }
   ],
   "metadata": {}
  }
 ],
 "metadata": {
  "orig_nbformat": 4,
  "language_info": {
   "name": "python",
   "version": "3.8.8",
   "mimetype": "text/x-python",
   "codemirror_mode": {
    "name": "ipython",
    "version": 3
   },
   "pygments_lexer": "ipython3",
   "nbconvert_exporter": "python",
   "file_extension": ".py"
  },
  "kernelspec": {
   "name": "python3",
   "display_name": "Python 3.8.8 64-bit ('base': conda)"
  },
  "interpreter": {
   "hash": "e254ffc773357790aa04a01fb60c7c6721ec5a0c6f1763bcb2e925b3d380624c"
  }
 },
 "nbformat": 4,
 "nbformat_minor": 2
}