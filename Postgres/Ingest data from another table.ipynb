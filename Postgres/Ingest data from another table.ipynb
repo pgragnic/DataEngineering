{
 "cells": [
  {
   "cell_type": "code",
   "execution_count": 2,
   "source": [
    "import psycopg2"
   ],
   "outputs": [],
   "metadata": {}
  },
  {
   "cell_type": "code",
   "execution_count": 3,
   "source": [
    "try:\r\n",
    "    conn = psycopg2.connect(\"dbname=udacity user=udacity password=udacity\")\r\n",
    "except Exception as e:\r\n",
    "    print(e)\r\n",
    "\r\n",
    "try:\r\n",
    "    cur = conn.cursor()\r\n",
    "except Exception as e:\r\n",
    "    print(e)\r\n",
    "\r\n",
    "conn.set_session(autocommit=True)"
   ],
   "outputs": [],
   "metadata": {}
  },
  {
   "cell_type": "markdown",
   "source": [
    "## DROP album_legth table"
   ],
   "metadata": {}
  },
  {
   "cell_type": "code",
   "execution_count": 4,
   "source": [
    "try:\r\n",
    "    cur.execute(\"DROP TABLE album_legnth\")\r\n",
    "except Exception as e:\r\n",
    "    print(e)"
   ],
   "outputs": [
    {
     "output_type": "error",
     "ename": "UndefinedTable",
     "evalue": "ERREUR:  la table « album_legnth » n'existe pas\n",
     "traceback": [
      "\u001b[1;31m---------------------------------------------------------------------------\u001b[0m",
      "\u001b[1;31mUndefinedTable\u001b[0m                            Traceback (most recent call last)",
      "\u001b[1;32m<ipython-input-4-102be8dd8141>\u001b[0m in \u001b[0;36m<module>\u001b[1;34m\u001b[0m\n\u001b[1;32m----> 1\u001b[1;33m \u001b[0mcur\u001b[0m\u001b[1;33m.\u001b[0m\u001b[0mexecute\u001b[0m\u001b[1;33m(\u001b[0m\u001b[1;34m\"DROP TABLE album_legnth\"\u001b[0m\u001b[1;33m)\u001b[0m\u001b[1;33m\u001b[0m\u001b[1;33m\u001b[0m\u001b[0m\n\u001b[0m",
      "\u001b[1;31mUndefinedTable\u001b[0m: ERREUR:  la table « album_legnth » n'existe pas\n"
     ]
    }
   ],
   "metadata": {}
  },
  {
   "cell_type": "markdown",
   "source": [
    "## Create album_length table"
   ],
   "metadata": {}
  },
  {
   "cell_type": "code",
   "execution_count": 3,
   "source": [
    "try:\r\n",
    "    cur.execute(\"CREATE TABLE IF NOT EXISTS album_length (song_id int, album_name varchar, \\\r\n",
    "                song_length int);\")\r\n",
    "except Exception as e:\r\n",
    "    print(e)        "
   ],
   "outputs": [],
   "metadata": {}
  },
  {
   "cell_type": "markdown",
   "source": [
    "## Select source data"
   ],
   "metadata": {}
  },
  {
   "cell_type": "code",
   "execution_count": 4,
   "source": [
    "songs = []\r\n",
    "\r\n",
    "cur.execute(\"SELECT song_id, song_length, album_id FROM song_library1\")\r\n",
    "\r\n",
    "songs_row = cur.fetchone()\r\n",
    "while songs_row:\r\n",
    "    songs.append(songs_row)\r\n",
    "    songs_row = cur.fetchone()\r\n",
    "\r\n",
    "print (songs)\r\n",
    "\r\n",
    "albums = {}\r\n",
    "\r\n",
    "cur.execute(\"SELECT album_id, album_name FROM album_library1\")\r\n",
    "\r\n",
    "albums_row = cur.fetchone()\r\n",
    "while albums_row:\r\n",
    "    albums[albums_row[0]] = albums_row[1]\r\n",
    "    albums_row = cur.fetchone()\r\n",
    "\r\n",
    "print(albums)"
   ],
   "outputs": [
    {
     "output_type": "stream",
     "name": "stdout",
     "text": [
      "[(1, 163, 1), (2, 137, 1), (3, 145, 1), (4, 240, 2), (5, 227, 2)]\n",
      "{1: 'Rubber Soul', 2: 'Let It Be'}\n"
     ]
    }
   ],
   "metadata": {}
  },
  {
   "cell_type": "code",
   "execution_count": null,
   "source": [
    "for song in songs:\r\n",
    "    cur.execute(\"INSERT INTO album_length \" \\\r\n",
    "                 \"VALUES(%s, %s, %s)\" \\\r\n",
    "                ,(song[0], albums.get(song[2]), (song[1])))"
   ],
   "outputs": [],
   "metadata": {}
  }
 ],
 "metadata": {
  "orig_nbformat": 4,
  "language_info": {
   "name": "python",
   "version": "3.8.8",
   "mimetype": "text/x-python",
   "codemirror_mode": {
    "name": "ipython",
    "version": 3
   },
   "pygments_lexer": "ipython3",
   "nbconvert_exporter": "python",
   "file_extension": ".py"
  },
  "kernelspec": {
   "name": "python3",
   "display_name": "Python 3.8.8 64-bit ('base': conda)"
  },
  "interpreter": {
   "hash": "e254ffc773357790aa04a01fb60c7c6721ec5a0c6f1763bcb2e925b3d380624c"
  }
 },
 "nbformat": 4,
 "nbformat_minor": 2
}