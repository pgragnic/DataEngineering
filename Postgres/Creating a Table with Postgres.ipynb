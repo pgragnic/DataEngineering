{
 "cells": [
  {
   "cell_type": "markdown",
   "source": [
    "Import the library"
   ],
   "metadata": {}
  },
  {
   "cell_type": "code",
   "execution_count": 1,
   "source": [
    "import psycopg2"
   ],
   "outputs": [],
   "metadata": {}
  },
  {
   "cell_type": "markdown",
   "source": [
    "First let's create a connection to the database"
   ],
   "metadata": {}
  },
  {
   "cell_type": "code",
   "execution_count": 2,
   "source": [
    "try:\r\n",
    "    conn = psycopg2.connect(\"host=127.0.0.1 dbname=studentdb user=studentdb password=studentdb\")\r\n",
    "except psycopg2.Error as e:\r\n",
    "    print(\"Error: Could not make connection to the Postgres database\")\r\n",
    "    print(e)"
   ],
   "outputs": [],
   "metadata": {}
  },
  {
   "cell_type": "markdown",
   "source": [
    "Next use that to get cursor that we will use to execute queries"
   ],
   "metadata": {}
  },
  {
   "cell_type": "code",
   "execution_count": 3,
   "source": [
    "try:\r\n",
    "    cur = conn.cursor()\r\n",
    "except:\r\n",
    "    print(\"Error: Could not get cursor to the database\")\r\n",
    "    print(e)"
   ],
   "outputs": [],
   "metadata": {}
  },
  {
   "cell_type": "markdown",
   "source": [
    "Use autocommit for this demo"
   ],
   "metadata": {}
  },
  {
   "cell_type": "code",
   "execution_count": 4,
   "source": [
    "conn.set_session(autocommit=True)"
   ],
   "outputs": [],
   "metadata": {}
  },
  {
   "cell_type": "markdown",
   "source": [
    "Let's create a database to do our work in"
   ],
   "metadata": {}
  },
  {
   "cell_type": "code",
   "execution_count": 5,
   "source": [
    "try:\r\n",
    "    cur.execute(\"create database udacity\")\r\n",
    "except psycopg2.Error as e:\r\n",
    "    print(e)"
   ],
   "outputs": [
    {
     "output_type": "stream",
     "name": "stdout",
     "text": [
      "ERREUR:  la base de données « udacity » existe déjà\n",
      "\n"
     ]
    }
   ],
   "metadata": {}
  },
  {
   "cell_type": "markdown",
   "source": [
    "Close our connection to studentdb database, reconnect to the Udacity database and get a cursor."
   ],
   "metadata": {}
  },
  {
   "cell_type": "code",
   "execution_count": 6,
   "source": [
    "try:\r\n",
    "    conn.close()\r\n",
    "except psycopg2.Error as e:\r\n",
    "    print(e)\r\n",
    "\r\n",
    "try:\r\n",
    "    conn = psycopg2.connect(\"dbname=udacity user=udacity password=udacity\")\r\n",
    "except psycopg2.Error as e:\r\n",
    "    print(e)\r\n",
    "\r\n",
    "try:\r\n",
    "    cur = conn.cursor()\r\n",
    "except psycopg2.Error as e:\r\n",
    "    print(e)\r\n",
    "\r\n",
    "conn.set_session(autocommit=True)"
   ],
   "outputs": [],
   "metadata": {}
  },
  {
   "cell_type": "markdown",
   "source": [
    "Create a table"
   ],
   "metadata": {}
  },
  {
   "cell_type": "code",
   "execution_count": 9,
   "source": [
    "try:\r\n",
    "    cur.execute(\"CREATE TABLE IF NOT EXISTS music_library (song_title varchar, artist_name varchar, year int, album_name varchar, single boolean);\")\r\n",
    "except psycopg2.Error as e:\r\n",
    "    print(e)"
   ],
   "outputs": [],
   "metadata": {}
  },
  {
   "cell_type": "code",
   "execution_count": 10,
   "source": [
    "try:\r\n",
    "    cur.execute(\"select count(*) from music_library\")\r\n",
    "except psycopg2.Error as e:\r\n",
    "    print(e)\r\n",
    "\r\n",
    "print(cur.fetchall())"
   ],
   "outputs": [
    {
     "output_type": "stream",
     "name": "stdout",
     "text": [
      "[(0,)]\n"
     ]
    }
   ],
   "metadata": {}
  },
  {
   "cell_type": "markdown",
   "source": [
    "Insert two rows"
   ],
   "metadata": {}
  },
  {
   "cell_type": "code",
   "execution_count": 12,
   "source": [
    "try:\r\n",
    "    cur.execute(\"INSERT INTO music_library (song_title, artist_name, year, album_name, single) \\\r\n",
    "                VALUES (%s, %s, %s, %s, %s)\", \\\r\n",
    "                (\"Across The Universe\", \"The Beatles\", 1970, \"Let It Be\", False ))\r\n",
    "except psycopg2.Error as e:\r\n",
    "    print(e)\r\n",
    "\r\n",
    "try:\r\n",
    "    cur.execute(\"INSERT INTO music_library (song_title, artist_name, year, album_name, single) \\\r\n",
    "                VALUES (%s, %s, %s, %s, %s)\", \\\r\n",
    "                (\"Think For Yourself\", \"The Beatles\", 1965, \"Rubber Soul\", False ))\r\n",
    "except psycopg2.Error as e:\r\n",
    "    print(e)"
   ],
   "outputs": [],
   "metadata": {}
  },
  {
   "cell_type": "markdown",
   "source": [
    "Validate your data was inserted into the table"
   ],
   "metadata": {}
  },
  {
   "cell_type": "code",
   "execution_count": 13,
   "source": [
    "try:\r\n",
    "    cur.execute(\"SELECT * FROM music_library;\")\r\n",
    "except psycopg2.Error as e:\r\n",
    "    print(e)\r\n",
    "\r\n",
    "row = cur.fetchone()\r\n",
    "while row:\r\n",
    "    print (row)\r\n",
    "    row = cur.fetchone()"
   ],
   "outputs": [
    {
     "output_type": "stream",
     "name": "stdout",
     "text": [
      "('Across The Universe', 'The Beatles', 1970, 'Let It Be', False)\n",
      "('Think For Yourself', 'The Beatles', 1965, 'Rubber Soul', False)\n"
     ]
    }
   ],
   "metadata": {}
  },
  {
   "cell_type": "markdown",
   "source": [
    "For the sake of the demo I will drop the table"
   ],
   "metadata": {}
  },
  {
   "cell_type": "code",
   "execution_count": 7,
   "source": [
    "try:\r\n",
    "    cur.execute(\"DROP table music_library\")\r\n",
    "except psycopg2.Error as e:\r\n",
    "    print(e)"
   ],
   "outputs": [
    {
     "output_type": "stream",
     "name": "stdout",
     "text": [
      "ERREUR:  la table « music_library » n'existe pas\n",
      "\n"
     ]
    }
   ],
   "metadata": {}
  },
  {
   "cell_type": "markdown",
   "source": [
    "And finally close your cursor and connection"
   ],
   "metadata": {}
  },
  {
   "cell_type": "code",
   "execution_count": 14,
   "source": [
    "cur.close()\r\n",
    "conn.close()"
   ],
   "outputs": [],
   "metadata": {}
  }
 ],
 "metadata": {
  "orig_nbformat": 4,
  "language_info": {
   "name": "python",
   "version": "3.8.8",
   "mimetype": "text/x-python",
   "codemirror_mode": {
    "name": "ipython",
    "version": 3
   },
   "pygments_lexer": "ipython3",
   "nbconvert_exporter": "python",
   "file_extension": ".py"
  },
  "kernelspec": {
   "name": "python3",
   "display_name": "Python 3.8.8 64-bit ('base': conda)"
  },
  "interpreter": {
   "hash": "e254ffc773357790aa04a01fb60c7c6721ec5a0c6f1763bcb2e925b3d380624c"
  }
 },
 "nbformat": 4,
 "nbformat_minor": 2
}